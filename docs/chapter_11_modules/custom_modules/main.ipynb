{
 "cells": [
  {
   "cell_type": "code",
   "execution_count": 14,
   "id": "afc13306",
   "metadata": {},
   "outputs": [],
   "source": [
    "from config import USERNAME, EMAIL, PASSWORD"
   ]
  },
  {
   "cell_type": "code",
   "execution_count": 15,
   "id": "e0a515b2",
   "metadata": {},
   "outputs": [
    {
     "name": "stdout",
     "output_type": "stream",
     "text": [
      "NirajanBekoju nirajan.bekoju@gmail.com 123456789\n"
     ]
    }
   ],
   "source": [
    "print(USERNAME, EMAIL, PASSWORD)"
   ]
  },
  {
   "cell_type": "code",
   "execution_count": 1,
   "id": "430bb771",
   "metadata": {},
   "outputs": [],
   "source": [
    "from custom_modules.arithmetic_operation import add, subtract, divide"
   ]
  },
  {
   "cell_type": "code",
   "execution_count": 2,
   "id": "187fb841",
   "metadata": {},
   "outputs": [
    {
     "data": {
      "text/plain": [
       "30"
      ]
     },
     "execution_count": 2,
     "metadata": {},
     "output_type": "execute_result"
    }
   ],
   "source": [
    "add(10, 20)"
   ]
  },
  {
   "cell_type": "code",
   "execution_count": 3,
   "id": "e0a7e430",
   "metadata": {},
   "outputs": [
    {
     "data": {
      "text/plain": [
       "-10"
      ]
     },
     "execution_count": 3,
     "metadata": {},
     "output_type": "execute_result"
    }
   ],
   "source": [
    "subtract(20, 30)"
   ]
  },
  {
   "cell_type": "code",
   "execution_count": 4,
   "id": "5cecd395",
   "metadata": {},
   "outputs": [
    {
     "data": {
      "text/plain": [
       "0.5"
      ]
     },
     "execution_count": 4,
     "metadata": {},
     "output_type": "execute_result"
    }
   ],
   "source": [
    "divide(10, 20)"
   ]
  },
  {
   "cell_type": "code",
   "execution_count": 16,
   "id": "c1640f04",
   "metadata": {},
   "outputs": [],
   "source": [
    "from custom_modules.bank_account import BankAccount"
   ]
  },
  {
   "cell_type": "code",
   "execution_count": 17,
   "id": "3e25353f",
   "metadata": {},
   "outputs": [
    {
     "name": "stdout",
     "output_type": "stream",
     "text": [
      "Your balance is 100\n"
     ]
    }
   ],
   "source": [
    "nirajan_account = BankAccount(1239812, 'Nirajan Bekoju', 100)\n",
    "nirajan_account.viewBalance()"
   ]
  }
 ],
 "metadata": {
  "kernelspec": {
   "display_name": "python_tutorial",
   "language": "python",
   "name": "python3"
  },
  "language_info": {
   "codemirror_mode": {
    "name": "ipython",
    "version": 3
   },
   "file_extension": ".py",
   "mimetype": "text/x-python",
   "name": "python",
   "nbconvert_exporter": "python",
   "pygments_lexer": "ipython3",
   "version": "3.13.4"
  }
 },
 "nbformat": 4,
 "nbformat_minor": 5
}
