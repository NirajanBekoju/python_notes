{
 "cells": [
  {
   "cell_type": "markdown",
   "id": "de69ee8d",
   "metadata": {},
   "source": [
    "# Modules\n",
    "Up until now, our entire code has been on one single file.\n",
    "\n",
    "But in real life, this isn't the case. We have a lot of code we can't just have one file with thousands line of code.\n",
    "\n",
    "**So, how do we stay origanised?**\n",
    "\n",
    "If we have multiple files of python as our project is getting bigger and bigger, there should be the way for us to link all of these files together.\n",
    "\n",
    "\"A **module** in Python is a file containing Python code (functions, classes, or variables) that can be imported and used in other Python programs. Modules help organize code, promote reusability, and make projects easier to manage.\"\n",
    "\n",
    "Each individual Python file is a modules."
   ]
  },
  {
   "cell_type": "code",
   "execution_count": null,
   "id": "3433b880",
   "metadata": {},
   "outputs": [],
   "source": [
    "# utility.py\n",
    "def multiply(num1, num2):\n",
    "    return num1*num2\n",
    "\n",
    "def divide(num1, num2):\n",
    "    return num1/num2\n",
    "\n",
    "# main.py\n",
    "import utility  # not utility.py\n",
    "print(utility)\n",
    "print(utility.multiply(3, 5))"
   ]
  },
  {
   "cell_type": "markdown",
   "id": "0061ccb3",
   "metadata": {},
   "source": [
    "The way we comunicate between python files is quite simple\n",
    "\n",
    "**import \\<file name\\>**\n",
    "\n",
    "When we use module, we always generate py_cache folder `(__pycache__)`. After importing modules, we have access to it's function, classes, etc."
   ]
  },
  {
   "cell_type": "markdown",
   "id": "6298535c",
   "metadata": {},
   "source": [
    "# Package\n",
    "A package is a folder containing modules.\n",
    "\n",
    "    Shopping\n",
    "        Shopping_cart.py\n",
    "        Utility.py\n",
    "        __init__.py\n",
    "\n",
    "`Shopping` is a package containing `shopping_cart.py` and `utility.py` modules. \n",
    "\n",
    "When creating the package, \\_\\_init\\_\\_ should be created. This file can be empty. This initializes the package.\n",
    "\n",
    "Package can be accessed as \n",
    "\n",
    "`import \\<package-name\\>.\\<module-name\\>`"
   ]
  },
  {
   "cell_type": "code",
   "execution_count": null,
   "id": "d968a0c7",
   "metadata": {},
   "outputs": [],
   "source": [
    "# Shopping_cart.py\n",
    "def buy(item):\n",
    "    cart = []\n",
    "    cart.append(item)\n",
    "    return cart\n",
    "\n",
    "\n",
    "# main.py\n",
    "import utility\n",
    "import shopping.shopping_cart\n",
    "\n",
    "print(shopping.shopping_cart.buy('apple'))"
   ]
  },
  {
   "cell_type": "markdown",
   "id": "cbed67bb",
   "metadata": {},
   "source": [
    "We can also import modules and functions as:"
   ]
  },
  {
   "cell_type": "code",
   "execution_count": null,
   "id": "965e0f71",
   "metadata": {},
   "outputs": [],
   "source": [
    "from utility import multiply, divide\n",
    "from shopping import shopping_Cart  # This is more useful due to ambiguity"
   ]
  },
  {
   "cell_type": "markdown",
   "id": "47627298",
   "metadata": {},
   "source": [
    "Instead of importing function, importing modules is more feasible.\n",
    "\n",
    "For example: Shopping cart has buy function and Utility has also buy function. If we import buy the it gets overidden.\n",
    "\n",
    "#### Wildcard import"
   ]
  },
  {
   "cell_type": "code",
   "execution_count": null,
   "id": "2899ec53",
   "metadata": {},
   "outputs": [],
   "source": [
    "from utility import * # This means import everything."
   ]
  },
  {
   "cell_type": "markdown",
   "id": "68bdab43",
   "metadata": {},
   "source": [
    "## name(__name__)\n",
    "`name` simply returns the module name. \n",
    "\n",
    "**Note:** Main file always return `__main__` even if the file name is not main."
   ]
  },
  {
   "cell_type": "code",
   "execution_count": null,
   "id": "fb5b7b66",
   "metadata": {},
   "outputs": [],
   "source": [
    "print(__name__) \n",
    "\n",
    "if __name__ == \"__main__\":\n",
    "    pass"
   ]
  },
  {
   "cell_type": "markdown",
   "id": "e43a29c0",
   "metadata": {},
   "source": [
    "This means only run the code if you are on main file."
   ]
  },
  {
   "cell_type": "markdown",
   "id": "28fbb32d",
   "metadata": {},
   "source": [
    "## Alias\n",
    "We can also import modules as "
   ]
  },
  {
   "cell_type": "code",
   "execution_count": null,
   "id": "f5faa9e0",
   "metadata": {},
   "outputs": [],
   "source": [
    "from shopping import shopping_cart as cart\n",
    "\n",
    "cart.buy('apple')"
   ]
  },
  {
   "cell_type": "markdown",
   "id": "42b88e7c",
   "metadata": {},
   "source": [
    "## Sys module\n",
    "This module helps to take input parameter from the user along with file wile running from terminal.\n",
    "\n",
    "**Syntax:** sys.argv[<parameter_index>]\n",
    "\n",
    "**Note:** First index will always be file name."
   ]
  },
  {
   "cell_type": "code",
   "execution_count": null,
   "id": "ca9d5bbf",
   "metadata": {},
   "outputs": [],
   "source": [
    "# main.py\n",
    "import sys\n",
    "\n",
    "num1 = int(sys.argv[1])\n",
    "num2 = int(sys.argv[2])\n",
    "\n",
    "print(num1 + num2)"
   ]
  },
  {
   "cell_type": "markdown",
   "id": "fa9d518d",
   "metadata": {},
   "source": [
    "```\n",
    "**Example:** > python main.py 4 7\n",
    "\n",
    "**Output:** 11"
   ]
  },
  {
   "cell_type": "markdown",
   "id": "1e9678fa",
   "metadata": {},
   "source": [
    "### Exercise: Build a Number Guessing Game Using `sys` and `random` Modules\n",
    "\n",
    "Create a fun number guessing game in Python! Your program will:\n",
    "\n",
    "- Take a range of numbers (e.g., 1 to 10) as input from the command line using the `sys` module.\n",
    "- Use the `random` module to secretly pick a random number within that range.\n",
    "- Ask the user to guess a number and check if it matches the random number.\n",
    "- Keep asking for guesses until the user gets it right.\n",
    "- If the guess is correct, print: \"Congratulation!!! You guessed the number.\"\n",
    "- If the guess is wrong, print: \"Try again!!!\"\n",
    "- If the user enters a number outside the range or invalid input (e.g., letters), handle it with a `ValueError` and print: \"Idiot!!! I said number between [first] and [last].\"\n",
    "\n",
    "**Hint**:\n",
    "```python\n",
    "import random\n",
    "random_number = random.randint(first, last)"
   ]
  },
  {
   "cell_type": "code",
   "execution_count": null,
   "id": "62babb6e",
   "metadata": {},
   "outputs": [],
   "source": [
    "# Solution\n",
    "import random\n",
    "import sys\n",
    "\n",
    "first = int(sys.argv[1])\n",
    "last = int(sys.argv[2])\n",
    "\n",
    "random_number = random.randint(first, last)\n",
    "\n",
    "while True:\n",
    "    try:\n",
    "        number = int(input(f\"Enter number between {first} and {last}?\"))\n",
    "        if first <= number <= last:\n",
    "            if number == random_number:\n",
    "                print(\"Congratulation!!! You guessed the number.\\n\")\n",
    "                break\n",
    "            else:\n",
    "                print(\"Try again!!!\\n\")\n",
    "        else:\n",
    "            raise ValueError\n",
    "    except ValueError:\n",
    "        print(f\"Idiot!!! I said number between {first} ad {last}\\n\")"
   ]
  },
  {
   "cell_type": "code",
   "execution_count": null,
   "id": "0f6695b1",
   "metadata": {},
   "outputs": [],
   "source": []
  }
 ],
 "metadata": {
  "kernelspec": {
   "display_name": "env",
   "language": "python",
   "name": "python3"
  },
  "language_info": {
   "codemirror_mode": {
    "name": "ipython",
    "version": 3
   },
   "file_extension": ".py",
   "mimetype": "text/x-python",
   "name": "python",
   "nbconvert_exporter": "python",
   "pygments_lexer": "ipython3",
   "version": "3.12.4"
  }
 },
 "nbformat": 4,
 "nbformat_minor": 5
}
