{
 "cells": [
  {
   "cell_type": "markdown",
   "id": "591e3942",
   "metadata": {},
   "source": [
    "# Python Modules: Importing Custom, Standard, and Third-Party\n",
    "- A module is simply a file containing Python code. It may define functions, classes, and variables that you can reuse in other programs.\n",
    "\n",
    "| Type        | Example           | Description         |\n",
    "| ----------- | ----------------- | ------------------- |\n",
    "| Standard    | `import math`     | Comes with Python   |\n",
    "| Custom      | `import mymodule` | User-defined module |\n",
    "| Third-Party | `import requests` | Installed via pip   |\n"
   ]
  },
  {
   "cell_type": "markdown",
   "id": "ad7b3aaa",
   "metadata": {},
   "source": [
    "## Math Module\n",
    "| Method            | Description                                  | Example                          |\n",
    "|-------------------|----------------------------------------------|---------------------------------|\n",
    "| `math.sqrt(x)`    | Returns the square root of `x`.               | `math.sqrt(16)` → `4.0`          |\n",
    "| `math.ceil(x)`    | Returns the smallest integer ≥ `x` (ceiling).| `math.ceil(4.2)` → `5`           |\n",
    "| `math.floor(x)`   | Returns the largest integer ≤ `x` (floor).   | `math.floor(4.8)` → `4`          |\n",
    "| `math.factorial(x)`| Returns factorial of `x` (x!).                | `math.factorial(5)` → `120`      |\n",
    "| `math.pow(x, y)`  | Returns `x` raised to the power `y` (x^y).   | `math.pow(2, 3)` → `8.0`         |\n",
    "| `math.exp(x)`     | Returns e^x, the exponential of `x`.          | `math.exp(1)` → `2.718281828...` |\n",
    "| `math.log(x)`     | Returns natural logarithm (base e) of `x`.   | `math.log(math.e)` → `1.0`       |\n",
    "| `math.log10(x)`   | Returns base-10 logarithm of `x`.             | `math.log10(1000)` → `3.0`       |\n",
    "| `math.sin(x)`     | Returns sine of `x` (x in radians).           | `math.sin(math.pi/2)` → `1.0`    |\n",
    "| `math.cos(x)`     | Returns cosine of `x` (x in radians).         | `math.cos(0)` → `1.0`            |\n",
    "| `math.tan(x)`     | Returns tangent of `x` (x in radians).        | `math.tan(0)` → `0.0`            |\n",
    "| `math.degrees(x)` | Converts radians to degrees.                   | `math.degrees(math.pi)` → `180`  |\n",
    "| `math.radians(x)` | Converts degrees to radians.                   | `math.radians(180)` → `3.14159`  |\n",
    "| `math.isclose(a, b, rel_tol=1e-9)` | Checks if `a` and `b` are approximately equal. | `math.isclose(0.1+0.2, 0.3)` → `True` |\n",
    "| `math.gcd(a, b)`  | Returns greatest common divisor of `a` and `b`.| `math.gcd(12, 18)` → `6`         |\n",
    "| `math.fabs(x)`    | Returns the absolute value of `x` (float).    | `math.fabs(-5.5)` → `5.5`        |\n"
   ]
  },
  {
   "cell_type": "code",
   "execution_count": 1,
   "id": "a101a7de",
   "metadata": {},
   "outputs": [],
   "source": [
    "import math"
   ]
  },
  {
   "cell_type": "code",
   "execution_count": 2,
   "id": "d46995b7",
   "metadata": {},
   "outputs": [
    {
     "data": {
      "text/plain": [
       "3.141592653589793"
      ]
     },
     "execution_count": 2,
     "metadata": {},
     "output_type": "execute_result"
    }
   ],
   "source": [
    "math.pi"
   ]
  },
  {
   "cell_type": "code",
   "execution_count": 3,
   "id": "40c3642b",
   "metadata": {},
   "outputs": [
    {
     "data": {
      "text/plain": [
       "4.0"
      ]
     },
     "execution_count": 3,
     "metadata": {},
     "output_type": "execute_result"
    }
   ],
   "source": [
    "math.sqrt(16)"
   ]
  },
  {
   "cell_type": "code",
   "execution_count": 4,
   "id": "6c8a609d",
   "metadata": {},
   "outputs": [
    {
     "data": {
      "text/plain": [
       "56"
      ]
     },
     "execution_count": 4,
     "metadata": {},
     "output_type": "execute_result"
    }
   ],
   "source": [
    "math.ceil(55.7)"
   ]
  },
  {
   "cell_type": "code",
   "execution_count": 5,
   "id": "0cfabeb4",
   "metadata": {},
   "outputs": [
    {
     "data": {
      "text/plain": [
       "100"
      ]
     },
     "execution_count": 5,
     "metadata": {},
     "output_type": "execute_result"
    }
   ],
   "source": [
    "math.floor(100.2)"
   ]
  },
  {
   "cell_type": "code",
   "execution_count": null,
   "id": "bb2eba8e",
   "metadata": {},
   "outputs": [],
   "source": []
  }
 ],
 "metadata": {
  "kernelspec": {
   "display_name": "python_tutorial",
   "language": "python",
   "name": "python3"
  },
  "language_info": {
   "codemirror_mode": {
    "name": "ipython",
    "version": 3
   },
   "file_extension": ".py",
   "mimetype": "text/x-python",
   "name": "python",
   "nbconvert_exporter": "python",
   "pygments_lexer": "ipython3",
   "version": "3.13.4"
  }
 },
 "nbformat": 4,
 "nbformat_minor": 5
}
