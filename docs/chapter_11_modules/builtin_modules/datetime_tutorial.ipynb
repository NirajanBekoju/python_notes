{
 "cells": [
  {
   "cell_type": "markdown",
   "metadata": {},
   "source": [
    "# Datetime Module"
   ]
  },
  {
   "cell_type": "markdown",
   "metadata": {},
   "source": [
    "The `datetime` module in Python is used to work with **dates and times**. It provides classes for manipulating both dates and times in both simple and complex ways."
   ]
  },
  {
   "cell_type": "markdown",
   "metadata": {},
   "source": [
    "## Commonly Used Datetime Methods\n",
    "\n",
    "| Method / Attribute                | Description                                                                 | Example                                                                                 |\n",
    "|----------------------------------|-----------------------------------------------------------------------------|-----------------------------------------------------------------------------------------|\n",
    "| `datetime.now()`                 | Returns the current local date and time                                     | `datetime.now()` → `2025-06-14 22:00:00`                                               |\n",
    "| `datetime.today()`              | Returns the current local date and time (same as `now()` without tz info)   | `datetime.today()` → `2025-06-14 22:00:00`                                             |\n",
    "| `datetime.utcnow()`              | Returns the current UTC date and time                                       | `datetime.utcnow()` → `2025-06-14 16:15:30`                                            |\n",
    "| `datetime.strptime(date_str, format)` | Parses a string into a datetime object using a specified format      | `datetime.strptime(\"2025-06-14\", \"%Y-%m-%d\")` → `datetime.datetime(2025, 6, 14, 0, 0)`  |\n",
    "| `datetime.strftime(format)`      | Formats a datetime object as a string according to the format string        | `dt.strftime(\"%d-%b-%Y\")` → `'14-Jun-2025'`                                            |\n",
    "| `datetime.date()`                | Extracts the date part from a datetime object                               | `dt.date()` → `2025-06-14`                                                             |\n",
    "| `datetime.time()`                | Extracts the time part from a datetime object                               | `dt.time()` → `22:00:00`                                                               |\n",
    "| `datetime.replace()`             | Replaces one or more components of a datetime object                        | `dt.replace(year=2026)` → `2026-06-14 22:00:00`                                        |\n",
    "| `datetime.combine(date, time)`  | Combines a date and a time into a datetime object                           | `datetime.combine(date(2025,6,14), time(12,30))` → `2025-06-14 12:30:00`               |\n",
    "| `datetime.timedelta(days=1)`     | Represents a duration; used for arithmetic with dates/times                 | `dt + timedelta(days=1)` → `2025-06-15 22:00:00`                                       |\n",
    "| `datetime.fromtimestamp(ts)`     | Converts a timestamp (seconds since epoch) to a datetime object             | `datetime.fromtimestamp(1700000000)` → `2023-11-14 00:53:20`                           |\n",
    "| `datetime.timestamp()`           | Converts a datetime object to a POSIX timestamp                             | `dt.timestamp()` → `1750000000.0`                                                      |\n",
    "| `datetime.weekday()`             | Returns the day of the week as an integer (Monday=0, Sunday=6)              | `dt.weekday()` → `5`                                                                   |\n",
    "| `datetime.isoweekday()`          | Returns the day of the week as an integer (Monday=1, Sunday=7)              | `dt.isoweekday()` → `6`                                                                |\n",
    "| `datetime.isoformat()`           | Returns a string in ISO 8601 format                                         | `dt.isoformat()` → `'2025-06-14T22:00:00'`                                             |\n",
    "\n",
    "> Note: `dt` refers to a datetime object created using `datetime.now()` or similar methods.\n"
   ]
  },
  {
   "cell_type": "code",
   "execution_count": 21,
   "metadata": {},
   "outputs": [],
   "source": [
    "from datetime import datetime"
   ]
  },
  {
   "cell_type": "code",
   "execution_count": 41,
   "metadata": {},
   "outputs": [
    {
     "name": "stdout",
     "output_type": "stream",
     "text": [
      "2025-06-14 22:14:58.977277\n"
     ]
    },
    {
     "data": {
      "text/plain": [
       "5"
      ]
     },
     "execution_count": 41,
     "metadata": {},
     "output_type": "execute_result"
    }
   ],
   "source": [
    "print(datetime.today())\n",
    "datetime.today().weekday()"
   ]
  },
  {
   "cell_type": "code",
   "execution_count": 22,
   "metadata": {},
   "outputs": [
    {
     "name": "stdout",
     "output_type": "stream",
     "text": [
      "<class 'datetime.datetime'>\n",
      "Now: 2025-06-14 22:07:14.958088\n"
     ]
    }
   ],
   "source": [
    "# Get Current Date and Time\n",
    "now = datetime.now()\n",
    "print(type(now))\n",
    "print(\"Now:\", now)"
   ]
  },
  {
   "cell_type": "code",
   "execution_count": 25,
   "metadata": {},
   "outputs": [
    {
     "name": "stdout",
     "output_type": "stream",
     "text": [
      "Formatted: 2025-06-14 22:07:14\n"
     ]
    }
   ],
   "source": [
    "# 6. Format a DateTime (strftime)\n",
    "formatted = now.strftime(\"%Y-%m-%d %H:%M:%S\")\n",
    "print(\"Formatted:\", formatted)"
   ]
  },
  {
   "cell_type": "code",
   "execution_count": 27,
   "metadata": {},
   "outputs": [
    {
     "name": "stdout",
     "output_type": "stream",
     "text": [
      "Parsed datetime: 2023-06-14 15:30:00\n"
     ]
    }
   ],
   "source": [
    "# 7. Parse String to DateTime (strptime)\n",
    "date_str = \"2023-06-14 15:30:00\"\n",
    "dt = datetime.strptime(date_str, \"%Y-%m-%d %H:%M:%S\")\n",
    "print(\"Parsed datetime:\", dt)"
   ]
  },
  {
   "cell_type": "code",
   "execution_count": 35,
   "metadata": {},
   "outputs": [
    {
     "name": "stdout",
     "output_type": "stream",
     "text": [
      "Tomorrow: 2025-06-16 10:00:00\n",
      "Yesterday: 2025-06-14 10:00:00\n"
     ]
    }
   ],
   "source": [
    "# 8. Date Arithmetic with timedelta\n",
    "from datetime import timedelta\n",
    "\n",
    "today = datetime.strptime('2025-06-15 10:00', '%Y-%m-%d %H:%M')\n",
    "\n",
    "tomorrow = today + timedelta(days=1)\n",
    "yesterday = today - timedelta(days=1)\n",
    "\n",
    "print(\"Tomorrow:\", tomorrow)\n",
    "print(\"Yesterday:\", yesterday)"
   ]
  },
  {
   "cell_type": "code",
   "execution_count": 37,
   "metadata": {},
   "outputs": [
    {
     "name": "stdout",
     "output_type": "stream",
     "text": [
      "Time Difference :  7:15:00\n",
      "Difference in hours: 7.25\n"
     ]
    }
   ],
   "source": [
    "### Calculate Hour Difference between two datetime\n",
    "from datetime import datetime\n",
    "\n",
    "dt1 = datetime(2025, 6, 14, 8, 30)  \n",
    "dt2 = datetime(2025, 6, 14, 15, 45)  \n",
    "\n",
    "# Calculate the difference\n",
    "time_diff = dt2 - dt1\n",
    "print('Time Difference : ', time_diff)\n",
    "\n",
    "# Get the difference in hours\n",
    "hours_diff = time_diff.total_seconds() / 3600\n",
    "\n",
    "print(f\"Difference in hours: {hours_diff:.2f}\")"
   ]
  },
  {
   "cell_type": "markdown",
   "metadata": {},
   "source": [
    "## Bonus: Useful Format Codes"
   ]
  },
  {
   "cell_type": "markdown",
   "metadata": {},
   "source": [
    "| Code | Meaning | Example |\n",
    "|------|---------|---------|\n",
    "| `%Y` | Year (4 digits) | 2025 |\n",
    "| `%m` | Month (01–12) | 06 |\n",
    "| `%d` | Day of month | 14 |\n",
    "| `%H` | Hour (24-hour) | 15 |\n",
    "| `%M` | Minute | 30 |\n",
    "| `%S` | Second | 45 |"
   ]
  }
 ],
 "metadata": {
  "kernelspec": {
   "display_name": "python_tutorial",
   "language": "python",
   "name": "python3"
  },
  "language_info": {
   "codemirror_mode": {
    "name": "ipython",
    "version": 3
   },
   "file_extension": ".py",
   "mimetype": "text/x-python",
   "name": "python",
   "nbconvert_exporter": "python",
   "pygments_lexer": "ipython3",
   "version": "3.13.4"
  }
 },
 "nbformat": 4,
 "nbformat_minor": 2
}
