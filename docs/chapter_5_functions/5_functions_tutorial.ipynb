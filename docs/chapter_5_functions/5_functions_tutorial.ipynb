{
 "cells": [
  {
   "cell_type": "markdown",
   "id": "ea0797b6",
   "metadata": {},
   "source": [
    "# Python Functions Tutorial"
   ]
  },
  {
   "cell_type": "markdown",
   "id": "201c9a72",
   "metadata": {},
   "source": [
    "## 1. Function Definition, Parameters, and Return Statements"
   ]
  },
  {
   "cell_type": "markdown",
   "id": "09c45884",
   "metadata": {},
   "source": [
    "\n",
    "- Functions are defined using the `def` keyword.\n",
    "- Parameters are inputs to functions.\n",
    "- `return` sends back a result from the function.\n"
   ]
  },
  {
   "cell_type": "code",
   "execution_count": null,
   "id": "eccb9e78",
   "metadata": {},
   "outputs": [
    {
     "name": "stdout",
     "output_type": "stream",
     "text": [
      "Hello, Alice!\n"
     ]
    }
   ],
   "source": [
    "def greet(name):\n",
    "    greeting_sentence = f\"Hello, {name}!\" \n",
    "    return greeting_sentence\n",
    "\n",
    "greeting_sentence = greet(\"Alice\")\n",
    "print(greeting_sentence)"
   ]
  },
  {
   "cell_type": "code",
   "execution_count": 4,
   "id": "f85028db",
   "metadata": {},
   "outputs": [
    {
     "data": {
      "text/plain": [
       "False"
      ]
     },
     "execution_count": 4,
     "metadata": {},
     "output_type": "execute_result"
    }
   ],
   "source": [
    "def is_even(n):\n",
    "    if n % 2 == 0:\n",
    "        return True\n",
    "    else:\n",
    "        return False \n",
    "\n",
    "number = 5\n",
    "is_even(number)"
   ]
  },
  {
   "cell_type": "code",
   "execution_count": 5,
   "id": "d2f04edb",
   "metadata": {},
   "outputs": [
    {
     "name": "stdout",
     "output_type": "stream",
     "text": [
      "[1, 2, 6, 5, 8, 2]\n"
     ]
    }
   ],
   "source": [
    "def sqaure_cube(number_list):\n",
    "    print(number_list)\n",
    "\n",
    "num_list = [1, 2, 6, 5, 8, 2]\n",
    "sqaure_cube(num_list)"
   ]
  },
  {
   "cell_type": "markdown",
   "id": "96f1f203",
   "metadata": {},
   "source": [
    "## Exercise 1\n",
    "#### Q1 : Write a function area_of_rectangle(length, width) that returns the area of a rectangle.\n",
    "\n",
    "#### Q2 : Create a function is_even(number) that returns True if the number is even, otherwise False.\n",
    "\n",
    "#### Q3 : Create a function that takes a list of number as parameter, and return the list with sqaure of even numbers and cube of odd numbers. The order of number should be preserved.\n",
    "\n",
    "```\n",
    "Input : [5, 3, 6, 7, 1, 2]\n",
    "\n",
    "Output : [125, 27, 36, 343, 1, 4]\n",
    "```\n",
    "\n",
    "#### Q4 : Write a Python function that takes a list of words as input and returns a dictionary showing how many times each word appears in the list.\n",
    "\n",
    "```\n",
    "Input : \n",
    "\n",
    "words = ['apple', 'banana', 'apple', 'orange', 'banana', 'apple']\n",
    "\n",
    "Output : \n",
    "\n",
    "{'apple': 3, 'banana': 2, 'orange': 1}\n",
    "\n",
    "```\n",
    "\n",
    "#### Q5 : Write a Python function that calculates the average grade for each student given a dictionary of their scores.\n",
    "\n",
    "**Hint : sum([1, 2, 3]) provides sum of a list**\n",
    "\n",
    "```\n",
    "input : \n",
    "\n",
    "grades = {\n",
    "    'Alice': [85, 90, 78],\n",
    "    'Bob': [70, 80, 65],\n",
    "    'Charlie': [100, 95, 90]\n",
    "}\n",
    "\n",
    "\n",
    "output : \n",
    "\n",
    "{\n",
    "    'Alice': 84.33,\n",
    "    'Bob': 71.67,\n",
    "    'Charlie': 95.0\n",
    "}\n",
    "```"
   ]
  },
  {
   "cell_type": "code",
   "execution_count": null,
   "id": "54281076",
   "metadata": {},
   "outputs": [
    {
     "name": "stdout",
     "output_type": "stream",
     "text": [
      "{'Alice': 84.33333333333333, 'Bob': 71.66666666666667, 'Charlie': 95.0}\n"
     ]
    }
   ],
   "source": [
    "grades_dictionary = {\n",
    "    'Alice': [85, 90, 78],\n",
    "    'Bob': [70, 80, 65],\n",
    "    'Charlie': [100, 95, 90]\n",
    "}\n",
    "\n",
    "output_dictionary = {}\n",
    "\n",
    "for grade in grades_dictionary.items():\n",
    "    student_name, students_grades = grade \n",
    "    student_average_grade = sum(students_grades) / len(students_grades)\n",
    "\n",
    "    output_dictionary[student_name] = student_average_grade\n",
    "\n",
    "print(output_dictionary)"
   ]
  },
  {
   "cell_type": "code",
   "execution_count": 11,
   "id": "eaac87b9",
   "metadata": {},
   "outputs": [],
   "source": [
    "def averageGrades(grades_dictionary):\n",
    "    output_dictionary = {}\n",
    "\n",
    "    for grade in grades_dictionary.items():\n",
    "        student_name, students_grades = grade \n",
    "        student_average_grade = sum(students_grades) / len(students_grades)\n",
    "\n",
    "        output_dictionary[student_name] = student_average_grade\n",
    "\n",
    "    return output_dictionary"
   ]
  },
  {
   "cell_type": "code",
   "execution_count": 13,
   "id": "f9c3e6f2",
   "metadata": {},
   "outputs": [
    {
     "name": "stdout",
     "output_type": "stream",
     "text": [
      "{'Alice': 84.33333333333333, 'Bob': 71.66666666666667, 'Charlie': 95.0}\n"
     ]
    }
   ],
   "source": [
    "grades_dictionary = {\n",
    "    'Alice': [85, 90, 78],\n",
    "    'Bob': [70, 80, 65],\n",
    "    'Charlie': [100, 95, 90]\n",
    "}\n",
    "\n",
    "average_grades_dictionary = averageGrades(grades_dictionary)\n",
    "print(average_grades_dictionary)"
   ]
  },
  {
   "cell_type": "code",
   "execution_count": null,
   "id": "6583cb00",
   "metadata": {},
   "outputs": [],
   "source": []
  },
  {
   "cell_type": "code",
   "execution_count": null,
   "id": "d7cb44e6",
   "metadata": {},
   "outputs": [],
   "source": []
  },
  {
   "cell_type": "code",
   "execution_count": 5,
   "id": "86a3004d",
   "metadata": {},
   "outputs": [],
   "source": [
    "def wordCounter(words):\n",
    "    output_dictionary = {}\n",
    "\n",
    "    for w in words:\n",
    "        if w not in output_dictionary.keys():\n",
    "            output_dictionary[w] = 1\n",
    "        else:\n",
    "            output_dictionary[w] = output_dictionary[w] + 1\n",
    "    \n",
    "    return output_dictionary"
   ]
  },
  {
   "cell_type": "code",
   "execution_count": 6,
   "id": "825766ef",
   "metadata": {},
   "outputs": [
    {
     "name": "stdout",
     "output_type": "stream",
     "text": [
      "{'apple': 3, 'banana': 2, 'orange': 1}\n"
     ]
    }
   ],
   "source": [
    "words = ['apple', 'banana', 'apple', 'orange', 'banana', 'apple']\n",
    "\n",
    "counter_dictionary = wordCounter(words)\n",
    "print(counter_dictionary)"
   ]
  },
  {
   "cell_type": "markdown",
   "id": "af51f200",
   "metadata": {},
   "source": [
    "## 2. Default Parameters, Keyword Arguments, and Docstrings"
   ]
  },
  {
   "cell_type": "markdown",
   "id": "a2ac5414",
   "metadata": {},
   "source": [
    "\n",
    "- Default parameters are used when an argument is not passed.\n",
    "- Keyword arguments allow passing parameters by name.\n",
    "- Docstrings are string literals used to describe functions.\n"
   ]
  },
  {
   "cell_type": "code",
   "execution_count": null,
   "id": "4a14ae5a",
   "metadata": {},
   "outputs": [],
   "source": [
    "'''\n",
    "this is a \n",
    "multiline\n",
    "string\n",
    "'''"
   ]
  },
  {
   "cell_type": "code",
   "execution_count": null,
   "id": "fde5aee1",
   "metadata": {},
   "outputs": [
    {
     "name": "stdout",
     "output_type": "stream",
     "text": [
      "9\n",
      "100\n"
     ]
    }
   ],
   "source": [
    "def power(base, exponent=2):\n",
    "    ''' \n",
    "    base is raised to the power of exponent\n",
    "\n",
    "    Input: \n",
    "        base : \n",
    "        exponent:\n",
    "    \n",
    "    Output:\n",
    "        base ** exponent is the output of the function\n",
    "    '''\n",
    "    return base ** exponent\n",
    "\n",
    "print(power(3))\n",
    "power(2, 3)\n",
    "outup_number = power(\n",
    "    base = 10,\n",
    "    exponent=2\n",
    ")\n",
    "print(outup_number)"
   ]
  },
  {
   "cell_type": "code",
   "execution_count": 28,
   "id": "41145e4f",
   "metadata": {},
   "outputs": [
    {
     "name": "stdout",
     "output_type": "stream",
     "text": [
      "Help on function power in module __main__:\n",
      "\n",
      "power(base, exponent=2)\n",
      "    base is raised to the power of exponent\n",
      "\n",
      "    Input:\n",
      "        base :\n",
      "        exponent:\n",
      "\n",
      "    Output:\n",
      "        base ** exponent is the output of the function\n",
      "\n"
     ]
    }
   ],
   "source": [
    "help(power)"
   ]
  },
  {
   "cell_type": "code",
   "execution_count": null,
   "id": "08fe2a79",
   "metadata": {},
   "outputs": [],
   "source": [
    "print(power.__doc__)"
   ]
  },
  {
   "cell_type": "code",
   "execution_count": 3,
   "id": "1c6c4b01",
   "metadata": {},
   "outputs": [
    {
     "name": "stdout",
     "output_type": "stream",
     "text": [
      "Help on function power in module __main__:\n",
      "\n",
      "power(base, exponent=2)\n",
      "    Returns the base raised to the power of exponent.\n",
      "\n"
     ]
    }
   ],
   "source": [
    "help(power)"
   ]
  },
  {
   "cell_type": "markdown",
   "id": "38545e8c",
   "metadata": {},
   "source": [
    "## Exercise 2\n",
    "#### Q3 : Write a function greet(name, message=\"Welcome!\") that prints a greeting. Demonstrate it with default and keyword arguments.\n",
    "\n",
    "```\n",
    "Output : Welcome! Alice\n",
    "```\n",
    "\n",
    "#### Q4 : Define a function multiply(a, b=2) with a docstring. Call it using positional and keyword arguments."
   ]
  },
  {
   "cell_type": "code",
   "execution_count": 30,
   "id": "dc3fe2bb",
   "metadata": {},
   "outputs": [
    {
     "name": "stdout",
     "output_type": "stream",
     "text": [
      "Welcome! Alice\n",
      "Thank You! Charlie\n"
     ]
    }
   ],
   "source": [
    "def greet(name, message = 'Welcome!'):\n",
    "    greeting_sentence = f'{message} {name}'\n",
    "    print(greeting_sentence)\n",
    "\n",
    "greet('Alice')\n",
    "greet('Charlie', message = 'Thank You!')"
   ]
  },
  {
   "cell_type": "markdown",
   "id": "aecf0dc9",
   "metadata": {},
   "source": [
    "## 3. *args and **kwargs"
   ]
  },
  {
   "cell_type": "markdown",
   "id": "09f7c86e",
   "metadata": {},
   "source": [
    "\n",
    "- `*args` allows variable number of positional arguments.\n",
    "- `**kwargs` allows variable number of keyword arguments.\n"
   ]
  },
  {
   "cell_type": "code",
   "execution_count": 31,
   "id": "77fe1959",
   "metadata": {},
   "outputs": [
    {
     "name": "stdout",
     "output_type": "stream",
     "text": [
      "(1, 2, 4, 5, 'Hello')\n",
      "<class 'tuple'>\n"
     ]
    }
   ],
   "source": [
    "def tempFunction1(*args):\n",
    "    print(args)\n",
    "    print(type(args))\n",
    "\n",
    "tempFunction1(1, 2, 4, 5, 'Hello')"
   ]
  },
  {
   "cell_type": "code",
   "execution_count": 8,
   "id": "28eb47d7",
   "metadata": {},
   "outputs": [
    {
     "name": "stdout",
     "output_type": "stream",
     "text": [
      "{'name': 'nirajan', 'location': 'bkt'}\n",
      "nirajan\n"
     ]
    }
   ],
   "source": [
    "def tempFunction2(**kwargs):\n",
    "    print(kwargs)\n",
    "    print(kwargs['name'])\n",
    "\n",
    "tempFunction2(name = 'nirajan', location = 'bkt')        "
   ]
  },
  {
   "cell_type": "code",
   "execution_count": 4,
   "id": "ff66f21c",
   "metadata": {},
   "outputs": [
    {
     "name": "stdout",
     "output_type": "stream",
     "text": [
      "Positional arguments: (1, 2, 3)\n",
      "Keyword arguments: {'name': 'Alice', 'age': 25}\n"
     ]
    }
   ],
   "source": [
    "\n",
    "def show_args(*args, **kwargs):\n",
    "    print(\"Positional arguments:\", args)\n",
    "    print(\"Keyword arguments:\", kwargs)\n",
    "\n",
    "show_args(1, 2, 3, name=\"Alice\", age=25)\n"
   ]
  },
  {
   "cell_type": "code",
   "execution_count": 20,
   "id": "e9912405",
   "metadata": {},
   "outputs": [
    {
     "name": "stdout",
     "output_type": "stream",
     "text": [
      "1\n",
      "('apple', 'mango')\n",
      "{'fruit': 'grapes', 'city': 'pokhara'}\n"
     ]
    }
   ],
   "source": [
    "def func3(a, *args, **kwargs):\n",
    "    print(a)\n",
    "    print(args)\n",
    "    print(kwargs)\n",
    "\n",
    "\n",
    "func3(1, 'apple', 'mango', fruit = 'grapes', city = 'pokhara')"
   ]
  },
  {
   "cell_type": "code",
   "execution_count": 32,
   "id": "591a4d58",
   "metadata": {},
   "outputs": [
    {
     "name": "stdout",
     "output_type": "stream",
     "text": [
      "16\n"
     ]
    }
   ],
   "source": [
    "def sum_all(*numbers):\n",
    "    print(sum(numbers))\n",
    "\n",
    "sum_all(1, 2, 3, 5, 2, 3)"
   ]
  },
  {
   "cell_type": "markdown",
   "id": "db81ddff",
   "metadata": {},
   "source": [
    "## Exercise\n",
    "#### Q5 : Write a function sum_all(*numbers) that returns the sum of all arguments passed to it.\n",
    "\n",
    "#### Q6 : Create a function print_student_details(**details) that prints each key-value pair passed as keyword arguments.\n",
    "**Hint: Use dict.items() function**\n",
    "\n",
    "Function call: \n",
    "```\n",
    "print_student_details(name=\"Sita\", age=20, grade=\"A\", address=\"Kathmandu\")\n",
    "```\n",
    "\n",
    "Output:\n",
    "```\n",
    "name: Sita\n",
    "age: 20\n",
    "grade: A\n",
    "address: Janakpur\n",
    "```"
   ]
  },
  {
   "cell_type": "markdown",
   "id": "676cbef2",
   "metadata": {},
   "source": [
    "## 4. Scope: Local, Global, and Nonlocal"
   ]
  },
  {
   "cell_type": "markdown",
   "id": "003662b6",
   "metadata": {},
   "source": [
    "\n",
    "- Local: Defined inside a function.\n",
    "- Global: Defined at the top level.\n"
   ]
  },
  {
   "cell_type": "code",
   "execution_count": 39,
   "id": "67dca2de",
   "metadata": {},
   "outputs": [],
   "source": [
    "x = 10"
   ]
  },
  {
   "cell_type": "code",
   "execution_count": 41,
   "id": "0c4179ae",
   "metadata": {},
   "outputs": [
    {
     "name": "stdout",
     "output_type": "stream",
     "text": [
      "10\n"
     ]
    }
   ],
   "source": [
    "def func2():\n",
    "    global x\n",
    "    print(x)\n",
    "\n",
    "func2()"
   ]
  },
  {
   "cell_type": "code",
   "execution_count": 38,
   "metadata": {},
   "outputs": [
    {
     "name": "stdout",
     "output_type": "stream",
     "text": [
      "inside function :  20\n",
      "outside function :  10\n"
     ]
    }
   ],
   "source": [
    "def func1():\n",
    "    x = 20\n",
    "    print('inside function : ', x)\n",
    "\n",
    "func1()\n",
    "print('outside function : ', x)\n",
    "\n"
   ]
  },
  {
   "cell_type": "code",
   "execution_count": null,
   "metadata": {},
   "outputs": [],
   "source": []
  },
  {
   "cell_type": "code",
   "execution_count": null,
   "id": "824344da",
   "metadata": {},
   "outputs": [],
   "source": []
  },
  {
   "cell_type": "code",
   "execution_count": null,
   "metadata": {},
   "outputs": [],
   "source": []
  },
  {
   "cell_type": "code",
   "execution_count": null,
   "id": "10360667",
   "metadata": {},
   "outputs": [],
   "source": []
  },
  {
   "cell_type": "code",
   "execution_count": 4,
   "id": "ff98fcee",
   "metadata": {},
   "outputs": [
    {
     "name": "stdout",
     "output_type": "stream",
     "text": [
      "this is a local variable\n",
      "this is a global variable\n"
     ]
    }
   ],
   "source": [
    "x = 'this is a global variable'\n",
    "\n",
    "def func1():\n",
    "    x = 'this is a local variable'\n",
    "    print(x) ## --> local variable\n",
    "\n",
    "\n",
    "func1()\n",
    "print(x) # --> global variable\n"
   ]
  },
  {
   "cell_type": "markdown",
   "id": "9c392997",
   "metadata": {},
   "source": [
    "## 5. Methods vs. Functions"
   ]
  },
  {
   "cell_type": "markdown",
   "id": "2f03d373",
   "metadata": {},
   "source": [
    "\n",
    "- Functions are defined using `def` and are independent.\n",
    "- Methods are functions associated with objects (e.g., strings, lists).\n"
   ]
  },
  {
   "cell_type": "code",
   "execution_count": null,
   "id": "5361e08b",
   "metadata": {},
   "outputs": [],
   "source": [
    "# Function\n",
    "def add(a, b):\n",
    "    return a + b\n",
    "\n",
    "# Method (associated with string object)\n",
    "text = \"hello\"\n",
    "print(text.upper())\n",
    "\n",
    "print(add(5, 10))\n"
   ]
  },
  {
   "cell_type": "code",
   "execution_count": 42,
   "id": "b2d4245b",
   "metadata": {},
   "outputs": [
    {
     "name": "stdout",
     "output_type": "stream",
     "text": [
      "[4, 5]\n"
     ]
    }
   ],
   "source": [
    "list1 = [1, 2, 3, 4, 5]\n",
    "list2 = [4, 5, 6, 7, 8]\n",
    "\n",
    "intersection_list = []\n",
    "\n",
    "for number in list1:\n",
    "    if number in list2:\n",
    "        intersection_list.append(number)\n",
    "\n",
    "print(intersection_list)"
   ]
  },
  {
   "cell_type": "markdown",
   "id": "5044a962",
   "metadata": {},
   "source": [
    "## Problem Solving Exercise\n",
    "\n",
    "#### Q7: Common Elements Between Two Lists\n",
    "Write a function common_elements(list1, list2) that returns a list of elements common to both lists.\n",
    "\n",
    "#### Q8: Second Largest Element\n",
    "Write a function second_largest(lst) that returns the second largest number in a list.\n",
    "\n",
    "#### Q9: Rotate List Elements\n",
    "Write a function rotate_list(lst, k) that rotates the list k steps to the right.\n",
    "\n",
    "Input: \n",
    "```\n",
    "lst = [1, 2, 3, 4, 5, 6, 7]\n",
    "k = 3\n",
    "```\n",
    "\n",
    "Output:\n",
    "```\n",
    "[5, 6, 7, 1, 2, 3, 4]\n",
    "```"
   ]
  },
  {
   "cell_type": "code",
   "execution_count": null,
   "id": "7f2386f4",
   "metadata": {},
   "outputs": [
    {
     "data": {
      "text/plain": [
       "['mango', 'apple']"
      ]
     },
     "execution_count": 29,
     "metadata": {},
     "output_type": "execute_result"
    }
   ],
   "source": [
    "lst = [1, 2, 3, 4, 5, 6, 7]\n",
    "k = 3\n",
    "\n"
   ]
  },
  {
   "cell_type": "code",
   "execution_count": null,
   "id": "6927709c",
   "metadata": {},
   "outputs": [],
   "source": []
  }
 ],
 "metadata": {
  "kernelspec": {
   "display_name": "python_tutorial",
   "language": "python",
   "name": "python3"
  },
  "language_info": {
   "codemirror_mode": {
    "name": "ipython",
    "version": 3
   },
   "file_extension": ".py",
   "mimetype": "text/x-python",
   "name": "python",
   "nbconvert_exporter": "python",
   "pygments_lexer": "ipython3",
   "version": "3.13.4"
  }
 },
 "nbformat": 4,
 "nbformat_minor": 5
}
