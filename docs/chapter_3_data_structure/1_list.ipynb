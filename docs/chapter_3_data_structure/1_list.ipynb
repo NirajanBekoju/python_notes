{
 "cells": [
  {
   "cell_type": "markdown",
   "id": "4bbd9511",
   "metadata": {},
   "source": [
    "## Lists\n",
    "\n",
    "- Lists are used to store multiple items in a single variable.\n",
    "- Lists can hold items of different data types such as string, integer, float"
   ]
  },
  {
   "cell_type": "code",
   "execution_count": 2,
   "id": "6acb80b7",
   "metadata": {},
   "outputs": [
    {
     "name": "stdout",
     "output_type": "stream",
     "text": [
      "['apple', 'banana', 'cherry', 10, 20, 30, 111.4]\n"
     ]
    }
   ],
   "source": [
    "## creating a list\n",
    "fruits_list = ['apple', 'banana', 'cherry', 10, 20, 30, 111.4]\n",
    "print(fruits_list)"
   ]
  },
  {
   "cell_type": "markdown",
   "id": "d934bfaf",
   "metadata": {},
   "source": [
    "### List is Mutable"
   ]
  },
  {
   "cell_type": "code",
   "execution_count": 3,
   "id": "1a2d6c69",
   "metadata": {},
   "outputs": [
    {
     "name": "stdout",
     "output_type": "stream",
     "text": [
      "['mango', 'banana', 'cherry']\n"
     ]
    }
   ],
   "source": [
    "fruits_list = ['apple', 'banana', 'cherry']\n",
    "fruits_list[0] = 'mango'\n",
    "print(fruits_list)"
   ]
  },
  {
   "cell_type": "markdown",
   "id": "0df0d7c6",
   "metadata": {},
   "source": [
    "### Indexing and Slicing"
   ]
  },
  {
   "cell_type": "code",
   "execution_count": 26,
   "id": "3a43cc87",
   "metadata": {},
   "outputs": [
    {
     "name": "stdout",
     "output_type": "stream",
     "text": [
      "8\n"
     ]
    }
   ],
   "source": [
    "## creating the list\n",
    "numbers_list = [53, 93, 35, 1, 65, 26, 47, 3]\n",
    "\n",
    "## get the length of the list\n",
    "print(len(numbers_list))"
   ]
  },
  {
   "cell_type": "code",
   "execution_count": 13,
   "id": "13543171",
   "metadata": {},
   "outputs": [
    {
     "name": "stdout",
     "output_type": "stream",
     "text": [
      "53\n",
      "26\n",
      "47\n"
     ]
    }
   ],
   "source": [
    "## indexing in list\n",
    "print(numbers_list[0])\n",
    "print(numbers_list[5])\n",
    "print(numbers_list[-2])"
   ]
  },
  {
   "cell_type": "code",
   "execution_count": 4,
   "id": "3c3c76ea",
   "metadata": {},
   "outputs": [
    {
     "name": "stdout",
     "output_type": "stream",
     "text": [
      "-----------------------------\n",
      "slicing with postive numbers\n",
      "-----------------------------\n",
      "[93, 35, 1]\n",
      "[53, 93, 35]\n",
      "[1, 65, 26, 47, 3]\n",
      "-----------------------------\n",
      "slicing with negative numbers\n",
      "-----------------------------\n",
      "[1, 65]\n"
     ]
    }
   ],
   "source": [
    "## slicing in list\n",
    "numbers_list = [53, 93, 35, 1, 65, 26, 47, 3]\n",
    "\n",
    "## slicing with positive numbers\n",
    "print('-----------------------------')\n",
    "print('slicing with postive numbers')\n",
    "print('-----------------------------')\n",
    "print(numbers_list[1:4])     \n",
    "print(numbers_list[:3])      \n",
    "print(numbers_list[3:]) \n",
    "\n",
    "## slicing with negative numbers\n",
    "print('-----------------------------')\n",
    "print('slicing with negative numbers')\n",
    "print('-----------------------------')\n",
    "print(numbers_list[-5:-3])\n"
   ]
  },
  {
   "cell_type": "code",
   "execution_count": 5,
   "id": "92cc2a92",
   "metadata": {},
   "outputs": [
    {
     "name": "stdout",
     "output_type": "stream",
     "text": [
      "[1, 3, 5, 7, 9]\n",
      "[9, 8, 7, 6, 5, 4, 3, 2, 1]\n"
     ]
    }
   ],
   "source": [
    "## with steps\n",
    "numbers_list = [1, 2, 3, 4, 5, 6, 7, 8, 9]\n",
    "print(numbers_list[::2])\n",
    "\n",
    "## reverse the list\n",
    "print(numbers_list[::-1])   "
   ]
  },
  {
   "cell_type": "code",
   "execution_count": 6,
   "id": "6590d05b",
   "metadata": {},
   "outputs": [],
   "source": [
    "temp_list = ['apple', 1, 2]"
   ]
  },
  {
   "cell_type": "code",
   "execution_count": 10,
   "id": "6b2e4176",
   "metadata": {},
   "outputs": [
    {
     "name": "stdout",
     "output_type": "stream",
     "text": [
      "<class 'list'>\n"
     ]
    }
   ],
   "source": [
    "a = 2\n",
    "print(type(temp_list))"
   ]
  },
  {
   "cell_type": "markdown",
   "id": "7283ea57",
   "metadata": {},
   "source": [
    "### List Methods\n",
    "\n",
    "| Method      | Description                                      | Example Code                            | Output              |\n",
    "| ----------- | ------------------------------------------------ | --------------------------------------- | ------------------- |\n",
    "| `append()`  | Adds an item to the end of the list              | `lst = [1, 2]`<br>`lst.append(3)`       | `[1, 2, 3]`         |\n",
    "| `extend()`  | Adds all elements of another list                | `lst = [1, 2]`<br>`lst.extend([3, 4])`  | `[1, 2, 3, 4]`      |\n",
    "| `insert()`  | Inserts item at given index                      | `lst = [1, 3]`<br>`lst.insert(1, 2)`    | `[1, 2, 3]`         |\n",
    "| `remove()`  | Removes first occurrence of value                | `lst = [1, 2, 3]`<br>`lst.remove(2)`    | `[1, 3]`            |\n",
    "| `pop()`     | Removes and returns item at index (default last) | `lst = [1, 2, 3]`<br>`lst.pop()`        | `3`, list: `[1, 2]` |\n",
    "| `clear()`   | Removes all items from the list                  | `lst = [1, 2, 3]`<br>`lst.clear()`      | `[]`                |\n",
    "| `index()`   | Returns first index of value                     | `lst = [10, 20, 30]`<br>`lst.index(20)` | `1`                 |\n",
    "| `count()`   | Counts how many times value appears              | `lst = [1, 1, 2, 1]`<br>`lst.count(1)`  | `3`                 |\n",
    "| `sort()`    | Sorts the list in ascending order                | `lst = [3, 1, 2]`<br>`lst.sort()`       | `[1, 2, 3]`         |\n",
    "| `reverse()` | Reverses the order of the list                   | `lst = [1, 2, 3]`<br>`lst.reverse()`    | `[3, 2, 1]`         |\n",
    "| `copy()`    | Returns a shallow copy of the list               | `lst = [1, 2]`<br>`new = lst.copy()`    | `new = [1, 2]`      |\n"
   ]
  },
  {
   "cell_type": "code",
   "execution_count": 25,
   "id": "2455aea7",
   "metadata": {},
   "outputs": [],
   "source": [
    "# List of cities\n",
    "cities = [\n",
    "    \"Kathmandu\",\n",
    "    \"New York\",\n",
    "    \"Tokyo\",\n",
    "    \"Paris\",\n",
    "    \"London\",\n",
    "    \"Sydney\",\n",
    "    \"Dubai\",\n",
    "    \"Toronto\",\n",
    "    \"Rome\",\n",
    "]"
   ]
  },
  {
   "cell_type": "code",
   "execution_count": 26,
   "id": "22a50fb2",
   "metadata": {},
   "outputs": [
    {
     "name": "stdout",
     "output_type": "stream",
     "text": [
      "['Dubai', 'Kathmandu', 'London', 'New York', 'Paris', 'Rome', 'Sydney', 'Tokyo', 'Toronto']\n"
     ]
    }
   ],
   "source": [
    "cities.sort()\n",
    "print(cities)"
   ]
  },
  {
   "cell_type": "code",
   "execution_count": 27,
   "id": "4eda8d16",
   "metadata": {},
   "outputs": [
    {
     "name": "stdout",
     "output_type": "stream",
     "text": [
      "['Toronto', 'Tokyo', 'Sydney', 'Rome', 'Paris', 'New York', 'London', 'Kathmandu', 'Dubai']\n"
     ]
    }
   ],
   "source": [
    "cities.sort(reverse=True)\n",
    "print(cities)"
   ]
  },
  {
   "cell_type": "code",
   "execution_count": 19,
   "id": "72b04402",
   "metadata": {},
   "outputs": [
    {
     "name": "stdout",
     "output_type": "stream",
     "text": [
      "New York\n"
     ]
    }
   ],
   "source": [
    "removed_element = cities.pop(1)\n",
    "print(removed_element)"
   ]
  },
  {
   "cell_type": "code",
   "execution_count": 20,
   "id": "287d6826",
   "metadata": {},
   "outputs": [
    {
     "name": "stdout",
     "output_type": "stream",
     "text": [
      "['Kathmandu', 'Tokyo', 'Paris', 'London', 'Sydney', 'Dubai', 'Toronto', 'Rome']\n"
     ]
    }
   ],
   "source": [
    "print(cities)"
   ]
  },
  {
   "cell_type": "code",
   "execution_count": 12,
   "id": "1cf5ae26",
   "metadata": {},
   "outputs": [],
   "source": [
    "cities.append('Pokhara')"
   ]
  },
  {
   "cell_type": "code",
   "execution_count": 13,
   "id": "3975197a",
   "metadata": {},
   "outputs": [
    {
     "name": "stdout",
     "output_type": "stream",
     "text": [
      "['Kathmandu', 'New York', 'Tokyo', 'Paris', 'London', 'Sydney', 'Dubai', 'Toronto', 'Rome', 'Pokhara']\n"
     ]
    }
   ],
   "source": [
    "print(cities)"
   ]
  },
  {
   "cell_type": "code",
   "execution_count": 29,
   "id": "9d54579f",
   "metadata": {},
   "outputs": [
    {
     "name": "stdout",
     "output_type": "stream",
     "text": [
      "None\n"
     ]
    }
   ],
   "source": [
    "# List of cities\n",
    "cities = [\n",
    "    \"Kathmandu\",\n",
    "    \"New York\",\n",
    "    \"Tokyo\",\n",
    "    \"Paris\",\n",
    "    \"London\",\n",
    "    \"Sydney\",\n",
    "    \"Dubai\",\n",
    "    \"Toronto\",\n",
    "    \"Rome\",\n",
    "]\n",
    "\n",
    "print(cities.sort())"
   ]
  },
  {
   "cell_type": "code",
   "execution_count": 30,
   "id": "3127a950",
   "metadata": {},
   "outputs": [
    {
     "name": "stdout",
     "output_type": "stream",
     "text": [
      "['Dubai', 'Kathmandu', 'London', 'New York', 'Paris', 'Rome', 'Sydney', 'Tokyo', 'Toronto']\n"
     ]
    }
   ],
   "source": [
    "print(cities)"
   ]
  },
  {
   "cell_type": "code",
   "execution_count": 31,
   "id": "7c83d878",
   "metadata": {},
   "outputs": [
    {
     "name": "stdout",
     "output_type": "stream",
     "text": [
      "Help on built-in function sort:\n",
      "\n",
      "sort(*, key=None, reverse=False) method of builtins.list instance\n",
      "    Sort the list in ascending order and return None.\n",
      "\n",
      "    The sort is in-place (i.e. the list itself is modified) and stable (i.e. the\n",
      "    order of two equal elements is maintained).\n",
      "\n",
      "    If a key function is given, apply it once to each list item and sort them,\n",
      "    ascending or descending, according to their function values.\n",
      "\n",
      "    The reverse flag can be set to sort in descending order.\n",
      "\n"
     ]
    }
   ],
   "source": [
    "help(cities.sort)"
   ]
  },
  {
   "cell_type": "code",
   "execution_count": 16,
   "id": "7bb8f55b",
   "metadata": {},
   "outputs": [
    {
     "name": "stdout",
     "output_type": "stream",
     "text": [
      "[1, 2, 3, 5, 1]\n"
     ]
    }
   ],
   "source": [
    "## insert\n",
    "a = [1, 2, 3, 5]\n",
    "a.insert(5,1)\n",
    "print(a)"
   ]
  },
  {
   "cell_type": "code",
   "execution_count": 17,
   "id": "095afcc2",
   "metadata": {},
   "outputs": [
    {
     "name": "stdout",
     "output_type": "stream",
     "text": [
      "Help on method_descriptor:\n",
      "\n",
      "insert(self, index, object, /) unbound builtins.list method\n",
      "    Insert object before index.\n",
      "\n"
     ]
    }
   ],
   "source": [
    "help(list.insert)"
   ]
  },
  {
   "cell_type": "code",
   "execution_count": 12,
   "id": "b8e6dae8",
   "metadata": {},
   "outputs": [
    {
     "name": "stdout",
     "output_type": "stream",
     "text": [
      "['Toronto', 'Tokyo', 'Sydney', 'Rome', 'Pokhara', 'Paris', 'New York', 'London', 'Kathmandu', 'Dubai']\n"
     ]
    }
   ],
   "source": [
    "cities.sort(reverse=True)\n",
    "print(cities)"
   ]
  },
  {
   "cell_type": "markdown",
   "id": "1914168f",
   "metadata": {},
   "source": [
    "### Exercise : Create list of atleast 7 favorite movies or series.\n",
    "\n",
    "- Print the second and last movies.\n",
    "- Print from second to second last movies\n",
    "- Reverse the list.\n",
    "- Add a new movie.\n",
    "- Sort the list alphabetically.\n",
    "- Remove the third movie\n",
    "- clear all the list"
   ]
  },
  {
   "cell_type": "markdown",
   "id": "4413bcdf",
   "metadata": {},
   "source": [
    "### Shallow Copy vs Deep Copy\n",
    "\n",
    "- A shallow copy creates a new outer object, but doesn't copy nested objects inside it.\n",
    "\n",
    "- Both the original and the copy share references to the same inner objects."
   ]
  },
  {
   "cell_type": "code",
   "execution_count": 32,
   "id": "49725085",
   "metadata": {},
   "outputs": [
    {
     "name": "stdout",
     "output_type": "stream",
     "text": [
      "[[1, 2], [3, 4], ['apple', 'mango', 'coconut']]\n",
      "[[1, 2], [3, 4], ['apple', 'mango', 'coconut']]\n"
     ]
    }
   ],
   "source": [
    "original_list = [[1, 2], [3, 4], ['apple', 'mango', 'coconut']]\n",
    "\n",
    "## shallow copy of the list\n",
    "copy_list = original_list.copy()\n",
    "\n",
    "print(original_list)\n",
    "print(copy_list)"
   ]
  },
  {
   "cell_type": "code",
   "execution_count": 33,
   "id": "3abe2e3c",
   "metadata": {},
   "outputs": [
    {
     "data": {
      "text/plain": [
       "'apple'"
      ]
     },
     "execution_count": 33,
     "metadata": {},
     "output_type": "execute_result"
    }
   ],
   "source": [
    "copy_list[2][0]"
   ]
  },
  {
   "cell_type": "code",
   "execution_count": 34,
   "id": "ae91b6f2",
   "metadata": {},
   "outputs": [
    {
     "name": "stdout",
     "output_type": "stream",
     "text": [
      "[[5, 2], [3, 4], ['apple', 'mango', 'coconut']]\n",
      "[[5, 2], [3, 4], ['apple', 'mango', 'coconut']]\n"
     ]
    }
   ],
   "source": [
    "copy_list[0][0] = 5\n",
    "\n",
    "print(original_list)\n",
    "print(copy_list)"
   ]
  },
  {
   "cell_type": "code",
   "execution_count": 35,
   "id": "1421b82d",
   "metadata": {},
   "outputs": [
    {
     "name": "stdout",
     "output_type": "stream",
     "text": [
      "[[1, 2], [3, 4]]\n",
      "[[5, 2], [3, 4]]\n"
     ]
    }
   ],
   "source": [
    "## an example of deep copy\n",
    "import copy\n",
    "original_list = [[1, 2], [3, 4]]\n",
    "\n",
    "deep_copy_list = copy.deepcopy(original_list)\n",
    "deep_copy_list[0][0] = 5\n",
    "\n",
    "print(original_list)\n",
    "print(deep_copy_list)\n"
   ]
  },
  {
   "cell_type": "code",
   "execution_count": null,
   "id": "12aea840",
   "metadata": {},
   "outputs": [],
   "source": []
  }
 ],
 "metadata": {
  "kernelspec": {
   "display_name": "python_tutorial",
   "language": "python",
   "name": "python3"
  },
  "language_info": {
   "codemirror_mode": {
    "name": "ipython",
    "version": 3
   },
   "file_extension": ".py",
   "mimetype": "text/x-python",
   "name": "python",
   "nbconvert_exporter": "python",
   "pygments_lexer": "ipython3",
   "version": "3.13.4"
  }
 },
 "nbformat": 4,
 "nbformat_minor": 5
}
