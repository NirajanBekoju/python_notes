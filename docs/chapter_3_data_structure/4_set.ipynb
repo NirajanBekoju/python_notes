{
 "cells": [
  {
   "cell_type": "markdown",
   "id": "edb55527",
   "metadata": {},
   "source": [
    "## Sets\n",
    "\n",
    "- Sets are used to store multiple items in a single variable.\n",
    "- Sets are unordered, unchangeable (but you can add/remove items), and do not allow duplicate values."
   ]
  },
  {
   "cell_type": "code",
   "execution_count": 1,
   "id": "03a10d0f",
   "metadata": {},
   "outputs": [
    {
     "name": "stdout",
     "output_type": "stream",
     "text": [
      "{'cherry', 'banana', 'apple'}\n"
     ]
    }
   ],
   "source": [
    "## Creating a Set\n",
    "fruits_set = {'apple', 'banana', 'cherry'}\n",
    "print(fruits_set)"
   ]
  },
  {
   "cell_type": "markdown",
   "id": "cac6e4b6",
   "metadata": {},
   "source": [
    "### Note : Since Set is Unordered, there is no indexing and slicing"
   ]
  },
  {
   "cell_type": "markdown",
   "id": "a2f8e8f9",
   "metadata": {},
   "source": [
    "### No Duplicates Allowed"
   ]
  },
  {
   "cell_type": "code",
   "execution_count": 3,
   "id": "856cdfb4",
   "metadata": {},
   "outputs": [
    {
     "name": "stdout",
     "output_type": "stream",
     "text": [
      "{'banana', 'apple'}\n"
     ]
    }
   ],
   "source": [
    "## Duplicate values will be removed automatically\n",
    "fruits_set = {'apple', 'banana', 'apple'}\n",
    "print(fruits_set)"
   ]
  },
  {
   "cell_type": "markdown",
   "id": "ef0effbe",
   "metadata": {},
   "source": [
    "### Add Items"
   ]
  },
  {
   "cell_type": "code",
   "execution_count": 4,
   "id": "31623c5d",
   "metadata": {},
   "outputs": [
    {
     "name": "stdout",
     "output_type": "stream",
     "text": [
      "{'cherry', 'banana', 'apple'}\n"
     ]
    }
   ],
   "source": [
    "fruits_set = {'apple', 'banana'}\n",
    "fruits_set.add('cherry')\n",
    "print(fruits_set)"
   ]
  },
  {
   "cell_type": "markdown",
   "id": "7d6a444e",
   "metadata": {},
   "source": [
    "### Add Multiple Items"
   ]
  },
  {
   "cell_type": "code",
   "execution_count": 7,
   "id": "041a2cf5",
   "metadata": {},
   "outputs": [
    {
     "name": "stdout",
     "output_type": "stream",
     "text": [
      "{'orange', 'apple', 'cherry', 'banana', 'grape'}\n"
     ]
    }
   ],
   "source": [
    "fruits_set.update(['orange', 'grape'])\n",
    "print(fruits_set)"
   ]
  },
  {
   "cell_type": "markdown",
   "id": "7b7e9bb8",
   "metadata": {},
   "source": [
    "### Remove Items"
   ]
  },
  {
   "cell_type": "code",
   "execution_count": 8,
   "id": "b2a20654",
   "metadata": {},
   "outputs": [
    {
     "name": "stdout",
     "output_type": "stream",
     "text": [
      "{'orange', 'apple', 'cherry', 'grape'}\n"
     ]
    }
   ],
   "source": [
    "fruits_set.remove('banana')\n",
    "print(fruits_set)"
   ]
  },
  {
   "cell_type": "markdown",
   "id": "a92a60ee",
   "metadata": {},
   "source": [
    "### Discard vs Remove"
   ]
  },
  {
   "cell_type": "code",
   "execution_count": 9,
   "id": "0adac1ce",
   "metadata": {},
   "outputs": [],
   "source": [
    "fruits_set.discard('pineapple')  # No error if not found\n",
    "# fruits_set.remove('pineapple') would raise an error"
   ]
  },
  {
   "cell_type": "markdown",
   "id": "c5b6b2ae",
   "metadata": {},
   "source": [
    "### Set Operations\n",
    "\n",
    "### Set Methods in Python\n",
    "\n",
    "| Method                | Description                                                                 | Example                                      |\n",
    "|-----------------------|-----------------------------------------------------------------------------|----------------------------------------------|\n",
    "| `add(elem)`           | Adds a single element to the set                                            | `s.add(5)`                                   |\n",
    "| `update(iterable)`    | Adds multiple elements from an iterable (like list, tuple)                  | `s.update([1, 2])`                           |\n",
    "| `remove(elem)`        | Removes specified element; raises error if not found                        | `s.remove(3)`                                |\n",
    "| `discard(elem)`       | Removes specified element; **no error** if element not found                | `s.discard(10)`                              |\n",
    "| `pop()`               | Removes and returns a random element                                        | `s.pop()`                                    |\n",
    "| `clear()`             | Removes all elements from the set                                           | `s.clear()`                                  |\n",
    "| `copy()`              | Returns a shallow copy of the set                                           | `s2 = s.copy()`                              |\n",
    "| `union(set2)`         | Returns a new set with all elements from both sets                          | `s.union(s2)`                                |\n",
    "| `intersection(set2)`  | Returns common elements of both sets                                        | `s.intersection(s2)`                         |\n",
    "| `difference(set2)`    | Returns elements in the first set but not in the second                     | `s.difference(s2)`                           |\n",
    "| `symmetric_difference(set2)` | Returns elements in either set, but not in both                    | `s.symmetric_difference(s2)`                 |\n",
    "| `issubset(set2)`      | Returns `True` if all elements of the set are in set2                       | `s.issubset(s2)`                             |\n",
    "| `issuperset(set2)`    | Returns `True` if set has all elements of set2                              | `s.issuperset(s2)`                           |\n",
    "| `isdisjoint(set2)`    | Returns `True` if sets have no elements in common                           | `s.isdisjoint(s2)`                           |\n"
   ]
  },
  {
   "cell_type": "code",
   "execution_count": null,
   "id": "e470a360",
   "metadata": {},
   "outputs": [],
   "source": [
    "# Union\n",
    "set1 = {'a', 'b'}\n",
    "set2 = {'b', 'c'}\n",
    "print(set1.union(set2))"
   ]
  },
  {
   "cell_type": "code",
   "execution_count": null,
   "id": "6ae5b2a0",
   "metadata": {},
   "outputs": [],
   "source": [
    "# Intersection\n",
    "print(set1.intersection(set2))"
   ]
  },
  {
   "cell_type": "code",
   "execution_count": null,
   "id": "024411a6",
   "metadata": {},
   "outputs": [],
   "source": [
    "# Difference\n",
    "print(set1.difference(set2))"
   ]
  },
  {
   "cell_type": "code",
   "execution_count": null,
   "id": "45395a30",
   "metadata": {},
   "outputs": [],
   "source": [
    "# Symmetric Difference\n",
    "print(set1.symmetric_difference(set2))"
   ]
  },
  {
   "cell_type": "markdown",
   "id": "77d63eeb",
   "metadata": {},
   "source": [
    "### Looping Through a Set"
   ]
  },
  {
   "cell_type": "code",
   "execution_count": 10,
   "id": "80fa32aa",
   "metadata": {},
   "outputs": [
    {
     "name": "stdout",
     "output_type": "stream",
     "text": [
      "orange\n",
      "apple\n",
      "cherry\n",
      "grape\n"
     ]
    }
   ],
   "source": [
    "for fruit in fruits_set:\n",
    "    print(fruit)"
   ]
  },
  {
   "cell_type": "markdown",
   "id": "b4ee0fa5",
   "metadata": {},
   "source": [
    "### Check if Item Exists"
   ]
  },
  {
   "cell_type": "code",
   "execution_count": 11,
   "id": "a0940602",
   "metadata": {},
   "outputs": [
    {
     "data": {
      "text/plain": [
       "True"
      ]
     },
     "execution_count": 11,
     "metadata": {},
     "output_type": "execute_result"
    }
   ],
   "source": [
    "'apple' in fruits_set"
   ]
  },
  {
   "cell_type": "code",
   "execution_count": null,
   "id": "0671c774",
   "metadata": {},
   "outputs": [],
   "source": []
  }
 ],
 "metadata": {
  "kernelspec": {
   "display_name": "python_tutorial",
   "language": "python",
   "name": "python3"
  },
  "language_info": {
   "codemirror_mode": {
    "name": "ipython",
    "version": 3
   },
   "file_extension": ".py",
   "mimetype": "text/x-python",
   "name": "python",
   "nbconvert_exporter": "python",
   "pygments_lexer": "ipython3",
   "version": "3.13.4"
  }
 },
 "nbformat": 4,
 "nbformat_minor": 5
}
