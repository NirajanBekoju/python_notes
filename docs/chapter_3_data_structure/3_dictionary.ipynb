{
 "cells": [
  {
   "cell_type": "markdown",
   "id": "f44f8bac",
   "metadata": {},
   "source": [
    "## Dictionaries\n",
    "\n",
    "- Dictionaries are used to store data values in key:value pairs."
   ]
  },
  {
   "cell_type": "markdown",
   "id": "7e85b2d9",
   "metadata": {},
   "source": [
    "### Creating and Accessing Dictionary"
   ]
  },
  {
   "cell_type": "code",
   "execution_count": 1,
   "id": "315f0292",
   "metadata": {},
   "outputs": [
    {
     "name": "stdout",
     "output_type": "stream",
     "text": [
      "Alice\n"
     ]
    }
   ],
   "source": [
    "person = {\n",
    "    'name': 'Alice', \n",
    "    'age': 25\n",
    "    }\n",
    "print(person['name'])  # Accessing value by key"
   ]
  },
  {
   "cell_type": "markdown",
   "id": "0f6cb2f8",
   "metadata": {},
   "source": [
    "### Adding, Updating, and Removing Elements"
   ]
  },
  {
   "cell_type": "code",
   "execution_count": 13,
   "id": "129d7296",
   "metadata": {},
   "outputs": [
    {
     "name": "stdout",
     "output_type": "stream",
     "text": [
      "{'name': 'Alice', 'age': 50, 'city': 'Kathmandu'}\n"
     ]
    }
   ],
   "source": [
    "## add city\n",
    "person['city'] = 'Kathmandu'\n",
    "\n",
    "## update age\n",
    "person['age'] = 50\n",
    "print(person)"
   ]
  },
  {
   "cell_type": "code",
   "execution_count": 14,
   "id": "c608ba0c",
   "metadata": {},
   "outputs": [
    {
     "name": "stdout",
     "output_type": "stream",
     "text": [
      "{'age': 50, 'city': 'Kathmandu'}\n"
     ]
    }
   ],
   "source": [
    "## delete name\n",
    "del person['name']\n",
    "print(person)"
   ]
  },
  {
   "cell_type": "markdown",
   "id": "7a026c91",
   "metadata": {},
   "source": [
    "### Dictionary Methods\n",
    "\n",
    "| Method         | Description                                  | Example Code                              | Output                  |\n",
    "| -------------- | -------------------------------------------- | ----------------------------------------- | ------------------------ |\n",
    "| `keys()`       | Returns a list of dictionary keys             | `d = {'a': 1}`<br>`d.keys()`              | `dict_keys(['a'])`       |\n",
    "| `values()`     | Returns a list of dictionary values           | `d = {'a': 1}`<br>`d.values()`            | `dict_values([1])`       |\n",
    "| `items()`      | Returns a list of key-value tuple pairs       | `d = {'a': 1}`<br>`d.items()`             | `dict_items([('a', 1)])` |\n",
    "| `get()`        | Returns value for key if key exists           | `d = {'a': 1}`<br>`d.get('a')`            | `1`                     |\n",
    "| `update()`     | Updates dictionary with another dictionary    | `d.update({'b': 2})`                      | `{'a': 1, 'b': 2}`       |\n",
    "| `pop()`        | Removes and returns value for key             | `d.pop('a')`                              | `1` and `{'b': 2}`       |\n",
    "| `clear()`      | Removes all items                            | `d.clear()`                               | `{}`                     |"
   ]
  },
  {
   "cell_type": "markdown",
   "id": "38ea7e62",
   "metadata": {},
   "source": [
    "### Exercise Create a dictionary with movie data (title, year, rating)\n",
    "Tasks:\n",
    "\n",
    "- Access the title.\n",
    "- Update the rating.\n",
    "- Add a new key: 'actor'.\n",
    "- Delete the year.\n",
    "- Print all keys and values."
   ]
  },
  {
   "cell_type": "code",
   "execution_count": 2,
   "id": "2836ae30",
   "metadata": {},
   "outputs": [
    {
     "name": "stdout",
     "output_type": "stream",
     "text": [
      "{'name': 'Alice', 'age': 25}\n"
     ]
    }
   ],
   "source": [
    "print(person)"
   ]
  },
  {
   "cell_type": "code",
   "execution_count": 3,
   "id": "371fa878",
   "metadata": {},
   "outputs": [
    {
     "data": {
      "text/plain": [
       "dict_keys(['name', 'age'])"
      ]
     },
     "execution_count": 3,
     "metadata": {},
     "output_type": "execute_result"
    }
   ],
   "source": [
    "person.keys()"
   ]
  },
  {
   "cell_type": "code",
   "execution_count": 4,
   "id": "800425ae",
   "metadata": {},
   "outputs": [
    {
     "data": {
      "text/plain": [
       "dict_values(['Alice', 25])"
      ]
     },
     "execution_count": 4,
     "metadata": {},
     "output_type": "execute_result"
    }
   ],
   "source": [
    "person.values()"
   ]
  },
  {
   "cell_type": "code",
   "execution_count": 5,
   "id": "4d628ce9",
   "metadata": {},
   "outputs": [
    {
     "data": {
      "text/plain": [
       "dict_items([('name', 'Alice'), ('age', 25)])"
      ]
     },
     "execution_count": 5,
     "metadata": {},
     "output_type": "execute_result"
    }
   ],
   "source": [
    "person.items()"
   ]
  },
  {
   "cell_type": "code",
   "execution_count": 6,
   "id": "0ef20275",
   "metadata": {},
   "outputs": [
    {
     "data": {
      "text/plain": [
       "{'name': 'Alice', 'age': 25}"
      ]
     },
     "execution_count": 6,
     "metadata": {},
     "output_type": "execute_result"
    }
   ],
   "source": [
    "person"
   ]
  },
  {
   "cell_type": "code",
   "execution_count": 7,
   "id": "567baad5",
   "metadata": {},
   "outputs": [
    {
     "ename": "KeyError",
     "evalue": "'location'",
     "output_type": "error",
     "traceback": [
      "\u001b[31m---------------------------------------------------------------------------\u001b[39m",
      "\u001b[31mKeyError\u001b[39m                                  Traceback (most recent call last)",
      "\u001b[36mCell\u001b[39m\u001b[36m \u001b[39m\u001b[32mIn[7]\u001b[39m\u001b[32m, line 1\u001b[39m\n\u001b[32m----> \u001b[39m\u001b[32m1\u001b[39m \u001b[43mperson\u001b[49m\u001b[43m[\u001b[49m\u001b[33;43m'\u001b[39;49m\u001b[33;43mlocation\u001b[39;49m\u001b[33;43m'\u001b[39;49m\u001b[43m]\u001b[49m\n",
      "\u001b[31mKeyError\u001b[39m: 'location'"
     ]
    }
   ],
   "source": [
    "person['location']"
   ]
  },
  {
   "cell_type": "code",
   "execution_count": 9,
   "id": "8fcaa7e5",
   "metadata": {},
   "outputs": [
    {
     "data": {
      "text/plain": [
       "'Alice'"
      ]
     },
     "execution_count": 9,
     "metadata": {},
     "output_type": "execute_result"
    }
   ],
   "source": [
    "person.get('name')"
   ]
  },
  {
   "cell_type": "code",
   "execution_count": 11,
   "id": "12f1e0da",
   "metadata": {},
   "outputs": [
    {
     "data": {
      "text/plain": [
       "'Kathmandu'"
      ]
     },
     "execution_count": 11,
     "metadata": {},
     "output_type": "execute_result"
    }
   ],
   "source": [
    "person.get('location', 'Kathmandu')"
   ]
  },
  {
   "cell_type": "code",
   "execution_count": 12,
   "id": "d553c67e",
   "metadata": {},
   "outputs": [
    {
     "data": {
      "text/plain": [
       "'Kathmandu'"
      ]
     },
     "execution_count": 12,
     "metadata": {},
     "output_type": "execute_result"
    }
   ],
   "source": [
    "person.get('dsafaskhj', 'Kathmandu')"
   ]
  },
  {
   "cell_type": "markdown",
   "id": "cd40db5c",
   "metadata": {},
   "source": [
    "### type casting"
   ]
  },
  {
   "cell_type": "code",
   "execution_count": 14,
   "id": "4474f826",
   "metadata": {},
   "outputs": [
    {
     "name": "stdout",
     "output_type": "stream",
     "text": [
      "(1, 2, 3, 4, 5)\n"
     ]
    }
   ],
   "source": [
    "my_tuple = (1, 2, 3, 4)\n",
    "my_list = list(my_tuple)\n",
    "my_list.append(5)\n",
    "my_tuple = tuple(my_list)\n",
    "print(my_tuple)"
   ]
  },
  {
   "cell_type": "code",
   "execution_count": null,
   "id": "64112f65",
   "metadata": {},
   "outputs": [],
   "source": []
  }
 ],
 "metadata": {
  "kernelspec": {
   "display_name": "python_tutorial",
   "language": "python",
   "name": "python3"
  },
  "language_info": {
   "codemirror_mode": {
    "name": "ipython",
    "version": 3
   },
   "file_extension": ".py",
   "mimetype": "text/x-python",
   "name": "python",
   "nbconvert_exporter": "python",
   "pygments_lexer": "ipython3",
   "version": "3.13.4"
  }
 },
 "nbformat": 4,
 "nbformat_minor": 5
}
