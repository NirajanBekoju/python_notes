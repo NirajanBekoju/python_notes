{
 "cells": [
  {
   "cell_type": "markdown",
   "id": "1d8abb51",
   "metadata": {},
   "source": [
    "## Tuples\n",
    "\n",
    "- Tuples are used to store multiple items in a single variable.\n",
    "- Tuples are **immutable**, meaning once created, their elements cannot be changed."
   ]
  },
  {
   "cell_type": "markdown",
   "id": "efb061cc",
   "metadata": {},
   "source": [
    "### Tuple is Immutable"
   ]
  },
  {
   "cell_type": "code",
   "execution_count": 1,
   "id": "41ef0ed7",
   "metadata": {},
   "outputs": [
    {
     "ename": "TypeError",
     "evalue": "'tuple' object does not support item assignment",
     "output_type": "error",
     "traceback": [
      "\u001b[31m---------------------------------------------------------------------------\u001b[39m",
      "\u001b[31mTypeError\u001b[39m                                 Traceback (most recent call last)",
      "\u001b[36mCell\u001b[39m\u001b[36m \u001b[39m\u001b[32mIn[1]\u001b[39m\u001b[32m, line 2\u001b[39m\n\u001b[32m      1\u001b[39m my_tuple = (\u001b[32m1\u001b[39m, \u001b[32m2\u001b[39m, \u001b[32m3\u001b[39m)\n\u001b[32m----> \u001b[39m\u001b[32m2\u001b[39m \u001b[43mmy_tuple\u001b[49m\u001b[43m[\u001b[49m\u001b[32;43m0\u001b[39;49m\u001b[43m]\u001b[49m = \u001b[32m5\u001b[39m\n\u001b[32m      3\u001b[39m \u001b[38;5;66;03m# my_tuple[0] = 10  # This will raise an error\u001b[39;00m\n",
      "\u001b[31mTypeError\u001b[39m: 'tuple' object does not support item assignment"
     ]
    }
   ],
   "source": [
    "my_tuple = (1, 2, 3)\n",
    "my_tuple[0] = 5\n",
    "# my_tuple[0] = 10  # This will raise an error"
   ]
  },
  {
   "cell_type": "markdown",
   "id": "e7ceab3f",
   "metadata": {},
   "source": [
    "### Indexing and Slicing"
   ]
  },
  {
   "cell_type": "code",
   "execution_count": 8,
   "id": "ca8847f3",
   "metadata": {},
   "outputs": [
    {
     "name": "stdout",
     "output_type": "stream",
     "text": [
      "a\n",
      "e\n",
      "('b', 'c', 'd')\n",
      "('e', 'd', 'c', 'b', 'a')\n"
     ]
    }
   ],
   "source": [
    "t = ('a', 'b', 'c', 'd', 'e')\n",
    "print(t[0])       # First element\n",
    "print(t[-1])      # Last element\n",
    "print(t[1:4])     # Slicing\n",
    "print(t[::-1])    # Reversed"
   ]
  },
  {
   "cell_type": "markdown",
   "id": "79f791bb",
   "metadata": {},
   "source": [
    "### Tuple Methods\n",
    "\n",
    "| Method      | Description                                   | Example Code                            | Output           |\n",
    "| ----------- | --------------------------------------------- | ---------------------------------------- | ---------------- |\n",
    "| `count()`   | Returns the number of times a value appears   | `t = (1, 2, 1)`<br>`t.count(1)`          | `2`              |\n",
    "| `index()`   | Returns the index of the first matching value | `t = (10, 20, 30)`<br>`t.index(20)`      | `1`              |"
   ]
  },
  {
   "cell_type": "code",
   "execution_count": 2,
   "id": "57e4c0c7",
   "metadata": {},
   "outputs": [
    {
     "data": {
      "text/plain": [
       "1"
      ]
     },
     "execution_count": 2,
     "metadata": {},
     "output_type": "execute_result"
    }
   ],
   "source": [
    "my_tuple = ('apply', 'coco', 'sdfjh', 'mango')\n",
    "my_tuple.index('coco')"
   ]
  },
  {
   "cell_type": "markdown",
   "id": "4e78aadb",
   "metadata": {},
   "source": [
    "### Exercise : Create a tuple of 5 artists.\n",
    "\n",
    "- Print the first and last artists.\n",
    "- Print a slice from second to fourth artists.\n",
    "- Count a particular artists (create some duplicate in the tuple for this).\n",
    "- Try modifying an element (and observe the error)."
   ]
  },
  {
   "cell_type": "markdown",
   "id": "143624ac",
   "metadata": {},
   "source": [
    "### Unpacking a tuple"
   ]
  },
  {
   "cell_type": "code",
   "execution_count": null,
   "id": "497be721",
   "metadata": {},
   "outputs": [],
   "source": []
  },
  {
   "cell_type": "code",
   "execution_count": 10,
   "id": "c7810fc8",
   "metadata": {},
   "outputs": [
    {
     "name": "stdout",
     "output_type": "stream",
     "text": [
      "Nepal\n",
      "Japan\n",
      "India\n"
     ]
    }
   ],
   "source": [
    "country_1, country_2, country_3 = ('Nepal', 'Japan', 'India')\n",
    "print(country_1)\n",
    "print(country_2)\n",
    "print(country_3)"
   ]
  },
  {
   "cell_type": "markdown",
   "id": "23fce8f6",
   "metadata": {},
   "source": [
    "## Add new element in Tuple"
   ]
  },
  {
   "cell_type": "code",
   "execution_count": 11,
   "id": "413c293b",
   "metadata": {},
   "outputs": [],
   "source": [
    "t = ('a', 'b', 'c', 'd', 'e')\n"
   ]
  },
  {
   "cell_type": "code",
   "execution_count": null,
   "id": "112ee209",
   "metadata": {},
   "outputs": [],
   "source": []
  }
 ],
 "metadata": {
  "kernelspec": {
   "display_name": "python_tutorial",
   "language": "python",
   "name": "python3"
  },
  "language_info": {
   "codemirror_mode": {
    "name": "ipython",
    "version": 3
   },
   "file_extension": ".py",
   "mimetype": "text/x-python",
   "name": "python",
   "nbconvert_exporter": "python",
   "pygments_lexer": "ipython3",
   "version": "3.13.4"
  }
 },
 "nbformat": 4,
 "nbformat_minor": 5
}
