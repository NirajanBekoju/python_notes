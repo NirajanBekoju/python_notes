{
 "cells": [
  {
   "cell_type": "markdown",
   "id": "d24e6b56",
   "metadata": {},
   "source": [
    "## Logging\n",
    "\n",
    "- Logging in Python is a way to track events that occur when your program is running. "
   ]
  },
  {
   "cell_type": "markdown",
   "id": "d60deac4",
   "metadata": {},
   "source": [
    "| Level      | Meaning                                       |\n",
    "| ---------- | --------------------------------------------- |\n",
    "| `DEBUG`    | Detailed information (for debugging).         |\n",
    "| `INFO`     | General info (e.g., program started).         |\n",
    "| `WARNING`  | Something might be wrong.                     |\n",
    "| `ERROR`    | An error occurred, but the program continues. |\n",
    "| `CRITICAL` | Serious error, program may not continue.      |\n"
   ]
  },
  {
   "cell_type": "code",
   "execution_count": 1,
   "id": "85154e6a",
   "metadata": {},
   "outputs": [
    {
     "name": "stderr",
     "output_type": "stream",
     "text": [
      "WARNING:root:This is a warning message\n",
      "ERROR:root:This is an error message\n",
      "CRITICAL:root:This is a critical message\n"
     ]
    }
   ],
   "source": [
    "import logging\n",
    "\n",
    "# Basic configuration\n",
    "logging.basicConfig(level=logging.WARNING)\n",
    "\n",
    "logging.debug(\"This is a debug message\")\n",
    "logging.info(\"This is an info message\")\n",
    "logging.warning(\"This is a warning message\")\n",
    "logging.error(\"This is an error message\")\n",
    "logging.critical(\"This is a critical message\")"
   ]
  },
  {
   "cell_type": "code",
   "execution_count": 3,
   "id": "8202454c",
   "metadata": {},
   "outputs": [
    {
     "name": "stderr",
     "output_type": "stream",
     "text": [
      "INFO:__main__:This is an info message\n",
      "WARNING:__main__:This is a warning message\n",
      "ERROR:__main__:This is an error message\n",
      "CRITICAL:__main__:This is a critical message\n"
     ]
    }
   ],
   "source": [
    "import logging\n",
    "logging.basicConfig(level=logging.INFO)\n",
    "logger = logging.getLogger(__name__)\n",
    "\n",
    "logger.debug('This is a debug message')\n",
    "logger.info('This is an info message')\n",
    "logger.warning('This is a warning message')\n",
    "logger.error('This is an error message')\n",
    "logger.critical('This is a critical message')"
   ]
  },
  {
   "cell_type": "markdown",
   "id": "1add33f1",
   "metadata": {},
   "source": [
    "## Formatting the log messages\n",
    "\n",
    "%(asctime)s: The time the message was logged.\n",
    "\n",
    "%(name)s: The name of the logger.\n",
    "\n",
    "%(levelname)s: The log level.\n",
    "\n",
    "%(message)s: The log message itself.\n",
    "\n",
    "%(filename)s: The filename of the module that the logger is created in.\n",
    "\n",
    "%(lineno)d: The line number of the module that the logger is created in.\n",
    "\n",
    "%(funcName)s: The name of the function that the logger is created in."
   ]
  },
  {
   "cell_type": "code",
   "execution_count": 1,
   "id": "afbbafe7",
   "metadata": {},
   "outputs": [],
   "source": [
    "import logging\n",
    "\n",
    "logging.basicConfig(\n",
    "    filename='app.log',\n",
    "    level=logging.INFO,\n",
    "    format='%(asctime)s - %(levelname)s - %(message)s'\n",
    ")\n",
    "\n",
    "logging.info(\"App started\")"
   ]
  },
  {
   "cell_type": "code",
   "execution_count": null,
   "id": "e8dbd361",
   "metadata": {},
   "outputs": [],
   "source": [
    "logging.debug(\"This is a DEBUG log\")\n",
    "logging.critical('This is a critical error')"
   ]
  },
  {
   "cell_type": "code",
   "execution_count": 4,
   "id": "73fb61eb",
   "metadata": {},
   "outputs": [],
   "source": [
    "def add(a, b):\n",
    "    logging.info(\"adding two numbers\")\n",
    "    return a + b"
   ]
  },
  {
   "cell_type": "code",
   "execution_count": 5,
   "id": "e3be16f2",
   "metadata": {},
   "outputs": [
    {
     "data": {
      "text/plain": [
       "12"
      ]
     },
     "execution_count": 5,
     "metadata": {},
     "output_type": "execute_result"
    }
   ],
   "source": [
    "add(10, 2)"
   ]
  },
  {
   "cell_type": "markdown",
   "id": "e903195b",
   "metadata": {},
   "source": [
    "## Basic Example of logging"
   ]
  },
  {
   "cell_type": "code",
   "execution_count": 1,
   "id": "59bef4ca",
   "metadata": {},
   "outputs": [],
   "source": [
    "import logging\n",
    "\n",
    "logging.basicConfig(filename = 'divide_app.log',level=logging.INFO, format='%(levelname)s: %(message)s')\n",
    "\n",
    "def divide(a, b):\n",
    "    try:\n",
    "        logging.info(f\"Trying to divide {a} by {b}\")\n",
    "        return a / b\n",
    "    except ZeroDivisionError as e:\n",
    "        logging.error(\"Division by zero error!\")\n",
    "        return None\n",
    "\n",
    "result = divide(10, 0)"
   ]
  },
  {
   "cell_type": "markdown",
   "id": "d5d51dac",
   "metadata": {},
   "source": [
    "## Exercise: \n",
    "#### 1. Logging in a Temperature Converter App\n",
    "\n",
    "Create a Python program that:\n",
    "\n",
    "1. Converts Celsius to Fahrenheit.\n",
    "2. Uses logging to:\n",
    "   - Record when a conversion is attempted.\n",
    "   - Warn if a suspiciously low or high temperature is entered.\n",
    "   - Log an error if a non-numeric input is entered.\n",
    "\n",
    "**Requirements:**\n",
    "\n",
    "- Use `logging.info()` to log normal operations.\n",
    "- Use `logging.warning()` for temperature < -100°C or > 100°C.\n",
    "- Use `logging.error()` for invalid inputs.\n",
    "\n",
    "---\n",
    "\n",
    "#### 2. Engine Diagnostic\n",
    "\n",
    "##### Scenario\n",
    "You are writing a simple Python program that simulates checking the status of an engine in a vehicle. The engine has several parameters to monitor, such as temperature, oil level, and RPM (revolutions per minute). Your task is to log different messages based on these parameters.\n",
    "\n",
    "\n",
    "##### Task\n",
    "\n",
    "1. **Create a Python script** that:\n",
    "   - Checks the engine temperature.\n",
    "   - Checks the oil level.\n",
    "   - Checks the RPM.\n",
    "\n",
    "2. **Log messages** with different severity levels depending on the condition:\n",
    "   - If the engine temperature is above 100°C, log a **WARNING**.\n",
    "   - If the oil level is below 20%, log an **ERROR**.\n",
    "   - If the RPM is above 5000, log a **CRITICAL** message.\n",
    "   - Otherwise, log an **INFO** message indicating the engine is running normally.\n",
    "\n",
    "3. Use the built-in `logging` module and set the logging level to `INFO` so all messages of level INFO and above are shown.\n"
   ]
  },
  {
   "cell_type": "code",
   "execution_count": null,
   "id": "603c5533",
   "metadata": {},
   "outputs": [],
   "source": []
  }
 ],
 "metadata": {
  "kernelspec": {
   "display_name": "python_tutorial",
   "language": "python",
   "name": "python3"
  },
  "language_info": {
   "codemirror_mode": {
    "name": "ipython",
    "version": 3
   },
   "file_extension": ".py",
   "mimetype": "text/x-python",
   "name": "python",
   "nbconvert_exporter": "python",
   "pygments_lexer": "ipython3",
   "version": "3.13.4"
  }
 },
 "nbformat": 4,
 "nbformat_minor": 5
}
