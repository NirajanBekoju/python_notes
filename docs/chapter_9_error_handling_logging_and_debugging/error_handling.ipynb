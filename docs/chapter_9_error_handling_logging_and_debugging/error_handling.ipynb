{
 "cells": [
  {
   "cell_type": "markdown",
   "id": "f90c120d",
   "metadata": {},
   "source": [
    "## Error Handling\n",
    "\n",
    "| Exception Name        | Description                                                                 | Example Scenario                                          |\n",
    "|-----------------------|-----------------------------------------------------------------------------|-----------------------------------------------------------|\n",
    "| `ZeroDivisionError`   | Raised when a number is divided by zero.                                   | `10 / 0`                                                  |\n",
    "| `TypeError`           | Raised when an operation is applied to an object of inappropriate type.    | `'2' + 2`                                                 |\n",
    "| `ValueError`          | Raised when a function receives an argument of the right type but bad value.| `int('abc')`                                              |\n",
    "| `IndexError`          | Raised when trying to access an index that is out of range.                | `my_list[10]` where `len(my_list) = 5`                    |\n",
    "| `KeyError`            | Raised when a dictionary key is not found.                                 | `my_dict['missing_key']`                                 |\n",
    "| `AttributeError`      | Raised when an invalid attribute reference is made.                        | `'hello'.fake_method()`                                   |\n",
    "| `ImportError`         | Raised when an import fails.                                                | `import non_existent_module`                             |\n",
    "| `ModuleNotFoundError` | Raised when a module could not be found.                                   | `import no_module`                                       |\n",
    "| `NameError`           | Raised when a local or global name is not found.                           | `print(undeclared_variable)`                             |\n",
    "| `FileNotFoundError`   | Raised when a file or directory is requested but doesn’t exist.            | `open('nonexistent.txt')`                                |\n",
    "| `IOError`             | Raised when an I/O operation fails.                                        | Issues with reading/writing files                         |\n",
    "| `StopIteration`       | Raised when the `next()` method of an iterator has no more items.          | Using `next()` on an exhausted iterator                   |\n",
    "| `RuntimeError`        | Raised when an error doesn’t fall into any other category.                 | Infinite recursion or reentrant calls                     |\n",
    "| `AssertionError`      | Raised when an `assert` statement fails.                                   | `assert 2 + 2 == 5`                                       |\n",
    "| `MemoryError`         | Raised when an operation runs out of memory.                              | Creating a massive list with limited RAM                  |\n"
   ]
  },
  {
   "cell_type": "code",
   "execution_count": 4,
   "id": "38a237ff",
   "metadata": {},
   "outputs": [
    {
     "ename": "NameError",
     "evalue": "name 'x' is not defined",
     "output_type": "error",
     "traceback": [
      "\u001b[31m---------------------------------------------------------------------------\u001b[39m",
      "\u001b[31mNameError\u001b[39m                                 Traceback (most recent call last)",
      "\u001b[36mCell\u001b[39m\u001b[36m \u001b[39m\u001b[32mIn[4]\u001b[39m\u001b[32m, line 1\u001b[39m\n\u001b[32m----> \u001b[39m\u001b[32m1\u001b[39m \u001b[38;5;28mprint\u001b[39m(\u001b[43mx\u001b[49m)\n",
      "\u001b[31mNameError\u001b[39m: name 'x' is not defined"
     ]
    }
   ],
   "source": [
    "print(x)"
   ]
  },
  {
   "cell_type": "code",
   "execution_count": 2,
   "id": "f890b581",
   "metadata": {},
   "outputs": [
    {
     "name": "stdout",
     "output_type": "stream",
     "text": [
      "10\n",
      "ERROR : division by zero\n",
      "Everything is completed regardless of error or no error\n"
     ]
    }
   ],
   "source": [
    "x = 10\n",
    "try:\n",
    "    print(x)\n",
    "    print(10/0)\n",
    "except NameError as e:\n",
    "    print(f'ERROR : {e}')\n",
    "except ZeroDivisionError as e:\n",
    "    print(f'ERROR : {e}')\n",
    "else:\n",
    "    print(\"Nothing went wrong\")\n",
    "finally:\n",
    "    print(\"Everything is completed regardless of error or no error\")"
   ]
  },
  {
   "cell_type": "code",
   "execution_count": 9,
   "id": "aa48dd19",
   "metadata": {},
   "outputs": [
    {
     "name": "stdout",
     "output_type": "stream",
     "text": [
      "10\n",
      "division by zero\n",
      "Everything is completed regardless of error or no error\n"
     ]
    }
   ],
   "source": [
    "x = 10\n",
    "try:\n",
    "    print(x)\n",
    "    print(10/0)\n",
    "except (NameError, ZeroDivisionError) as e:\n",
    "    print(e)\n",
    "else:\n",
    "    print(\"Nothing went wrong\")\n",
    "finally:\n",
    "    print(\"Everything is completed regardless of error or no error\")"
   ]
  },
  {
   "cell_type": "code",
   "execution_count": null,
   "id": "af2cb6da",
   "metadata": {},
   "outputs": [
    {
     "name": "stdout",
     "output_type": "stream",
     "text": [
      "Something went wrong\n",
      "Everything is completed regardless of error or no error\n"
     ]
    }
   ],
   "source": [
    "try:\n",
    "    print(x) # This will cause an error since x is not defined\n",
    "except:\n",
    "    print(\"Something went wrong\")\n",
    "else:\n",
    "    print(\"Nothing went wrong\")\n",
    "finally:\n",
    "    print(\"Everything is completed regardless of error or no error\")"
   ]
  },
  {
   "cell_type": "code",
   "execution_count": 2,
   "id": "24464b18",
   "metadata": {},
   "outputs": [
    {
     "name": "stdout",
     "output_type": "stream",
     "text": [
      "Variable x is not defined\n"
     ]
    }
   ],
   "source": [
    "try:\n",
    "  print(x)\n",
    "except:\n",
    "  print(\"Variable x is not defined\")"
   ]
  },
  {
   "cell_type": "code",
   "execution_count": null,
   "id": "da075ffb",
   "metadata": {},
   "outputs": [
    {
     "name": "stdout",
     "output_type": "stream",
     "text": [
      "name 'x' is not defined\n"
     ]
    }
   ],
   "source": [
    "try:\n",
    "  print(x)\n",
    "except NameError as e:\n",
    "  print(e)"
   ]
  },
  {
   "cell_type": "code",
   "execution_count": null,
   "id": "c44b6b40",
   "metadata": {},
   "outputs": [],
   "source": []
  },
  {
   "cell_type": "markdown",
   "id": "cf0b4b69",
   "metadata": {},
   "source": [
    "#### Some Examples of Error Handling"
   ]
  },
  {
   "cell_type": "code",
   "execution_count": 8,
   "id": "033be26b",
   "metadata": {},
   "outputs": [
    {
     "name": "stdout",
     "output_type": "stream",
     "text": [
      "Result: 5.0\n",
      "Operation attempted.\n"
     ]
    }
   ],
   "source": [
    "def divide(a, b):\n",
    "    try:\n",
    "        result = a / b\n",
    "    except ZeroDivisionError:\n",
    "        print(\"Error: Cannot divide by zero.\")\n",
    "    else:\n",
    "        print(f\"Result: {result}\")\n",
    "    finally:\n",
    "        print(\"Operation attempted.\")\n",
    "\n",
    "divide(10, 2)"
   ]
  },
  {
   "cell_type": "code",
   "execution_count": 9,
   "id": "807c147c",
   "metadata": {},
   "outputs": [
    {
     "name": "stdout",
     "output_type": "stream",
     "text": [
      "Error: Cannot divide by zero.\n",
      "Operation attempted.\n"
     ]
    }
   ],
   "source": [
    "divide(10, 0)"
   ]
  },
  {
   "cell_type": "code",
   "execution_count": 10,
   "id": "b9b052c2",
   "metadata": {},
   "outputs": [],
   "source": [
    "def square_number(x):\n",
    "    try:\n",
    "        return int(x) ** 2\n",
    "    except ValueError:\n",
    "        print(\"Please enter a valid integer.\")"
   ]
  },
  {
   "cell_type": "code",
   "execution_count": null,
   "id": "738548ae",
   "metadata": {},
   "outputs": [
    {
     "data": {
      "text/plain": [
       "4"
      ]
     },
     "execution_count": 11,
     "metadata": {},
     "output_type": "execute_result"
    }
   ],
   "source": [
    "square_number(2) # output: 4"
   ]
  },
  {
   "cell_type": "code",
   "execution_count": null,
   "id": "f709c95d",
   "metadata": {},
   "outputs": [
    {
     "name": "stdout",
     "output_type": "stream",
     "text": [
      "Please enter a valid integer.\n"
     ]
    }
   ],
   "source": [
    "square_number('hello') # output : Please enter a valid integer."
   ]
  },
  {
   "cell_type": "code",
   "execution_count": 13,
   "id": "13ee1ce3",
   "metadata": {},
   "outputs": [
    {
     "ename": "IndexError",
     "evalue": "list index out of range",
     "output_type": "error",
     "traceback": [
      "\u001b[31m---------------------------------------------------------------------------\u001b[39m",
      "\u001b[31mIndexError\u001b[39m                                Traceback (most recent call last)",
      "\u001b[36mCell\u001b[39m\u001b[36m \u001b[39m\u001b[32mIn[13]\u001b[39m\u001b[32m, line 2\u001b[39m\n\u001b[32m      1\u001b[39m my_list = [\u001b[32m5\u001b[39m, \u001b[32m2\u001b[39m, \u001b[32m3\u001b[39m, \u001b[32m7\u001b[39m]\n\u001b[32m----> \u001b[39m\u001b[32m2\u001b[39m \u001b[43mmy_list\u001b[49m\u001b[43m[\u001b[49m\u001b[32;43m10\u001b[39;49m\u001b[43m]\u001b[49m\n",
      "\u001b[31mIndexError\u001b[39m: list index out of range"
     ]
    }
   ],
   "source": [
    "my_list = [5, 2, 3, 7]\n",
    "my_list[10]"
   ]
  },
  {
   "cell_type": "code",
   "execution_count": 16,
   "id": "c360b480",
   "metadata": {},
   "outputs": [
    {
     "name": "stdout",
     "output_type": "stream",
     "text": [
      "Error : list index out of range\n"
     ]
    }
   ],
   "source": [
    "try:\n",
    "    my_list[10]\n",
    "except IndexError as e:\n",
    "    print(f'Error :', e)"
   ]
  },
  {
   "cell_type": "markdown",
   "id": "cbc08cb8",
   "metadata": {},
   "source": [
    "## Custom Exception"
   ]
  },
  {
   "cell_type": "code",
   "execution_count": 21,
   "id": "16b373a3",
   "metadata": {},
   "outputs": [
    {
     "name": "stdout",
     "output_type": "stream",
     "text": [
      "Custom Error: Cannot take square root of a negative number.\n"
     ]
    }
   ],
   "source": [
    "class NegativeNumberError(Exception):\n",
    "    \"\"\"Exception raised when a negative number is provided.\"\"\"\n",
    "    pass\n",
    "\n",
    "\n",
    "def square_root(x):\n",
    "    if x < 0:\n",
    "        raise NegativeNumberError(\"Cannot take square root of a negative number.\")\n",
    "    return x ** 0.5\n",
    "\n",
    "try:\n",
    "    result = square_root(-9)\n",
    "except NegativeNumberError as e:\n",
    "    print(f\"Custom Error: {e}\")"
   ]
  },
  {
   "cell_type": "code",
   "execution_count": null,
   "id": "70de8d49",
   "metadata": {},
   "outputs": [
    {
     "name": "stdout",
     "output_type": "stream",
     "text": [
      "Your age is 20\n"
     ]
    }
   ],
   "source": [
    "class InvalidAgeError(Exception):\n",
    "    pass \n",
    "\n",
    "try:\n",
    "    age = int(input(\"Enter your age : \"))\n",
    "    if age < 0 or age > 120:\n",
    "        raise InvalidAgeError('Age should be between 0 and 120')\n",
    "    \n",
    "except ValueError:\n",
    "    print('ERROR : Enter a valid number')\n",
    "\n",
    "except InvalidAgeError as e:\n",
    "    print(f'ERROR : {e}')\n",
    "    \n",
    "else:\n",
    "    print(f'Your age is {age}')"
   ]
  },
  {
   "cell_type": "markdown",
   "id": "785b86a1",
   "metadata": {},
   "source": [
    "# Exercise\n",
    "#### 1. Age Validator with Custom Exception\n",
    "\n",
    "**Task:**  \n",
    "Write a program that asks the user to enter their age. The program should:\n",
    "\n",
    "- Convert the input to an integer.\n",
    "- Raise a **custom exception** called `InvalidAgeError` if the age is less than 0 or greater than 120.\n",
    "- Handle `ValueError` if the input is not a valid number.\n",
    "- Handle your custom `InvalidAgeError` to print a friendly message.\n",
    "- If the age is valid, print `\"Your age is <age>\"`."
   ]
  },
  {
   "cell_type": "markdown",
   "id": "cb534a1a",
   "metadata": {},
   "source": [
    "#### 2. Calculator with Exception Handling\n",
    "\n",
    "**Task:**  \n",
    "Create a simple calculator program that:\n",
    "\n",
    "- Asks the user to enter two numbers.\n",
    "- Asks the user to choose an operation: add (`+`), subtract (`-`), multiply (`*`), or divide (`/`).\n",
    "- Performs the chosen operation.\n",
    "- Handles the following exceptions:\n",
    "  - `ValueError` if the user enters invalid numbers.\n",
    "  - `ZeroDivisionError` if dividing by zero.\n",
    "- Prints the result if the calculation is successful.\n"
   ]
  },
  {
   "cell_type": "code",
   "execution_count": null,
   "id": "9dfee7fc",
   "metadata": {},
   "outputs": [],
   "source": []
  }
 ],
 "metadata": {
  "kernelspec": {
   "display_name": "python_tutorial",
   "language": "python",
   "name": "python3"
  },
  "language_info": {
   "codemirror_mode": {
    "name": "ipython",
    "version": 3
   },
   "file_extension": ".py",
   "mimetype": "text/x-python",
   "name": "python",
   "nbconvert_exporter": "python",
   "pygments_lexer": "ipython3",
   "version": "3.13.4"
  }
 },
 "nbformat": 4,
 "nbformat_minor": 5
}
