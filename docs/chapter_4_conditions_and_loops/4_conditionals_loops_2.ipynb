{
 "cells": [
  {
   "cell_type": "markdown",
   "id": "c27cbe37",
   "metadata": {},
   "source": [
    "# Conditionals and Loops"
   ]
  },
  {
   "cell_type": "markdown",
   "id": "b7affdf7",
   "metadata": {},
   "source": [
    "### if, elif and else and Indentation"
   ]
  },
  {
   "cell_type": "code",
   "execution_count": 1,
   "id": "d5baefb6",
   "metadata": {},
   "outputs": [
    {
     "name": "stdout",
     "output_type": "stream",
     "text": [
      "Greater than 10\n"
     ]
    }
   ],
   "source": [
    "# 1. if, elif, else and Indentation\n",
    "x = 15\n",
    "\n",
    "if x < 10:\n",
    "    print(\"Less than 10\")\n",
    "elif x == 10:\n",
    "    print(\"Equal to 10\")\n",
    "else:\n",
    "    print(\"Greater than 10\")"
   ]
  },
  {
   "cell_type": "code",
   "execution_count": 2,
   "id": "b13ae8b1",
   "metadata": {},
   "outputs": [
    {
     "name": "stdout",
     "output_type": "stream",
     "text": [
      "x less than 10\n"
     ]
    }
   ],
   "source": [
    "if x < 10:\n",
    "    print('x less than 10')\n",
    "print('x less than 10')"
   ]
  },
  {
   "cell_type": "markdown",
   "id": "076f534f",
   "metadata": {},
   "source": [
    "### Conditional statement using logical operator (and, or, not)"
   ]
  },
  {
   "cell_type": "code",
   "execution_count": 3,
   "id": "52b7c485",
   "metadata": {},
   "outputs": [
    {
     "name": "stdout",
     "output_type": "stream",
     "text": [
      "Both conditions are True\n",
      "At least one condition is True\n",
      "a is not greater than 10\n"
     ]
    }
   ],
   "source": [
    "# 2. Logical Operators: and, or, not\n",
    "a = 5\n",
    "b = 10\n",
    "\n",
    "if a < 10 and b > 5:\n",
    "    print(\"Both conditions are True\")\n",
    "\n",
    "if a > 10 or b > 5:\n",
    "    print(\"At least one condition is True\")\n",
    "\n",
    "if not a > 10:\n",
    "    print(\"a is not greater than 10\")"
   ]
  },
  {
   "cell_type": "markdown",
   "id": "c46ca76e",
   "metadata": {},
   "source": [
    "### Identity(is) vs Equality(==)"
   ]
  },
  {
   "cell_type": "code",
   "execution_count": 4,
   "id": "7ee95131",
   "metadata": {},
   "outputs": [
    {
     "name": "stdout",
     "output_type": "stream",
     "text": [
      "True\n",
      "False\n",
      "True\n"
     ]
    }
   ],
   "source": [
    "# 3. is vs. == (Identity vs. Equality)\n",
    "x = [1, 2, 3]\n",
    "y = [1, 2, 3]\n",
    "z = x\n",
    "\n",
    "print(x == y)  # True: Same content\n",
    "print(x is y)  # False: Different objects\n",
    "print(x is z)  # True: Same object"
   ]
  },
  {
   "cell_type": "code",
   "execution_count": 5,
   "id": "1be80f9f",
   "metadata": {},
   "outputs": [
    {
     "data": {
      "text/plain": [
       "(136234817650112, 136234817650496, 136234817650112)"
      ]
     },
     "execution_count": 5,
     "metadata": {},
     "output_type": "execute_result"
    }
   ],
   "source": [
    "id(x), id(y), id(z)"
   ]
  },
  {
   "cell_type": "markdown",
   "id": "8b1a8ba3",
   "metadata": {},
   "source": [
    "## Ternary Operator\n",
    "- The ternary operator in Python allows us to perform conditional checks and assign values or perform operations on a single line. \n",
    "```\n",
    "x = a if condition else b\n",
    "```"
   ]
  },
  {
   "cell_type": "code",
   "execution_count": 6,
   "id": "8ee94dd7",
   "metadata": {},
   "outputs": [
    {
     "name": "stdout",
     "output_type": "stream",
     "text": [
      "Odd\n"
     ]
    }
   ],
   "source": [
    "n = 5\n",
    "res = \"Even\" if n % 2 == 0 else \"Odd\"\n",
    "print(res)"
   ]
  },
  {
   "cell_type": "markdown",
   "id": "479a9f33",
   "metadata": {},
   "source": [
    "#### 1. Check Even or Odd  \n",
    "Write a program that takes an integer input from the user and checks if it is even or odd.\n",
    "\n",
    "#### 2. Check Age Category  \n",
    "Write a program that asks for a person's age and prints:\n",
    "- \"Child\" if age < 13  \n",
    "- \"Teenager\" if 13 <= age < 20  \n",
    "- \"Adult\" if age >= 20\n",
    "\n",
    "\n",
    "#### 3. Write a one-liner using a ternary operator to assign a grade based on a student's score.\n",
    "\n",
    "Given a variable score (an integer from 0 to 100), write a one-liner to assign:\n",
    "\n",
    "\"Pass\" if the score is 40 or above\n",
    "\n",
    "\"Fail\" if the score is below 40"
   ]
  },
  {
   "cell_type": "markdown",
   "id": "0b9431df",
   "metadata": {},
   "source": [
    "## Loops"
   ]
  },
  {
   "cell_type": "code",
   "execution_count": 7,
   "id": "5a98dbcd",
   "metadata": {},
   "outputs": [
    {
     "name": "stdout",
     "output_type": "stream",
     "text": [
      "kathmandu\n",
      "KATHMANDU\n",
      "lalitpur\n",
      "LALITPUR\n",
      "bhaktapur\n",
      "BHAKTAPUR\n",
      "asdf\n",
      "ASDF\n"
     ]
    }
   ],
   "source": [
    "cities_list = ('Kathmandu', 'Lalitpur', 'Bhaktapur', 'asdf')\n",
    "\n",
    "for city in cities_list:\n",
    "    print(city.lower())\n",
    "    print(city.upper())\n"
   ]
  },
  {
   "cell_type": "code",
   "execution_count": 8,
   "id": "12455ea4",
   "metadata": {},
   "outputs": [
    {
     "name": "stdout",
     "output_type": "stream",
     "text": [
      "K\n",
      "a\n",
      "t\n",
      "h\n",
      "m\n",
      "a\n",
      "n\n",
      "d\n",
      "u\n"
     ]
    }
   ],
   "source": [
    "word = 'Kathmandu'\n",
    "\n",
    "for char in word:\n",
    "    print(char)"
   ]
  },
  {
   "cell_type": "code",
   "execution_count": 9,
   "id": "c26387eb",
   "metadata": {},
   "outputs": [
    {
     "name": "stdout",
     "output_type": "stream",
     "text": [
      "apple\n",
      "banana\n",
      "cherry\n"
     ]
    }
   ],
   "source": [
    "# 4. Introduction to Loops: for and while\n",
    "# for loop\n",
    "fruits = [\"apple\", \"banana\", \"cherry\"]\n",
    "for fruit in fruits:\n",
    "    print(fruit)"
   ]
  },
  {
   "cell_type": "code",
   "execution_count": 10,
   "id": "c507ca40",
   "metadata": {},
   "outputs": [
    {
     "name": "stdout",
     "output_type": "stream",
     "text": [
      "Count: 0\n",
      "Count: 1\n",
      "Count: 2\n"
     ]
    }
   ],
   "source": [
    "# while loop\n",
    "count = 0\n",
    "while count < 3:\n",
    "    print(\"Count:\", count)\n",
    "    count += 1"
   ]
  },
  {
   "cell_type": "code",
   "execution_count": 11,
   "id": "633b0fd4",
   "metadata": {},
   "outputs": [
    {
     "name": "stdout",
     "output_type": "stream",
     "text": [
      "0\n",
      "1\n",
      "2\n",
      "3\n",
      "4\n",
      "5\n",
      "6\n",
      "7\n",
      "8\n",
      "9\n"
     ]
    }
   ],
   "source": [
    "for i in range(10):\n",
    "    print(i)"
   ]
  },
  {
   "cell_type": "code",
   "execution_count": 12,
   "id": "2dd724e6",
   "metadata": {},
   "outputs": [
    {
     "name": "stdout",
     "output_type": "stream",
     "text": [
      "2\n",
      "3\n",
      "4\n",
      "5\n",
      "6\n",
      "7\n",
      "8\n",
      "9\n"
     ]
    }
   ],
   "source": [
    "for i in range(2, 10):\n",
    "    print(i)"
   ]
  },
  {
   "cell_type": "code",
   "execution_count": 13,
   "id": "568b86ff",
   "metadata": {},
   "outputs": [
    {
     "name": "stdout",
     "output_type": "stream",
     "text": [
      "2\n",
      "4\n",
      "6\n",
      "8\n"
     ]
    }
   ],
   "source": [
    "for i in range(2, 10, 2):\n",
    "    print(i)"
   ]
  },
  {
   "cell_type": "code",
   "execution_count": 14,
   "id": "27dffd53",
   "metadata": {},
   "outputs": [
    {
     "name": "stdout",
     "output_type": "stream",
     "text": [
      "10\n",
      "8\n",
      "6\n",
      "4\n",
      "2\n"
     ]
    }
   ],
   "source": [
    "for i in range(10, 1, -2):\n",
    "    print(i)"
   ]
  },
  {
   "cell_type": "code",
   "execution_count": 15,
   "id": "162e5fae",
   "metadata": {},
   "outputs": [],
   "source": [
    "numbers_list = []\n",
    "for i in range(1, 101):\n",
    "    numbers_list.append(i)"
   ]
  },
  {
   "cell_type": "code",
   "execution_count": 16,
   "id": "5a97fe32",
   "metadata": {},
   "outputs": [],
   "source": [
    "nums_list = list(range(1, 101))"
   ]
  },
  {
   "cell_type": "code",
   "execution_count": 17,
   "id": "8558f526",
   "metadata": {},
   "outputs": [],
   "source": [
    "numbers_list = [1, 2, 3, 4, 5, 6, 7,]"
   ]
  },
  {
   "cell_type": "code",
   "execution_count": 18,
   "id": "32f59fd4",
   "metadata": {},
   "outputs": [
    {
     "name": "stdout",
     "output_type": "stream",
     "text": [
      "Break example: 0\n",
      "Break example: 1\n",
      "Break example: 2\n"
     ]
    }
   ],
   "source": [
    "# 5. Loop control: break, continue, pass\n",
    "# break example\n",
    "for i in range(5):\n",
    "    if i == 3:\n",
    "        break\n",
    "    print(f\"Break example: {i}\")\n"
   ]
  },
  {
   "cell_type": "code",
   "execution_count": 19,
   "id": "927ec99a",
   "metadata": {},
   "outputs": [
    {
     "name": "stdout",
     "output_type": "stream",
     "text": [
      "Continue example: 0\n",
      "Continue example: 1\n",
      "Continue example: 3\n",
      "Continue example: 4\n"
     ]
    }
   ],
   "source": [
    "# continue example\n",
    "for i in range(5):\n",
    "    if i == 2:\n",
    "        continue\n",
    "    print(\"Continue example:\", i)\n"
   ]
  },
  {
   "cell_type": "markdown",
   "id": "a092a342",
   "metadata": {},
   "source": [
    "## Range\n",
    "```\n",
    "range(start, stop, step)\n",
    "```"
   ]
  },
  {
   "cell_type": "code",
   "execution_count": 20,
   "id": "a2e5baf0",
   "metadata": {},
   "outputs": [
    {
     "name": "stdout",
     "output_type": "stream",
     "text": [
      "1\n",
      "2\n",
      "3\n",
      "4\n",
      "5\n"
     ]
    }
   ],
   "source": [
    "# range()\n",
    "for i in range(1, 6):\n",
    "    print(i)"
   ]
  },
  {
   "cell_type": "code",
   "execution_count": 21,
   "id": "472edaff",
   "metadata": {},
   "outputs": [
    {
     "name": "stdout",
     "output_type": "stream",
     "text": [
      "1\n",
      "3\n",
      "5\n",
      "7\n",
      "9\n"
     ]
    }
   ],
   "source": [
    "for i in range(1, 10, 2):\n",
    "    print(i)"
   ]
  },
  {
   "cell_type": "code",
   "execution_count": 22,
   "id": "d67644ba",
   "metadata": {},
   "outputs": [
    {
     "name": "stdout",
     "output_type": "stream",
     "text": [
      "10\n",
      "9\n",
      "8\n",
      "7\n",
      "6\n",
      "5\n",
      "4\n",
      "3\n",
      "2\n"
     ]
    }
   ],
   "source": [
    "for i in range(10, 1, -1):\n",
    "    print(i)"
   ]
  },
  {
   "cell_type": "markdown",
   "id": "1f11a056",
   "metadata": {},
   "source": [
    "## Enumerate\n",
    "```\n",
    "enumerate(iterable, start) \n",
    "```\n",
    "\n",
    "default value for start = 0"
   ]
  },
  {
   "cell_type": "code",
   "execution_count": 23,
   "id": "70d1dc55",
   "metadata": {},
   "outputs": [
    {
     "name": "stdout",
     "output_type": "stream",
     "text": [
      "0 : red\n",
      "1 : green\n",
      "2 : blue\n"
     ]
    }
   ],
   "source": [
    "colors = [\"red\", \"green\", \"blue\"]\n",
    "for index, color in enumerate(colors):\n",
    "    print(f\"{index} : {color}\")\n"
   ]
  },
  {
   "cell_type": "code",
   "execution_count": 24,
   "id": "b1335ccf",
   "metadata": {},
   "outputs": [
    {
     "name": "stdout",
     "output_type": "stream",
     "text": [
      "2 : red\n",
      "3 : green\n",
      "4 : blue\n"
     ]
    }
   ],
   "source": [
    "colors = [\"red\", \"green\", \"blue\"]\n",
    "for index, color in enumerate(colors, start=2):\n",
    "    print(f\"{index} : {color}\")\n"
   ]
  },
  {
   "cell_type": "code",
   "execution_count": 25,
   "id": "63d46d94",
   "metadata": {},
   "outputs": [
    {
     "name": "stdout",
     "output_type": "stream",
     "text": [
      "Index 0 has color red\n",
      "Index 1 has color green\n",
      "Index 2 has color blue\n"
     ]
    }
   ],
   "source": [
    "# enumerate()\n",
    "colors = [\"red\", \"green\", \"blue\"]\n",
    "for index, color in enumerate(colors):\n",
    "    print(f\"Index {index} has color {color}\")"
   ]
  },
  {
   "cell_type": "markdown",
   "id": "222f6156",
   "metadata": {},
   "source": [
    "### Exercise\n",
    "#### 3. Print Multiplication Table (for loop)\n",
    "Print the multiplication table of a number entered by the user (from 1 to 10). Print in the following format. **Use f-string in this case**\n",
    "\n",
    "Input = 2\n",
    "\n",
    "Output:\n",
    "```\n",
    "2 * 1 = 2\n",
    "2 * 2 = 4\n",
    "2 * 3 = 6\n",
    "....\n",
    "...\n",
    "\n",
    "2 * 10 = 20\n",
    "```\n",
    "\n",
    "#### 4. Sum of First N Numbers (while loop)\n",
    "Ask the user for a number n and compute the sum of the first n natural numbers using a while loop.\n",
    "\n",
    "Input : 5\n",
    "\n",
    "Output : 15 \n",
    "\n",
    "\n",
    "#### 5. Write a program that takes a string input from the user and uses a dictionary to count how many times each character appears in the string. Use a loop to iterate over the string.\n",
    "\n",
    "Example: \n",
    "\n",
    "Input: \"banana\"\n",
    "\n",
    "Output:\n",
    "```\n",
    "{'b': 1, 'a': 3, 'n': 2}\n",
    "```\n",
    "\n",
    "#### 6. Filter out All Even Numbers in a List\n",
    "Write a program that takes a list of integers and uses a loop to create a new list containing only the even numbers from the original list. Then print the new list.\n",
    "\n",
    "Example:\n",
    "```\n",
    "Input: [1, 4, 7, 8, 10, 3, 6]\n",
    "```\n",
    "```\n",
    "\n",
    "Output:\n",
    "[4, 8, 10, 6]\n",
    "```"
   ]
  },
  {
   "cell_type": "code",
   "execution_count": 26,
   "id": "cc2e3055",
   "metadata": {},
   "outputs": [
    {
     "name": "stdout",
     "output_type": "stream",
     "text": [
      "[98, 20]\n"
     ]
    }
   ],
   "source": [
    "input_list = [1, 23, 983, 2923, 83, 85, 98, 20, 1]\n",
    "output_list = []\n",
    "for num in input_list:\n",
    "    if num % 2 == 0:\n",
    "        output_list.append(num)\n",
    "\n",
    "print(output_list)"
   ]
  },
  {
   "cell_type": "code",
   "execution_count": 27,
   "id": "7b366db2",
   "metadata": {},
   "outputs": [
    {
     "name": "stdout",
     "output_type": "stream",
     "text": [
      "{'b': 1, 'a': 3, 'n': 2}\n"
     ]
    }
   ],
   "source": [
    "word = 'banana'\n",
    "counter_dictionary = {}\n",
    "\n",
    "for char in word:\n",
    "    if char not in counter_dictionary:\n",
    "        counter_dictionary[char] = 1\n",
    "    elif char in counter_dictionary:\n",
    "        counter_dictionary[char] += 1\n",
    "\n",
    "print(counter_dictionary)"
   ]
  },
  {
   "cell_type": "code",
   "execution_count": 28,
   "id": "5c4c1e25",
   "metadata": {},
   "outputs": [
    {
     "data": {
      "text/plain": [
       "False"
      ]
     },
     "execution_count": 28,
     "metadata": {},
     "output_type": "execute_result"
    }
   ],
   "source": [
    "'cocot' in ['apple', 'fruites', 'coco', 'mike']"
   ]
  },
  {
   "cell_type": "markdown",
   "id": "c83bc455",
   "metadata": {},
   "source": [
    "## List Comprehension"
   ]
  },
  {
   "cell_type": "code",
   "execution_count": 29,
   "id": "cec7d21d",
   "metadata": {},
   "outputs": [],
   "source": [
    "numbers = [3, 6, 8, 9, 2]\n",
    "\n",
    "output_list = []\n",
    "for number in numbers:\n",
    "    output_list.append(number ** 2)"
   ]
  },
  {
   "cell_type": "code",
   "execution_count": 30,
   "id": "590457f7",
   "metadata": {},
   "outputs": [
    {
     "name": "stdout",
     "output_type": "stream",
     "text": [
      "[9, 36, 64, 81, 4]\n"
     ]
    }
   ],
   "source": [
    "numbers = [3, 6, 8, 9, 2]\n",
    "\n",
    "output_list = [number**2 for number in numbers]\n",
    "print(output_list)"
   ]
  },
  {
   "cell_type": "code",
   "execution_count": 31,
   "id": "1edf08ea",
   "metadata": {},
   "outputs": [
    {
     "name": "stdout",
     "output_type": "stream",
     "text": [
      "[9, 36, 64, 81, 4]\n"
     ]
    }
   ],
   "source": [
    "print(output_list)"
   ]
  },
  {
   "cell_type": "markdown",
   "id": "0d2acaa4",
   "metadata": {},
   "source": [
    "# Exercise\n",
    "#### 1. Given a list of words, create a list with each word capitalized. Use List Comprehension. \n",
    "Note: **Use string.title() function to capitalize**\n",
    "\n",
    "```\n",
    "input_word_list = ['apple', 'banana', 'coco']\n",
    "\n",
    "output_word_list = ['Apple', 'Banana', 'Coco]\n",
    "```\n",
    "\n",
    "#### 2. Generate pairs of numbers (i, j) where i and j are from 1 to 10, but only where i < j. Use List Comprehension\n",
    "\n",
    "Input: [(2, 5), (5, 2), (3, 7), (8, 2)]\n",
    "\n",
    "Output : [(2, 5), (3, 7)]\n"
   ]
  },
  {
   "cell_type": "code",
   "execution_count": 32,
   "id": "2f8a4fc9",
   "metadata": {},
   "outputs": [
    {
     "name": "stdout",
     "output_type": "stream",
     "text": [
      "[(2, 5), (3, 7)]\n"
     ]
    }
   ],
   "source": [
    "input_list = [(2, 5), (5, 2), (3, 7), (8, 2)]\n",
    "\n",
    "output_list = []\n",
    "for pair in input_list:\n",
    "    if pair[0] < pair[1]:\n",
    "        output_list.append(pair)\n",
    "\n",
    "print(output_list)"
   ]
  },
  {
   "cell_type": "code",
   "execution_count": 33,
   "id": "953f411a",
   "metadata": {},
   "outputs": [
    {
     "data": {
      "text/plain": [
       "[(2, 5), (3, 7)]"
      ]
     },
     "execution_count": 33,
     "metadata": {},
     "output_type": "execute_result"
    }
   ],
   "source": [
    "input_list = [(2, 5), (5, 2), (3, 7), (8, 2)]\n",
    "\n",
    "\n",
    "[pair for pair in input_list if pair[0] < pair[1]]"
   ]
  }
 ],
 "metadata": {
  "kernelspec": {
   "display_name": "python_tutorial",
   "language": "python",
   "name": "python3"
  },
  "language_info": {
   "codemirror_mode": {
    "name": "ipython",
    "version": 3
   },
   "file_extension": ".py",
   "mimetype": "text/x-python",
   "name": "python",
   "nbconvert_exporter": "python",
   "pygments_lexer": "ipython3",
   "version": "3.13.4"
  }
 },
 "nbformat": 4,
 "nbformat_minor": 5
}
