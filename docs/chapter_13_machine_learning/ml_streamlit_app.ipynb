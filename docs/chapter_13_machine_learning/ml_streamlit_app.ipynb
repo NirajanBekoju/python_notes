{
 "cells": [
  {
   "cell_type": "markdown",
   "id": "9a78997d",
   "metadata": {},
   "source": [
    "### Streamlit App for Heart Disease Prediction"
   ]
  },
  {
   "cell_type": "markdown",
   "id": "3346bed7",
   "metadata": {},
   "source": [
    "Run the following python script as\n",
    "```\n",
    "streamlit run streamlit_app.py\n",
    "```"
   ]
  },
  {
   "cell_type": "markdown",
   "id": "139388d2",
   "metadata": {},
   "source": [
    "**streamlit_app.py**"
   ]
  },
  {
   "cell_type": "code",
   "execution_count": null,
   "id": "14e50ff7",
   "metadata": {},
   "outputs": [],
   "source": [
    "import streamlit as st\n",
    "import pandas as pd\n",
    "import joblib\n",
    "import numpy as np\n",
    "\n",
    "model = joblib.load('heart_disease_model.pkl')\n",
    "scaler = joblib.load('scaler.pkl')\n",
    "\n",
    "st.title(\"Heart Disease Prediction App\")\n",
    "\n",
    "st.write(\"Enter patient details to predict the likelihood of heart disease. This app uses a trained Logistic Regression model.\")\n",
    "\n",
    "st.header(\"Patient Information\")\n",
    "\n",
    "col1, col2 = st.columns(2)\n",
    "\n",
    "with col1:\n",
    "    age = st.number_input(\"Age (years)\", min_value=0, max_value=120, value=50)\n",
    "    gender = st.selectbox(\"Gender\", options=[1, 0], format_func=lambda x: \"Male\" if x == 1 else \"Female\")\n",
    "    cp = st.selectbox(\"Chest Pain Type (0-3)\", options=[0, 1, 2, 3])\n",
    "    trestbps = st.number_input(\"Resting Blood Pressure (mm Hg)\", min_value=0, max_value=200, value=120)\n",
    "    chol = st.number_input(\"Cholesterol (mg/dL)\", min_value=0, max_value=600, value=200)\n",
    "    fbs = st.selectbox(\"Fasting Blood Sugar > 120 mg/dL\", options=[0, 1], format_func=lambda x: \"Yes\" if x == 1 else \"No\")\n",
    "    restecg = st.selectbox(\"Resting ECG (0-2)\", options=[0, 1, 2])\n",
    "\n",
    "with col2:\n",
    "    thalach = st.number_input(\"Max Heart Rate (bpm)\", min_value=0, max_value=220, value=150)\n",
    "    exang = st.selectbox(\"Exercise Induced Angina\", options=[0, 1], format_func=lambda x: \"Yes\" if x == 1 else \"No\")\n",
    "    oldpeak = st.number_input(\"ST Depression (oldpeak)\", min_value=0.0, max_value=10.0, value=1.0, step=0.1)\n",
    "    slope = st.selectbox(\"Slope of ST Segment (0-2)\", options=[0, 1, 2])\n",
    "    ca = st.selectbox(\"Number of Major Vessels (0-4)\", options=[0, 1, 2, 3, 4])\n",
    "    thal = st.selectbox(\"Thalassemia (0-3)\", options=[0, 1, 2, 3])\n",
    "\n",
    "\n",
    "if st.button(\"Predict\"):\n",
    "    input_data = np.array([[age, gender, cp, trestbps, chol, fbs, restecg, thalach, exang, oldpeak, slope, ca, thal]])\n",
    "    \n",
    "    input_data_scaled = scaler.transform(input_data)\n",
    "    \n",
    "    prediction = model.predict(input_data_scaled)\n",
    "    probability = model.predict_proba(input_data_scaled)[0][1] * 100\n",
    "    \n",
    "    st.subheader(\"Prediction Result\")\n",
    "    if prediction[0] == 1:\n",
    "        st.error(f\"The model predicts a **high likelihood** of heart disease ({probability:.1f}% probability).\")\n",
    "    else:\n",
    "        st.success(f\"The model predicts a **low likelihood** of heart disease ({100 - probability:.1f}% probability of no disease).\")\n",
    "\n",
    "\n",
    "st.sidebar.header(\"How to Use\")\n",
    "st.sidebar.write(\"1. Enter patient details in the form.\")\n",
    "st.sidebar.write(\"2. Click the 'Predict' button to see the result.\")\n",
    "st.sidebar.write(\"3. The model predicts whether the patient is likely to have heart disease (1 = Yes, 0 = No).\")"
   ]
  }
 ],
 "metadata": {
  "language_info": {
   "name": "python"
  }
 },
 "nbformat": 4,
 "nbformat_minor": 5
}
