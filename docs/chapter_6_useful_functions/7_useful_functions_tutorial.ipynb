{
 "cells": [
  {
   "cell_type": "markdown",
   "id": "7a1d702e",
   "metadata": {},
   "source": [
    "# Useful Functions"
   ]
  },
  {
   "cell_type": "markdown",
   "id": "69a23d11",
   "metadata": {},
   "source": [
    "## 1. Pure Functions: Characteristics and Benefits\n",
    "\n",
    "- A **pure function** is a function where the output value is determined only by its input values.\n",
    "- It has **no side effects** (does not modify external state).\n",
    "- Benefits include:\n",
    "  - Easier to test and debug\n",
    "  - Predictable output --> Always give the same output for the same input"
   ]
  },
  {
   "cell_type": "code",
   "execution_count": 3,
   "id": "166062b1",
   "metadata": {},
   "outputs": [
    {
     "name": "stdout",
     "output_type": "stream",
     "text": [
      "5\n"
     ]
    }
   ],
   "source": [
    "def add(a, b):\n",
    "    return a + b\n",
    "\n",
    "print(add(2, 3))  # 5"
   ]
  },
  {
   "cell_type": "code",
   "execution_count": 2,
   "id": "5eb3e2c8",
   "metadata": {},
   "outputs": [
    {
     "name": "stdout",
     "output_type": "stream",
     "text": [
      "1\n",
      "2\n"
     ]
    }
   ],
   "source": [
    "### Non-Pure Function Example\n",
    "# - The following function modifies a global variable, which makes it **impure**:\n",
    "\n",
    "count = 0\n",
    "\n",
    "def increment():\n",
    "    global count\n",
    "    count += 1\n",
    "    return count\n",
    "\n",
    "print(increment())  # 1\n",
    "print(increment())  # 2"
   ]
  },
  {
   "cell_type": "markdown",
   "id": "268e6fc5",
   "metadata": {},
   "source": [
    "## Exercise 1\n",
    "#### Q1: Write a pure function that multiplies three numbers."
   ]
  },
  {
   "cell_type": "markdown",
   "id": "78bcdd7b",
   "metadata": {},
   "source": [
    "## 2. Lambda Expressions: Anonymous Functions\n",
    "\n",
    "- Lambda functions are small, unnamed functions defined using the `lambda` keyword.\n",
    "- Syntax: `lambda arguments: expression`\n",
    "\n",
    "**Limitations:**\n",
    "- You cannot use statements like if, for, while, return, etc., directly inside a lambda.\n",
    "\n",
    "- You can only have expressions, not multiple lines of logic.\n",
    "\n"
   ]
  },
  {
   "cell_type": "code",
   "execution_count": 5,
   "id": "92d69d1c",
   "metadata": {},
   "outputs": [
    {
     "name": "stdout",
     "output_type": "stream",
     "text": [
      "6\n"
     ]
    }
   ],
   "source": [
    "multiply = lambda a, b, c : a * b *c\n",
    "\n",
    "result = multiply(1, 2, 3)\n",
    "print(result)"
   ]
  },
  {
   "cell_type": "code",
   "execution_count": null,
   "id": "50eeccc8",
   "metadata": {},
   "outputs": [],
   "source": []
  },
  {
   "cell_type": "code",
   "execution_count": 6,
   "id": "31345a93",
   "metadata": {},
   "outputs": [
    {
     "name": "stdout",
     "output_type": "stream",
     "text": [
      "10\n"
     ]
    }
   ],
   "source": [
    "add = lambda a, b, c: a + b + c\n",
    "print(add(2, 3, 5))  # 5"
   ]
  },
  {
   "cell_type": "markdown",
   "id": "f4fd1e36",
   "metadata": {},
   "source": [
    "### Exercise 2\n",
    "#### Q2: Write a lambda function that returns the cube of a number."
   ]
  },
  {
   "cell_type": "markdown",
   "id": "7c50c4f9",
   "metadata": {},
   "source": [
    "## 3. Functional Tools: `map()`, `filter()`, `zip()`, `reduce()`"
   ]
  },
  {
   "cell_type": "markdown",
   "id": "f59440b8",
   "metadata": {},
   "source": [
    "---\n",
    "## map()\n",
    "- Applies a function to each item in an iterable."
   ]
  },
  {
   "cell_type": "code",
   "execution_count": 9,
   "id": "28eac5ce",
   "metadata": {},
   "outputs": [
    {
     "name": "stdout",
     "output_type": "stream",
     "text": [
      "[1, 125, 216, 27]\n"
     ]
    }
   ],
   "source": [
    "\n",
    "input_list = [1, 5, 6, 3]\n",
    "\n",
    "outpu_list = list(map(lambda x: x**3, input_list))\n",
    "print(outpu_list)"
   ]
  },
  {
   "cell_type": "code",
   "execution_count": null,
   "id": "bc61931c",
   "metadata": {},
   "outputs": [],
   "source": []
  },
  {
   "cell_type": "code",
   "execution_count": 13,
   "id": "8081197c",
   "metadata": {},
   "outputs": [
    {
     "name": "stdout",
     "output_type": "stream",
     "text": [
      "[1, 4, 9, 16, 25]\n"
     ]
    }
   ],
   "source": [
    "nums = [1, 2, 3, 4, 5]\n",
    "squares = list(map(lambda x: x**2, nums))\n",
    "print(squares)"
   ]
  },
  {
   "cell_type": "code",
   "execution_count": 10,
   "id": "00016d50",
   "metadata": {},
   "outputs": [
    {
     "name": "stdout",
     "output_type": "stream",
     "text": [
      "[25, 6, 49, 8]\n"
     ]
    }
   ],
   "source": [
    "nums = [5, 6, 7, 8]\n",
    "\n",
    "def squareFunction(x):\n",
    "    '''\n",
    "    modify this function:\n",
    "        -return square if odd number else return same number'''\n",
    "    if x % 2 != 0:\n",
    "        return x ** 2\n",
    "    else:\n",
    "        return x\n",
    "\n",
    "squares = list(map(squareFunction, nums))\n",
    "print(squares)"
   ]
  },
  {
   "cell_type": "code",
   "execution_count": 11,
   "id": "a281261c",
   "metadata": {},
   "outputs": [
    {
     "data": {
      "text/plain": [
       "<map at 0x750c4426d7b0>"
      ]
     },
     "execution_count": 11,
     "metadata": {},
     "output_type": "execute_result"
    }
   ],
   "source": [
    "### returns map object\n",
    "map(squareFunction, nums)"
   ]
  },
  {
   "cell_type": "code",
   "execution_count": 12,
   "id": "f82b8cc5",
   "metadata": {},
   "outputs": [
    {
     "name": "stdout",
     "output_type": "stream",
     "text": [
      "25\n",
      "6\n",
      "49\n",
      "8\n"
     ]
    }
   ],
   "source": [
    "for i in map(squareFunction, nums):\n",
    "    print(i)"
   ]
  },
  {
   "cell_type": "markdown",
   "id": "62089879",
   "metadata": {},
   "source": [
    "### Exercise 3\n",
    "#### 1. Use `map()` to square each number in a list of integers.\n",
    "\n",
    "Example input: `[1, 2, 3, 4, 5]`  \n",
    "Expected output: `[1, 4, 9, 16, 25]`\n",
    "\n",
    "### 2. Use `map()` to convert a list of strings to uppercase.\n",
    "\n",
    "Example input: `['apple', 'banana', 'cherry']`  \n",
    "Expected output: `['APPLE', 'BANANA', 'CHERRY']`\n",
    "\n",
    "\n",
    "#### 3. Use `map()` to convert a list of temperatures from Celsius to Fahrenheit.\n",
    "```\n",
    "Formula : Fahrenheit = (Celsius * 9/5) + 32 \n",
    "```"
   ]
  },
  {
   "cell_type": "markdown",
   "id": "528f52b2",
   "metadata": {},
   "source": [
    "\n",
    "---\n",
    "## filter()\n",
    "- Filters items based on a condition."
   ]
  },
  {
   "cell_type": "code",
   "execution_count": 13,
   "id": "b21b6caf",
   "metadata": {},
   "outputs": [
    {
     "name": "stdout",
     "output_type": "stream",
     "text": [
      "[2, 4, 6]\n"
     ]
    }
   ],
   "source": [
    "nums_list = [1, 2, 3, 4, 5, 6]\n",
    "\n",
    "output_list = list(filter(lambda x : x % 2 == 0, nums_list))\n",
    "print(output_list)"
   ]
  },
  {
   "cell_type": "code",
   "execution_count": null,
   "id": "3bc81539",
   "metadata": {},
   "outputs": [],
   "source": []
  },
  {
   "cell_type": "code",
   "execution_count": null,
   "id": "3e835303",
   "metadata": {},
   "outputs": [],
   "source": []
  },
  {
   "cell_type": "code",
   "execution_count": null,
   "id": "a87a0145",
   "metadata": {},
   "outputs": [],
   "source": []
  },
  {
   "cell_type": "code",
   "execution_count": 14,
   "id": "2cfaf202",
   "metadata": {},
   "outputs": [
    {
     "name": "stdout",
     "output_type": "stream",
     "text": [
      "[2, 4, 6]\n"
     ]
    }
   ],
   "source": [
    "nums = [1, 2, 3, 4, 5, 6]\n",
    "even_nums = list(filter(lambda x: x % 2 == 0, nums))\n",
    "print(even_nums)"
   ]
  },
  {
   "cell_type": "code",
   "execution_count": 14,
   "id": "00d31b9e",
   "metadata": {},
   "outputs": [
    {
     "name": "stdout",
     "output_type": "stream",
     "text": [
      "[2, 3, 4, 6, 27, 33]\n"
     ]
    }
   ],
   "source": [
    "def divisbleBy2(x):\n",
    "    ''' \n",
    "    modify the function to take\n",
    "        - return number divisible by 2 or 3 \n",
    "    '''\n",
    "    return x % 2 == 0 or x % 3 == 0\n",
    "\n",
    "nums = [1, 2, 3, 4, 5, 6, 27, 33]\n",
    "even_nums = list(filter(divisbleBy2, nums))\n",
    "print(even_nums)"
   ]
  },
  {
   "cell_type": "markdown",
   "id": "8a6b840d",
   "metadata": {},
   "source": [
    "## Exercise\n",
    "#### 1. Use `filter()` to extract all non-empty strings from a list (i.e., remove empty strings).\n",
    "\n",
    "Example input: `['apple', '', 'banana', '', 'cherry', '']`  \n",
    "Expected output: `['apple', 'banana', 'cherry']`\n",
    "\n",
    "\n",
    "#### 2. Use `filter()` to extract all numbers divisible by 3 from a list.\n",
    "\n",
    "Example input: `[1, 3, 6, 7, 9, 11, 12]`  \n",
    "Expected output: `[3, 6, 9, 12]`\n",
    "\n",
    "#### 3: Use `filter()` to extract all strings from a list that start with the letter 'A'.\n",
    "\n",
    "Note: also handle the CASE : apple and ApPle should also be returned\n",
    "\n",
    "Example input: `['Apple', 'Banana', 'Avocado', 'Cherry', 'Apricot']`  \n",
    "Expected output: `['Apple', 'Avocado', 'Apricot']`\n",
    "\n",
    "\n",
    "#### 4. Use `filter()` to extract all prime numbers from a list of integers.\n",
    "\n",
    "Example input: `[2, 3, 4, 5, 6, 7, 8, 9, 10]`  \n",
    "Expected output: `[2, 3, 5, 7]`\n",
    "\n",
    "\n",
    "\n"
   ]
  },
  {
   "cell_type": "markdown",
   "id": "e78de1df",
   "metadata": {},
   "source": [
    "---\n",
    "## zip()\n",
    "- Combines multiple iterables into tuples."
   ]
  },
  {
   "cell_type": "code",
   "execution_count": 20,
   "id": "184117fa",
   "metadata": {},
   "outputs": [
    {
     "name": "stdout",
     "output_type": "stream",
     "text": [
      "[('Alice', 85, 'Nepal'), ('Bob', 90, 'India'), ('Charlie', 95, 'America'), ('John', 100, 'Germany')]\n"
     ]
    }
   ],
   "source": [
    "names = ['Alice', 'Bob', 'Charlie', 'John', 'Einstein']\n",
    "scores = [85, 90, 95, 100, 50, 60]\n",
    "address = ['Nepal', 'India', 'America', 'Germany']\n",
    "combined = list(zip(names, scores, address))\n",
    "print(combined) "
   ]
  },
  {
   "cell_type": "code",
   "execution_count": 19,
   "id": "a6fe2817",
   "metadata": {},
   "outputs": [
    {
     "name": "stdout",
     "output_type": "stream",
     "text": [
      "{'Alice': 85, 'Bob': 90, 'Charlie': 95, 'John': 100, 'Einstein': 50}\n"
     ]
    }
   ],
   "source": [
    "combined_dictionary = dict(zip(names, scores))\n",
    "print(combined_dictionary)"
   ]
  },
  {
   "cell_type": "markdown",
   "id": "41076dcb",
   "metadata": {},
   "source": [
    "---\n",
    "## reduce()\n",
    "- Reduces an iterable to a single value using a function.\n",
    "- Needs to be imported from `functools`."
   ]
  },
  {
   "cell_type": "code",
   "execution_count": 21,
   "id": "93f1d9d3",
   "metadata": {},
   "outputs": [
    {
     "name": "stdout",
     "output_type": "stream",
     "text": [
      "24\n"
     ]
    }
   ],
   "source": [
    "from functools import reduce\n",
    "\n",
    "nums = [1, 2, 3, 4]\n",
    "product = reduce(lambda x, y: x * y, nums)\n",
    "print(product) "
   ]
  },
  {
   "cell_type": "markdown",
   "id": "35db5758",
   "metadata": {},
   "source": [
    "#### 1: Use `reduce()` to compute the product of all elements in a list.\n",
    "\n",
    "Example input: `[1, 2, 3, 4, 5]`  \n",
    "Expected output: `120`\n",
    "\n",
    "#### 2. Write a function that uses reduce to find the maximum number in a list.\n",
    "\n",
    "**Hint: Use Ternary Operator**\n",
    "```\n",
    "x = a if condition else b\n",
    "```"
   ]
  },
  {
   "cell_type": "code",
   "execution_count": 22,
   "id": "394fd35e",
   "metadata": {},
   "outputs": [
    {
     "name": "stdout",
     "output_type": "stream",
     "text": [
      "667\n"
     ]
    }
   ],
   "source": [
    "def greater(a, b):\n",
    "    return a if a > b else b \n",
    "\n",
    "nums = [34, 667, 12, 90, 23, 56]\n",
    "\n",
    "greatest_number = reduce(greater, nums)\n",
    "print(greatest_number)"
   ]
  },
  {
   "cell_type": "markdown",
   "id": "caadbd6a",
   "metadata": {},
   "source": [
    "## Summary\n",
    "- **Pure functions** are predictable and side-effect-free.\n",
    "- **Lambda** functions are concise one-line functions.\n",
    "- Functional tools like **map**, **filter**, **zip**, and **reduce** are powerful when working with iterables."
   ]
  }
 ],
 "metadata": {
  "kernelspec": {
   "display_name": "python_tutorial",
   "language": "python",
   "name": "python3"
  },
  "language_info": {
   "codemirror_mode": {
    "name": "ipython",
    "version": 3
   },
   "file_extension": ".py",
   "mimetype": "text/x-python",
   "name": "python",
   "nbconvert_exporter": "python",
   "pygments_lexer": "ipython3",
   "version": "3.13.4"
  }
 },
 "nbformat": 4,
 "nbformat_minor": 5
}
