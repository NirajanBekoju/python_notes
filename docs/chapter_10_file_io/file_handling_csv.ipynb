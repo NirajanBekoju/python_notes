{
 "cells": [
  {
   "cell_type": "markdown",
   "id": "5ce4f27e",
   "metadata": {},
   "source": [
    "# What is a CSV file?\n",
    "\n",
    "- **CSV** stands for **Comma-Separated Values**.\n",
    "- It is a simple **text file** format used to store **tabular data** (like a spreadsheet or a database table).\n",
    "- Each line in the file represents one **row** of data.\n",
    "- Within each line, **values (or fields)** are separated by commas (`,`).\n",
    "\n",
    "---\n",
    "\n",
    "## Structure of a CSV file\n",
    "\n",
    "Imagine a spreadsheet:\n",
    "\n",
    "| Name   | Age | City       |\n",
    "|--------|-----|------------|\n",
    "| Alice  | 30  | New York   |\n",
    "| Bob    | 25  | Los Angeles|\n",
    "\n",
    "This table would look like this in a CSV file:\n",
    "\n",
    "```\n",
    "Name,Age,City\n",
    "Alice,30,New York\n",
    "Bob,25,Los Angele\n",
    "```"
   ]
  },
  {
   "cell_type": "markdown",
   "id": "a7bb9812",
   "metadata": {},
   "source": [
    "# CSV File Operations in Python"
   ]
  },
  {
   "cell_type": "code",
   "execution_count": 1,
   "id": "26bddf63",
   "metadata": {},
   "outputs": [],
   "source": [
    "import csv"
   ]
  },
  {
   "cell_type": "markdown",
   "id": "dfdbd513",
   "metadata": {},
   "source": [
    "## Writing Data to a CSV File"
   ]
  },
  {
   "cell_type": "code",
   "execution_count": 7,
   "id": "5dacbed4",
   "metadata": {},
   "outputs": [],
   "source": [
    "data = [\n",
    "    [\"Name\", \"Age\", \"City\"],\n",
    "    [\"Nirajan\", 25, \"Kathmandu\"],\n",
    "    [\"Aayush\", 24, \"Pokhara\"],\n",
    "    [\"Sita\", 23, \"Biratnagar\"]\n",
    "]\n",
    "\n",
    "with open(\"people.csv\", \"w\", newline='') as file:\n",
    "    writer = csv.writer(file)\n",
    "    writer.writerows(data)"
   ]
  },
  {
   "cell_type": "markdown",
   "id": "0c3b1a1c",
   "metadata": {},
   "source": [
    "## Reading Data from a CSV File"
   ]
  },
  {
   "cell_type": "code",
   "execution_count": 8,
   "id": "6db7ffed",
   "metadata": {},
   "outputs": [
    {
     "name": "stdout",
     "output_type": "stream",
     "text": [
      "['Name', 'Age', 'City']\n",
      "['Nirajan', '25', 'Kathmandu']\n",
      "['Aayush', '24', 'Pokhara']\n",
      "['Sita', '23', 'Biratnagar']\n"
     ]
    }
   ],
   "source": [
    "with open(\"people.csv\", \"r\") as file:\n",
    "    reader = csv.reader(file)\n",
    "    for row in reader:\n",
    "        print(row)"
   ]
  },
  {
   "cell_type": "code",
   "execution_count": 15,
   "id": "6144ab2d",
   "metadata": {},
   "outputs": [
    {
     "name": "stdout",
     "output_type": "stream",
     "text": [
      "Header: ['Name', 'Age', 'City']\n",
      "['Nirajan', '25', 'Kathmandu']\n",
      "['Aayush', '24', 'Pokhara']\n",
      "['Sita', '23', 'Biratnagar']\n"
     ]
    }
   ],
   "source": [
    "\n",
    "with open(\"people.csv\", \"r\") as file:\n",
    "    reader = csv.reader(file)\n",
    "    header = next(reader)\n",
    "    print(\"Header:\", header)\n",
    "    \n",
    "    for row in reader:\n",
    "        print(row)"
   ]
  },
  {
   "cell_type": "markdown",
   "id": "4bdb0915",
   "metadata": {},
   "source": [
    "## Writing CSV Using `DictWriter`"
   ]
  },
  {
   "cell_type": "code",
   "execution_count": 16,
   "id": "f6dc0a7c",
   "metadata": {},
   "outputs": [],
   "source": [
    "people = [\n",
    "    {\"Name\": \"Nirajan\", \"Age\": 25, \"City\": \"Kathmandu\"},\n",
    "    {\"Name\": \"Aayush\", \"Age\": 24, \"City\": \"Pokhara\"},\n",
    "    {\"Name\": \"Sita\", \"Age\": 23, \"City\": \"Biratnagar\"}\n",
    "]\n",
    "\n",
    "with open(\"people_dictionary.csv\", \"w\", newline='') as file:\n",
    "    fieldnames = [\"Name\", \"Age\", \"City\"]\n",
    "    writer = csv.DictWriter(file, fieldnames=fieldnames)\n",
    "    writer.writeheader()\n",
    "    writer.writerows(people)"
   ]
  },
  {
   "cell_type": "markdown",
   "id": "4ea8ce15",
   "metadata": {},
   "source": [
    "## Reading CSV Using `DictReader`"
   ]
  },
  {
   "cell_type": "code",
   "execution_count": 18,
   "id": "2bdd957b",
   "metadata": {},
   "outputs": [
    {
     "name": "stdout",
     "output_type": "stream",
     "text": [
      "{'Name': 'Nirajan', 'Age': '25', 'City': 'Kathmandu'}\n",
      "{'Name': 'Aayush', 'Age': '24', 'City': 'Pokhara'}\n",
      "{'Name': 'Sita', 'Age': '23', 'City': 'Biratnagar'}\n"
     ]
    }
   ],
   "source": [
    "with open(\"people_dictionary.csv\", \"r\") as file:\n",
    "    reader = csv.DictReader(file)\n",
    "    for row in reader:\n",
    "        print(row)"
   ]
  },
  {
   "cell_type": "markdown",
   "id": "8fe05742",
   "metadata": {},
   "source": [
    "## Exercise\n",
    "\n",
    "Try the following:\n",
    "\n",
    "1. Create a list of dictionaries with data (name, age, favorite subject).\n",
    "2. Write the data into a file called `students.csv` using `DictWriter`.\n",
    "3. Read it back using `DictReader` and print only names of students who are older than 20.\n"
   ]
  },
  {
   "cell_type": "markdown",
   "id": "8be8c247",
   "metadata": {},
   "source": []
  }
 ],
 "metadata": {
  "kernelspec": {
   "display_name": "python_tutorial",
   "language": "python",
   "name": "python3"
  },
  "language_info": {
   "codemirror_mode": {
    "name": "ipython",
    "version": 3
   },
   "file_extension": ".py",
   "mimetype": "text/x-python",
   "name": "python",
   "nbconvert_exporter": "python",
   "pygments_lexer": "ipython3",
   "version": "3.13.4"
  }
 },
 "nbformat": 4,
 "nbformat_minor": 5
}
