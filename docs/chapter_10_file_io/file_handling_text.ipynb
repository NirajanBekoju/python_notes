{
 "cells": [
  {
   "cell_type": "markdown",
   "id": "00a2051e",
   "metadata": {},
   "source": [
    "# File Handling"
   ]
  },
  {
   "cell_type": "markdown",
   "id": "07b94c5c",
   "metadata": {},
   "source": [
    "```\n",
    "## open the file\n",
    "file = open('example.txt', mode)\n",
    "\n",
    "\n",
    "## close the file\n",
    "file.close()\n",
    "```\n",
    "| Mode   | Description                                                    |\n",
    "| ------ | -------------------------------------------------------------- |\n",
    "| `'r'`  | Read (default). File must exist.                               |\n",
    "| `'w'`  | Write. Overwrites existing content or creates a new file.      |\n",
    "| `'a'`  | Append. Adds content to the end of file or creates a new file. |\n",
    "| `'x'`  | Exclusive creation. Fails if file exists.                      |\n",
    "| `'r+'` | Read and write. File must exist.                               |\n",
    "| `'w+'` | Write and read. Overwrites or creates file.                    |\n",
    "| `'a+'` | Append and read. Creates if not exists.                        |\n"
   ]
  },
  {
   "cell_type": "code",
   "execution_count": 20,
   "id": "9eee331b",
   "metadata": {},
   "outputs": [
    {
     "name": "stdout",
     "output_type": "stream",
     "text": [
      "<_io.TextIOWrapper name='sample.txt' mode='r' encoding='UTF-8'>\n"
     ]
    }
   ],
   "source": [
    "## open the file\n",
    "file = open('sample.txt', 'r')\n",
    "print(file)\n",
    "\n",
    "## close the file\n",
    "file.close()"
   ]
  },
  {
   "cell_type": "code",
   "execution_count": 25,
   "id": "84c32ff0",
   "metadata": {},
   "outputs": [
    {
     "name": "stdout",
     "output_type": "stream",
     "text": [
      "Hello, \n",
      "I am learning Python.\n",
      "Python is fun.\n"
     ]
    }
   ],
   "source": [
    "with open('sample.txt', 'r') as file:\n",
    "    content = file.read()\n",
    "    print(content)"
   ]
  },
  {
   "cell_type": "markdown",
   "id": "6bb6814a",
   "metadata": {},
   "source": [
    "## UTF-8\n",
    "- UTF-8 (Unicode Transformation Format - 8-bit) is a character encoding standard used to represent text in computers, especially on the internet. \n",
    "- It encodes characters from the Unicode character set using 1 to 4 bytes per character.\n",
    "\n",
    "- Unicode assigns a unique number (called a code point) to every character in every language (e.g., A is U+0041, क is U+0915).\n",
    "\n",
    "#### Key features of UTF-8\n",
    "| Feature                  | Description                                                                 |\n",
    "| ------------------------ | --------------------------------------------------------------------------- |\n",
    "| Variable-length encoding | Uses 1 to 4 bytes depending on the character.                               |\n",
    "| Backward compatible      | ASCII characters (0–127) are the same in UTF-8.                             |\n",
    "| Efficient                | English text is compact (1 byte per character); non-Latin scripts use more. |\n",
    "| Universally supported    | Most popular encoding on the web today.                                     |\n",
    "\n",
    "\n"
   ]
  },
  {
   "cell_type": "code",
   "execution_count": 1,
   "id": "20159892",
   "metadata": {},
   "outputs": [
    {
     "name": "stdout",
     "output_type": "stream",
     "text": [
      "<class 'bytes'>\n",
      "b'\\xe0\\xa4\\xa8\\xe0\\xa4\\xae\\xe0\\xa4\\xb8\\xe0\\xa5\\x8d\\xe0\\xa4\\xa4\\xe0\\xa5\\x87'\n",
      "<class 'str'>\n",
      "नमस्ते\n"
     ]
    }
   ],
   "source": [
    "text = \"नमस्ते\" \n",
    "encoded = text.encode('utf-8')      \n",
    "print(type(encoded))\n",
    "print(encoded)\n",
    "\n",
    "\n",
    "decoded = encoded.decode('utf-8') \n",
    "print(type(decoded))\n",
    "print(decoded)\n"
   ]
  },
  {
   "cell_type": "markdown",
   "id": "aa8d34e4",
   "metadata": {},
   "source": [
    "## Reading from a Text file"
   ]
  },
  {
   "cell_type": "markdown",
   "id": "3ba31576",
   "metadata": {},
   "source": [
    "#### 1. Read()\n",
    "- Reads the entire content as a string.\n"
   ]
  },
  {
   "cell_type": "code",
   "execution_count": 3,
   "id": "fe7c0a92",
   "metadata": {},
   "outputs": [
    {
     "name": "stdout",
     "output_type": "stream",
     "text": [
      "Python is programming language.\n",
      "I am learning python.\n",
      "Object Oriented Programming.\n",
      "<class 'str'>\n"
     ]
    }
   ],
   "source": [
    "with open('sample.txt', 'r') as file:\n",
    "    content = file.read()\n",
    "    print(content)\n",
    "\n",
    "print(type(content))"
   ]
  },
  {
   "cell_type": "markdown",
   "id": "d7eff06c",
   "metadata": {},
   "source": [
    "#### 2. readline()\n",
    "- Reads a single line at a time."
   ]
  },
  {
   "cell_type": "code",
   "execution_count": 4,
   "id": "7aebbc77",
   "metadata": {},
   "outputs": [
    {
     "name": "stdout",
     "output_type": "stream",
     "text": [
      "Python is programming language.\n",
      "\n",
      "I am learning python.\n",
      "\n"
     ]
    }
   ],
   "source": [
    "with open('sample.txt', 'r') as file:\n",
    "    line1 = file.readline()\n",
    "    line2 = file.readline()\n",
    "\n",
    "    print(line1)\n",
    "    print(line2)"
   ]
  },
  {
   "cell_type": "markdown",
   "id": "ec6454fc",
   "metadata": {},
   "source": [
    "#### 3. readlines()\n",
    "- Reads all lines and returns a list of strings.\n"
   ]
  },
  {
   "cell_type": "code",
   "execution_count": 5,
   "id": "ffe11ae1",
   "metadata": {},
   "outputs": [
    {
     "name": "stdout",
     "output_type": "stream",
     "text": [
      "['Python is programming language.\\n', 'I am learning python.\\n', 'Object Oriented Programming.']\n",
      "Python is programming language.\n",
      "I am learning python.\n",
      "Object Oriented Programming.\n"
     ]
    }
   ],
   "source": [
    "with open('sample.txt', 'r') as file:\n",
    "    lines = file.readlines()\n",
    "    print(lines)\n",
    "    for line in lines:\n",
    "        print(line.strip())\n"
   ]
  },
  {
   "cell_type": "markdown",
   "id": "067f5c02",
   "metadata": {},
   "source": [
    "## Writing to a text file\n",
    "\n",
    "#### 1. write()\n",
    "- Writes a string to the file."
   ]
  },
  {
   "cell_type": "code",
   "execution_count": 9,
   "id": "f52918e5",
   "metadata": {},
   "outputs": [],
   "source": [
    "with open('sample.txt', 'w') as file:\n",
    "    file.write(\"Hello, World!\\n\")\n",
    "    file.write(\"Writing to a file in Python.\")\n"
   ]
  },
  {
   "cell_type": "markdown",
   "id": "7b13f606",
   "metadata": {},
   "source": [
    "#### 2. writelines()\n",
    "- Writes a list of strings to the file.\n"
   ]
  },
  {
   "cell_type": "code",
   "execution_count": 46,
   "id": "64337fca",
   "metadata": {},
   "outputs": [],
   "source": [
    "lines = [\"Apple \\n\", \"Mango \\n\", \"Banana \\n\"]\n",
    "with open('example.txt', 'w') as file:\n",
    "    file.writelines(lines)"
   ]
  },
  {
   "cell_type": "markdown",
   "id": "4fd4e7ed",
   "metadata": {},
   "source": [
    "## Appending to a Text File\n",
    "- Use mode 'a' or 'a+'."
   ]
  },
  {
   "cell_type": "code",
   "execution_count": 10,
   "id": "4aa2b02e",
   "metadata": {},
   "outputs": [],
   "source": [
    "with open('sample.txt', 'a') as file:\n",
    "    file.write(\"\\nThis line is appended.\")"
   ]
  },
  {
   "cell_type": "markdown",
   "id": "a9180e02",
   "metadata": {},
   "source": [
    "## Reading and Writing Simultaneously"
   ]
  },
  {
   "cell_type": "code",
   "execution_count": 11,
   "id": "52ee311f",
   "metadata": {},
   "outputs": [
    {
     "name": "stdout",
     "output_type": "stream",
     "text": [
      "Hello, World!\n",
      "Writing to a file in Python.\n"
     ]
    }
   ],
   "source": [
    "with open('example.txt', 'r+') as file:\n",
    "    content = file.read()\n",
    "    print(content)\n",
    "    \n",
    "    file.seek(0)\n",
    "    file.write(\"Modified: \" + content)"
   ]
  },
  {
   "cell_type": "code",
   "execution_count": 13,
   "id": "0708e9ca",
   "metadata": {},
   "outputs": [
    {
     "name": "stdout",
     "output_type": "stream",
     "text": [
      "[Errno 17] File exists: 'example.txt'\n"
     ]
    }
   ],
   "source": [
    "try:\n",
    "    with open(\"example.txt\", \"x\") as fout:\n",
    "        pass\n",
    "except FileExistsError as e:\n",
    "    print(e)\n",
    "    # Your error handling goes here"
   ]
  },
  {
   "cell_type": "markdown",
   "id": "0f2e11e1",
   "metadata": {},
   "source": [
    "## Useful File Methods\n",
    "| Method           | Description                                | Example Usage                  |\n",
    "| ---------------- | ------------------------------------------ | ------------------------------ |\n",
    "| `read(size)`     | Reads `size` characters or full if omitted | `f.read(10)`                   |\n",
    "| `readline()`     | Reads one line                             | `f.readline()`                 |\n",
    "| `readlines()`    | Reads all lines as list                    | `f.readlines()`                |\n",
    "| `write(string)`  | Writes a string to file                    | `f.write(\"Hello\")`             |\n",
    "| `writelines()`   | Writes list of strings                     | `f.writelines([\"A\\n\", \"B\\n\"])` |\n",
    "| `seek(offset)`   | Moves cursor to given byte position        | `f.seek(0)`                    |\n",
    "| `tell()`         | Returns current position                   | `f.tell()`                     |\n",
    "| `close()`        | Closes the file                            | `f.close()`                    |\n",
    "| `truncate(size)` | Cuts file to `size` bytes                  | `f.truncate(10)`               |\n"
   ]
  },
  {
   "cell_type": "code",
   "execution_count": null,
   "id": "5b4b8d13",
   "metadata": {},
   "outputs": [],
   "source": []
  }
 ],
 "metadata": {
  "kernelspec": {
   "display_name": "python_tutorial",
   "language": "python",
   "name": "python3"
  },
  "language_info": {
   "codemirror_mode": {
    "name": "ipython",
    "version": 3
   },
   "file_extension": ".py",
   "mimetype": "text/x-python",
   "name": "python",
   "nbconvert_exporter": "python",
   "pygments_lexer": "ipython3",
   "version": "3.13.4"
  }
 },
 "nbformat": 4,
 "nbformat_minor": 5
}
