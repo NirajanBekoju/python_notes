{
 "cells": [
  {
   "cell_type": "markdown",
   "id": "75905367",
   "metadata": {},
   "source": [
    "# What is JSON?\n",
    "\n",
    "**JSON** stands for **JavaScript Object Notation**.  \n",
    "It’s a lightweight **data format** used for storing and exchanging data.\n",
    "\n",
    "> JSON is a way to **organize and structure data** so it can be easily read and used by computers and humans.\n",
    "\n",
    "---\n",
    "\n",
    "## Key Features\n",
    "\n",
    "| Feature                  | Description                                                              |\n",
    "|--------------------------|--------------------------------------------------------------------------|\n",
    "| **Text-based**           | It’s just plain text, easy to read and write.                            |\n",
    "| **Language-independent** | Works with many programming languages (Python, JavaScript, etc.)         |\n",
    "| **Lightweight**          | Ideal for APIs, configs, data sharing.                                   |\n",
    "| **Structured like objects** | Uses key-value pairs and arrays for structured data.                |\n",
    "\n",
    "---\n",
    "\n",
    "## JSON Structure\n",
    "\n",
    "### 1. **Objects**\n",
    "\n",
    "Represented with curly braces `{}`\n",
    "\n",
    "```json\n",
    "{\n",
    "  \"name\": \"Nirajan\",\n",
    "  \"age\": 25,\n",
    "  \"isStudent\": true\n",
    "}\n"
   ]
  },
  {
   "cell_type": "markdown",
   "id": "202b55c2",
   "metadata": {},
   "source": [
    "# JSON File Operations in Python"
   ]
  },
  {
   "cell_type": "code",
   "execution_count": 1,
   "id": "664b7f6f",
   "metadata": {},
   "outputs": [],
   "source": [
    "import json"
   ]
  },
  {
   "cell_type": "markdown",
   "id": "7d84115c",
   "metadata": {},
   "source": [
    "## Writing Data to a JSON File"
   ]
  },
  {
   "cell_type": "code",
   "execution_count": null,
   "id": "7938d1d5",
   "metadata": {},
   "outputs": [],
   "source": [
    "data = {\n",
    "    \"name\": \"John\",\n",
    "    \"age\": 21,\n",
    "    \"hobbies\": [\"Sports\", \"Anime\", \"Chess\"]\n",
    "}\n",
    "\n",
    "with open(\"sample_json_data.json\", \"w\") as file:\n",
    "    json.dump(data, file, indent=4)"
   ]
  },
  {
   "cell_type": "markdown",
   "id": "41c8643a",
   "metadata": {},
   "source": [
    "## Reading Data from a JSON File"
   ]
  },
  {
   "cell_type": "code",
   "execution_count": 4,
   "id": "40989440",
   "metadata": {},
   "outputs": [
    {
     "name": "stdout",
     "output_type": "stream",
     "text": [
      "{'name': 'John', 'age': 21, 'hobbies': ['Sports', 'Anime', 'Chess']}\n",
      "<class 'dict'>\n"
     ]
    }
   ],
   "source": [
    "with open(\"sample_json_data.json\", \"r\") as file:\n",
    "    loaded_data = json.load(file)\n",
    "\n",
    "print(loaded_data)\n",
    "print(type(loaded_data))"
   ]
  },
  {
   "cell_type": "markdown",
   "id": "0d42fa3c",
   "metadata": {},
   "source": [
    "## Modifying JSON Data and Saving"
   ]
  },
  {
   "cell_type": "code",
   "execution_count": 6,
   "id": "a92e0b61",
   "metadata": {},
   "outputs": [],
   "source": [
    "loaded_data[\"age\"] = 16 ## existing update\n",
    "loaded_data[\"city\"] = \"Kathmandu\" ## new update\n",
    "\n",
    "with open(\"sample_json_data.json\", \"w\") as file:\n",
    "    json.dump(loaded_data, file, indent=4)"
   ]
  },
  {
   "cell_type": "markdown",
   "id": "80aeb846",
   "metadata": {},
   "source": [
    "## JSON String ➝ Python Object"
   ]
  },
  {
   "cell_type": "code",
   "execution_count": 7,
   "id": "d8353240",
   "metadata": {},
   "outputs": [
    {
     "data": {
      "text/plain": [
       "{'language': 'Python', 'version': 3.1}"
      ]
     },
     "execution_count": 7,
     "metadata": {},
     "output_type": "execute_result"
    }
   ],
   "source": [
    "{\"language\": \"Python\", \"version\": 3.10}"
   ]
  },
  {
   "cell_type": "code",
   "execution_count": 11,
   "id": "1200ace5",
   "metadata": {},
   "outputs": [
    {
     "name": "stdout",
     "output_type": "stream",
     "text": [
      "{'language': 'Python', 'version': 3.1}\n"
     ]
    }
   ],
   "source": [
    "json_string = '{\"language\": \"Python\", \"version\": 3.10}'\n",
    "python_data = json.loads(json_string)\n",
    "\n",
    "print(python_data)"
   ]
  },
  {
   "cell_type": "markdown",
   "id": "7a6a2e22",
   "metadata": {},
   "source": [
    "## Python Object ➝ JSON String"
   ]
  },
  {
   "cell_type": "code",
   "execution_count": 8,
   "id": "51652e52",
   "metadata": {},
   "outputs": [
    {
     "name": "stdout",
     "output_type": "stream",
     "text": [
      "{\n",
      "  \"framework\": \"FastAPI\",\n",
      "  \"type\": \"web\"\n",
      "}\n",
      "<class 'str'>\n"
     ]
    }
   ],
   "source": [
    "data = {\"framework\": \"FastAPI\", \"type\": \"web\"}\n",
    "json_str = json.dumps(data, indent=2)\n",
    "\n",
    "print(json_str)\n",
    "print(type(json_str))"
   ]
  },
  {
   "cell_type": "markdown",
   "id": "9f30c806",
   "metadata": {},
   "source": [
    "## Exercise\n",
    "\n",
    "Try the following:\n",
    "\n",
    "1. Create a Python dictionary with your own data (name, age, favorite books).\n",
    "2. Save it to a file called `mydata.json`.\n",
    "3. Read the file back and print the data.\n",
    "4. Add a new key `hobby` and update the file.\n"
   ]
  }
 ],
 "metadata": {
  "kernelspec": {
   "display_name": "python_tutorial",
   "language": "python",
   "name": "python3"
  },
  "language_info": {
   "codemirror_mode": {
    "name": "ipython",
    "version": 3
   },
   "file_extension": ".py",
   "mimetype": "text/x-python",
   "name": "python",
   "nbconvert_exporter": "python",
   "pygments_lexer": "ipython3",
   "version": "3.13.4"
  }
 },
 "nbformat": 4,
 "nbformat_minor": 5
}
