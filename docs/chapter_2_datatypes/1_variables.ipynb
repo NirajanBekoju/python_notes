{
 "cells": [
  {
   "cell_type": "markdown",
   "id": "7e13930d",
   "metadata": {},
   "source": [
    "# Data Types and Variables"
   ]
  },
  {
   "cell_type": "markdown",
   "id": "f640e878",
   "metadata": {},
   "source": [
    "## Syntax\n",
    "\n",
    "Syntax refers to the guidelines that determine the structure of a language.  \n",
    "If the syntax of a language is not followed, the code will not be understood by a compiler or interpreter.\n",
    "\n",
    "### Key Features of Python Syntax:\n",
    "\n",
    "- **Comments**:  \n",
    "  - Single-line comment: `#`  \n",
    "  - Multi-line comment: `\"\"\" \"\"\"`\n",
    "\n",
    "- **Case Sensitivity**:  \n",
    "  - Python is case-sensitive.\n",
    "\n",
    "- **Statements**:  \n",
    "  - Python executes statements line by line, i.e., one line at a time.\n",
    "\n",
    "- **Input/Output**:  \n",
    "  - `input()` is used to take user input.  \n",
    "  - `print()` is used to show the output.\n",
    "\n",
    "- **Indentation**:  \n",
    "  - Python uses indentation to define code blocks instead of braces `{}`.\n"
   ]
  },
  {
   "cell_type": "code",
   "execution_count": 1,
   "id": "c44ee90e",
   "metadata": {},
   "outputs": [
    {
     "data": {
      "text/plain": [
       "'\\nthis is a\\nmulti line \\ncomment\\n'"
      ]
     },
     "execution_count": 1,
     "metadata": {},
     "output_type": "execute_result"
    }
   ],
   "source": [
    "# this is a comment \n",
    "'''\n",
    "this is a\n",
    "multi line \n",
    "comment\n",
    "'''"
   ]
  },
  {
   "cell_type": "code",
   "execution_count": 2,
   "id": "f85883a6",
   "metadata": {},
   "outputs": [
    {
     "name": "stdout",
     "output_type": "stream",
     "text": [
      "20\n",
      "30\n"
     ]
    }
   ],
   "source": [
    "\"\"\"\n",
    "This is an example of \n",
    "multi line comment.\n",
    "\n",
    "Below shows the example of the CASE SENSTIVE in Python\n",
    "\"\"\"\n",
    "temperature = 20\n",
    "TEMPerature = 30\n",
    "\n",
    "print(temperature)\n",
    "print(TEMPerature)"
   ]
  },
  {
   "cell_type": "code",
   "execution_count": 3,
   "id": "62076eb1",
   "metadata": {},
   "outputs": [
    {
     "ename": "NameError",
     "evalue": "name 'TEMPERATURE' is not defined",
     "output_type": "error",
     "traceback": [
      "\u001b[31m---------------------------------------------------------------------------\u001b[39m",
      "\u001b[31mNameError\u001b[39m                                 Traceback (most recent call last)",
      "\u001b[36mCell\u001b[39m\u001b[36m \u001b[39m\u001b[32mIn[3]\u001b[39m\u001b[32m, line 1\u001b[39m\n\u001b[32m----> \u001b[39m\u001b[32m1\u001b[39m \u001b[38;5;28mprint\u001b[39m(\u001b[43mTEMPERATURE\u001b[49m)\n",
      "\u001b[31mNameError\u001b[39m: name 'TEMPERATURE' is not defined"
     ]
    }
   ],
   "source": [
    "print(TEMPERATURE)"
   ]
  },
  {
   "cell_type": "code",
   "execution_count": 5,
   "id": "94329be5",
   "metadata": {},
   "outputs": [
    {
     "name": "stdout",
     "output_type": "stream",
     "text": [
      "Nirajan\n"
     ]
    }
   ],
   "source": [
    "## input your name\n",
    "name = input('Enter your name : ')\n",
    "print(name)"
   ]
  },
  {
   "cell_type": "markdown",
   "id": "164e1ac0",
   "metadata": {},
   "source": [
    "## Variables\n",
    "\n",
    "Variables are containers for storing data values.\n",
    "\n",
    "### Rules for Creating Variable Names\n",
    "\n",
    "- Must start with a **letter** or the **underscore** (`_`) character\n",
    "- **Cannot** start with a number\n",
    "- Can only contain **alphanumeric characters** and **underscores** (`A-z`, `0-9`, and `_`)\n",
    "- **Case-sensitive** — `mobile`, `Mobile`, and `MOBILE` are three different variables\n",
    "- Cannot be any of the **Python keywords**\n",
    "\n",
    "**Tip: Use meaningful variable names to make your code easier to understand.**\n"
   ]
  },
  {
   "cell_type": "code",
   "execution_count": 6,
   "id": "d042408e",
   "metadata": {},
   "outputs": [],
   "source": [
    "PI = 3.14"
   ]
  },
  {
   "cell_type": "code",
   "execution_count": 7,
   "id": "7c20611a",
   "metadata": {},
   "outputs": [],
   "source": [
    "TEMPERATURE = 20"
   ]
  },
  {
   "cell_type": "code",
   "execution_count": 9,
   "id": "97c7581e",
   "metadata": {},
   "outputs": [],
   "source": [
    "abc = 10"
   ]
  },
  {
   "cell_type": "code",
   "execution_count": 9,
   "id": "ba5a2a9f",
   "metadata": {},
   "outputs": [],
   "source": [
    "temperature = 2\n",
    "exhaust_temperature = 2"
   ]
  },
  {
   "cell_type": "code",
   "execution_count": null,
   "id": "71d6c30e",
   "metadata": {},
   "outputs": [
    {
     "ename": "SyntaxError",
     "evalue": "invalid syntax (3217536336.py, line 1)",
     "output_type": "error",
     "traceback": [
      "  \u001b[36mCell\u001b[39m\u001b[36m \u001b[39m\u001b[32mIn[1]\u001b[39m\u001b[32m, line 1\u001b[39m\n\u001b[31m    \u001b[39m\u001b[31masdf$sdf = 10\u001b[39m\n        ^\n\u001b[31mSyntaxError\u001b[39m\u001b[31m:\u001b[39m invalid syntax\n"
     ]
    }
   ],
   "source": [
    "## special characters lik $, -, % cannot be used in the variable name.\n",
    "asdf$sdf = 10"
   ]
  },
  {
   "cell_type": "code",
   "execution_count": 8,
   "id": "d36b62df",
   "metadata": {},
   "outputs": [
    {
     "ename": "SyntaxError",
     "evalue": "invalid syntax (2884609840.py, line 2)",
     "output_type": "error",
     "traceback": [
      "  \u001b[36mCell\u001b[39m\u001b[36m \u001b[39m\u001b[32mIn[8]\u001b[39m\u001b[32m, line 2\u001b[39m\n\u001b[31m    \u001b[39m\u001b[31mif = 10\u001b[39m\n       ^\n\u001b[31mSyntaxError\u001b[39m\u001b[31m:\u001b[39m invalid syntax\n"
     ]
    }
   ],
   "source": [
    "# python keywords cannot be used as variable name\n",
    "if = 10"
   ]
  },
  {
   "cell_type": "markdown",
   "id": "7afba19e",
   "metadata": {},
   "source": [
    "### Data Types"
   ]
  },
  {
   "cell_type": "markdown",
   "id": "3f56ad5b",
   "metadata": {},
   "source": [
    "| **Category**       | **Data Types**             | **Description**                                       |\n",
    "|--------------------|----------------------------|-------------------------------------------------------|\n",
    "| Text Type          | `str`                      | Stores text data (e.g., `\"Hello\"`)                   |\n",
    "| Numeric Types      | `int`, `float`, `complex`  | `int`: Integers (e.g., 5) <br> `float`: Decimals (e.g., 3.14) <br> `complex`: Complex numbers (e.g., 2 + 3j) |\n",
    "| Sequence Types     | `list`, `tuple`, `range`   | Ordered collections <br> `list` and `tuple` store multiple items <br> `range` represents a sequence of numbers |\n",
    "| Mapping Type       | `dict`                     | Key-value pairs (e.g., `{\"name\": \"Alice\"}`)          |\n",
    "| Set Types          | `set`, `frozenset`         | Unordered collections of unique items                |\n",
    "| Boolean Type       | `bool`                     | Represents truth values: `True` or `False`           |\n"
   ]
  },
  {
   "cell_type": "markdown",
   "id": "fee884e5",
   "metadata": {},
   "source": [
    "#### Perform arithmetic operations using Float Variables\n",
    "\n",
    "\n",
    "#### Excercise : Perform arithmetic operations using Complex Number  "
   ]
  },
  {
   "cell_type": "code",
   "execution_count": 10,
   "id": "5dd43426",
   "metadata": {},
   "outputs": [
    {
     "name": "stdout",
     "output_type": "stream",
     "text": [
      "7\n",
      "-3\n"
     ]
    }
   ],
   "source": [
    "a = 2\n",
    "b = 5\n",
    "print(a + b)\n",
    "print(a - b)"
   ]
  },
  {
   "cell_type": "code",
   "execution_count": 11,
   "id": "223f12df",
   "metadata": {},
   "outputs": [
    {
     "name": "stdout",
     "output_type": "stream",
     "text": [
      "(2+5j)\n",
      "<class 'complex'>\n"
     ]
    }
   ],
   "source": [
    "a = 2+5j\n",
    "print(a)\n",
    "print(type(a))"
   ]
  },
  {
   "cell_type": "code",
   "execution_count": null,
   "id": "366225f3",
   "metadata": {},
   "outputs": [],
   "source": []
  },
  {
   "cell_type": "code",
   "execution_count": 25,
   "id": "0e2d9855",
   "metadata": {},
   "outputs": [
    {
     "name": "stdout",
     "output_type": "stream",
     "text": [
      "(5+2j)\n",
      "(5-2j)\n",
      "(10+0j)\n",
      "4j\n",
      "(0.7241379310344828+0.6896551724137931j)\n",
      "(29+0j)\n",
      "(1025.9425992055105-9639.459628933018j)\n"
     ]
    }
   ],
   "source": [
    "x = 5 + 2j\n",
    "y = 5 - 2j \n",
    "print(x)\n",
    "print(y)\n",
    "print(x + y)\n",
    "print(x - y)\n",
    "print(x / y)\n",
    "print(x * y)\n",
    "print(x ** y)\n"
   ]
  },
  {
   "cell_type": "markdown",
   "id": "080f6d26",
   "metadata": {},
   "source": [
    "### Type Casting\n",
    " - Type casting, also known as type conversion, is the process of changing the data type of a variable from one type to another."
   ]
  },
  {
   "cell_type": "code",
   "execution_count": 12,
   "id": "e4667f33",
   "metadata": {},
   "outputs": [
    {
     "ename": "ValueError",
     "evalue": "invalid literal for int() with base 10: '10asdfa'",
     "output_type": "error",
     "traceback": [
      "\u001b[31m---------------------------------------------------------------------------\u001b[39m",
      "\u001b[31mValueError\u001b[39m                                Traceback (most recent call last)",
      "\u001b[36mCell\u001b[39m\u001b[36m \u001b[39m\u001b[32mIn[12]\u001b[39m\u001b[32m, line 2\u001b[39m\n\u001b[32m      1\u001b[39m x_string = \u001b[33m'\u001b[39m\u001b[33m10asdfa\u001b[39m\u001b[33m'\u001b[39m\n\u001b[32m----> \u001b[39m\u001b[32m2\u001b[39m x_int = \u001b[38;5;28;43mint\u001b[39;49m\u001b[43m(\u001b[49m\u001b[43mx_string\u001b[49m\u001b[43m)\u001b[49m\n\u001b[32m      4\u001b[39m \u001b[38;5;28mprint\u001b[39m(x_string)\n\u001b[32m      5\u001b[39m \u001b[38;5;28mprint\u001b[39m(x_int)\n",
      "\u001b[31mValueError\u001b[39m: invalid literal for int() with base 10: '10asdfa'"
     ]
    }
   ],
   "source": [
    "x_string = '10asdfa'\n",
    "x_int = int(x_string)\n",
    "\n",
    "print(x_string)\n",
    "print(x_int)"
   ]
  },
  {
   "cell_type": "code",
   "execution_count": 27,
   "id": "03b0e95a",
   "metadata": {},
   "outputs": [
    {
     "name": "stdout",
     "output_type": "stream",
     "text": [
      "<class 'str'>\n",
      "<class 'int'>\n"
     ]
    }
   ],
   "source": [
    "print(type(x_string))\n",
    "print(type(x_int))"
   ]
  },
  {
   "cell_type": "markdown",
   "id": "ac968f81",
   "metadata": {},
   "source": [
    "Q. Take two numbers as an input from user and add them"
   ]
  },
  {
   "cell_type": "code",
   "execution_count": 28,
   "id": "dcc4a8cc",
   "metadata": {},
   "outputs": [
    {
     "name": "stdout",
     "output_type": "stream",
     "text": [
      "10\n",
      "10\n",
      "<class 'int'> <class 'str'>\n"
     ]
    }
   ],
   "source": [
    "a = 10\n",
    "b = str(a)\n",
    "print(a)\n",
    "print(b)\n",
    "\n",
    "print(type(a), type(b))"
   ]
  },
  {
   "cell_type": "code",
   "execution_count": null,
   "id": "ed24f976",
   "metadata": {},
   "outputs": [
    {
     "name": "stdout",
     "output_type": "stream",
     "text": [
      "10\n",
      "<class 'int'>\n",
      "10.0\n",
      "<class 'float'>\n"
     ]
    }
   ],
   "source": [
    "a = 10\n",
    "print(a)\n",
    "print(type(a))\n",
    "\n",
    "b = float(a)\n",
    "print(b)\n",
    "print(type(b))\n"
   ]
  },
  {
   "cell_type": "code",
   "execution_count": 3,
   "id": "00cb8c33",
   "metadata": {},
   "outputs": [
    {
     "name": "stdout",
     "output_type": "stream",
     "text": [
      "10.123\n",
      "<class 'float'>\n",
      "10\n",
      "<class 'int'>\n"
     ]
    }
   ],
   "source": [
    "a = 10.123\n",
    "print(a)\n",
    "print(type(a))\n",
    "\n",
    "b = int(a)\n",
    "print(b)\n",
    "print(type(b))"
   ]
  },
  {
   "cell_type": "code",
   "execution_count": 6,
   "id": "f4b3d4bd",
   "metadata": {},
   "outputs": [],
   "source": [
    "a = '10'\n",
    "b = int(a)"
   ]
  },
  {
   "cell_type": "markdown",
   "id": "18f88a69",
   "metadata": {},
   "source": [
    "### Dynamic Typing in Python\n",
    "\n",
    "In statically typed languages like C\n",
    "```\n",
    "int a = 10\n",
    "```\n",
    "\n",
    "The data type is explicitly declared at compile time, meaning a is known to be an integer before the program runs."
   ]
  },
  {
   "cell_type": "code",
   "execution_count": 10,
   "id": "9e9c1d19",
   "metadata": {},
   "outputs": [],
   "source": [
    "\"\"\"\n",
    "In python, data type is specified during the runtime.\n",
    "\"\"\"\n",
    "a = 10"
   ]
  },
  {
   "cell_type": "markdown",
   "id": "bc879092",
   "metadata": {},
   "source": [
    "### Exercise:  Write a program to take two numbers from user and add them"
   ]
  },
  {
   "cell_type": "code",
   "execution_count": null,
   "id": "f9d68e36",
   "metadata": {},
   "outputs": [],
   "source": []
  }
 ],
 "metadata": {
  "kernelspec": {
   "display_name": "python_tutorial",
   "language": "python",
   "name": "python3"
  },
  "language_info": {
   "codemirror_mode": {
    "name": "ipython",
    "version": 3
   },
   "file_extension": ".py",
   "mimetype": "text/x-python",
   "name": "python",
   "nbconvert_exporter": "python",
   "pygments_lexer": "ipython3",
   "version": "3.13.4"
  }
 },
 "nbformat": 4,
 "nbformat_minor": 5
}
