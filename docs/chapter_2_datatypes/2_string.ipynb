{
 "cells": [
  {
   "cell_type": "markdown",
   "id": "33cc567e",
   "metadata": {},
   "source": [
    "### String\n",
    "\n",
    "A string is a sequence of characters enclosed in quotes."
   ]
  },
  {
   "cell_type": "code",
   "execution_count": 1,
   "id": "ae3f797d",
   "metadata": {},
   "outputs": [
    {
     "name": "stdout",
     "output_type": "stream",
     "text": [
      "Nirajan\n",
      "Bekoju\n",
      "\n",
      "I am learning Python.\n",
      "Python is fun.\n",
      "\n"
     ]
    }
   ],
   "source": [
    "# using single quotes\n",
    "first_name = 'Nirajan'\n",
    "print(first_name)\n",
    "\n",
    "# using double quotes\n",
    "last_name = \"Bekoju\"\n",
    "print(last_name)\n",
    "\n",
    "# Triple quotes for multi-line\n",
    "tutorial = \"\"\"\n",
    "I am learning Python.\n",
    "Python is fun.\n",
    "\"\"\"\n",
    "\n",
    "print(tutorial)"
   ]
  },
  {
   "cell_type": "markdown",
   "id": "67c412ed",
   "metadata": {},
   "source": [
    "### Characteristics 1 : Strings can be indexed or sliced."
   ]
  },
  {
   "cell_type": "code",
   "execution_count": 2,
   "id": "856cc82b",
   "metadata": {},
   "outputs": [
    {
     "name": "stdout",
     "output_type": "stream",
     "text": [
      "6\n",
      "P\n",
      "h\n"
     ]
    },
    {
     "ename": "IndexError",
     "evalue": "string index out of range",
     "output_type": "error",
     "traceback": [
      "\u001b[31m---------------------------------------------------------------------------\u001b[39m",
      "\u001b[31mIndexError\u001b[39m                                Traceback (most recent call last)",
      "\u001b[36mCell\u001b[39m\u001b[36m \u001b[39m\u001b[32mIn[2]\u001b[39m\u001b[32m, line 8\u001b[39m\n\u001b[32m      5\u001b[39m \u001b[38;5;28mprint\u001b[39m(text[\u001b[32m3\u001b[39m])\n\u001b[32m      7\u001b[39m \u001b[38;5;66;03m## index out of range\u001b[39;00m\n\u001b[32m----> \u001b[39m\u001b[32m8\u001b[39m \u001b[38;5;28mprint\u001b[39m(\u001b[43mtext\u001b[49m\u001b[43m[\u001b[49m\u001b[32;43m9\u001b[39;49m\u001b[43m]\u001b[49m)\n",
      "\u001b[31mIndexError\u001b[39m: string index out of range"
     ]
    }
   ],
   "source": [
    "## index example\n",
    "text = 'Python'\n",
    "print(len(text))\n",
    "print(text[0])\n",
    "print(text[3])\n",
    "\n",
    "## index out of range\n",
    "print(text[9])"
   ]
  },
  {
   "cell_type": "code",
   "execution_count": 3,
   "id": "4c3c7b4c",
   "metadata": {},
   "outputs": [
    {
     "name": "stdout",
     "output_type": "stream",
     "text": [
      "n\n",
      "o\n",
      "h\n"
     ]
    },
    {
     "ename": "IndexError",
     "evalue": "string index out of range",
     "output_type": "error",
     "traceback": [
      "\u001b[31m---------------------------------------------------------------------------\u001b[39m",
      "\u001b[31mIndexError\u001b[39m                                Traceback (most recent call last)",
      "\u001b[36mCell\u001b[39m\u001b[36m \u001b[39m\u001b[32mIn[3]\u001b[39m\u001b[32m, line 7\u001b[39m\n\u001b[32m      4\u001b[39m \u001b[38;5;28mprint\u001b[39m(text[-\u001b[32m2\u001b[39m])\n\u001b[32m      5\u001b[39m \u001b[38;5;28mprint\u001b[39m(text[-\u001b[32m3\u001b[39m])\n\u001b[32m----> \u001b[39m\u001b[32m7\u001b[39m \u001b[38;5;28mprint\u001b[39m(\u001b[43mtext\u001b[49m\u001b[43m[\u001b[49m\u001b[43m-\u001b[49m\u001b[32;43m11\u001b[39;49m\u001b[43m]\u001b[49m)\n",
      "\u001b[31mIndexError\u001b[39m: string index out of range"
     ]
    }
   ],
   "source": [
    "## index example using negative value\n",
    "text = 'Python'\n",
    "print(text[-1])\n",
    "print(text[-2])\n",
    "print(text[-3])\n",
    "\n",
    "print(text[-11])"
   ]
  },
  {
   "cell_type": "code",
   "execution_count": 4,
   "id": "eee3c8c8",
   "metadata": {},
   "outputs": [
    {
     "name": "stdout",
     "output_type": "stream",
     "text": [
      "Pyth\n",
      "thon\n",
      "thon\n",
      "Pytho\n"
     ]
    }
   ],
   "source": [
    "### string slicing\n",
    "text = 'Python'\n",
    "print(text[0:4])\n",
    "print(text[2:8])\n",
    "print(text[2:])\n",
    "print(text[:5])"
   ]
  },
  {
   "cell_type": "code",
   "execution_count": 6,
   "id": "b8f8b0ec",
   "metadata": {},
   "outputs": [
    {
     "name": "stdout",
     "output_type": "stream",
     "text": [
      "hon\n",
      "\n",
      "th\n"
     ]
    }
   ],
   "source": [
    "text = 'Python'\n",
    "print(text[-3:])\n",
    "print(text[-3:-5])\n",
    "print(text[-4:-2])"
   ]
  },
  {
   "cell_type": "code",
   "execution_count": 7,
   "id": "6124d98e",
   "metadata": {},
   "outputs": [
    {
     "name": "stdout",
     "output_type": "stream",
     "text": [
      "10\n",
      "abcde\n",
      "ace\n"
     ]
    }
   ],
   "source": [
    "text = 'abcdefghij'\n",
    "print(len(text))\n",
    "print(text[0:5])\n",
    "print(text[0:5:2])"
   ]
  },
  {
   "cell_type": "code",
   "execution_count": 9,
   "id": "834275d0",
   "metadata": {},
   "outputs": [
    {
     "name": "stdout",
     "output_type": "stream",
     "text": [
      "jihgfedcba\n",
      "jhfdb\n"
     ]
    }
   ],
   "source": [
    "text = 'abcdefghij'\n",
    "print(text[::-1])\n",
    "print(text[::-2])"
   ]
  },
  {
   "cell_type": "markdown",
   "id": "38935a41",
   "metadata": {},
   "source": [
    "### String Concatenation"
   ]
  },
  {
   "cell_type": "code",
   "execution_count": 11,
   "id": "746fa851",
   "metadata": {},
   "outputs": [
    {
     "name": "stdout",
     "output_type": "stream",
     "text": [
      "Toni Kroos\n",
      "10\n"
     ]
    }
   ],
   "source": [
    "first_name = 'Toni'\n",
    "last_name = 'Kroos'\n",
    "\n",
    "concatenated_word = first_name + ' ' + last_name\n",
    "print(concatenated_word)\n",
    "\n",
    "## also calculate the length of the concatenated word\n",
    "print(len(concatenated_word))"
   ]
  },
  {
   "cell_type": "markdown",
   "id": "e0bf7ad5",
   "metadata": {},
   "source": [
    "### Characteristics 2 : Strings are immutable.\n",
    "- Immutable means they cannot be changed after creation"
   ]
  },
  {
   "cell_type": "code",
   "execution_count": 12,
   "id": "4052fc1e",
   "metadata": {},
   "outputs": [
    {
     "name": "stdout",
     "output_type": "stream",
     "text": [
      "131676183822896\n"
     ]
    },
    {
     "ename": "TypeError",
     "evalue": "'str' object does not support item assignment",
     "output_type": "error",
     "traceback": [
      "\u001b[31m---------------------------------------------------------------------------\u001b[39m",
      "\u001b[31mTypeError\u001b[39m                                 Traceback (most recent call last)",
      "\u001b[36mCell\u001b[39m\u001b[36m \u001b[39m\u001b[32mIn[12]\u001b[39m\u001b[32m, line 3\u001b[39m\n\u001b[32m      1\u001b[39m a = \u001b[33m'\u001b[39m\u001b[33mHello World\u001b[39m\u001b[33m'\u001b[39m\n\u001b[32m      2\u001b[39m \u001b[38;5;28mprint\u001b[39m(\u001b[38;5;28mid\u001b[39m(a))\n\u001b[32m----> \u001b[39m\u001b[32m3\u001b[39m \u001b[43ma\u001b[49m\u001b[43m[\u001b[49m\u001b[32;43m1\u001b[39;49m\u001b[43m]\u001b[49m = \u001b[33m'\u001b[39m\u001b[33mb\u001b[39m\u001b[33m'\u001b[39m\n\u001b[32m      4\u001b[39m \u001b[38;5;28mprint\u001b[39m()\n",
      "\u001b[31mTypeError\u001b[39m: 'str' object does not support item assignment"
     ]
    }
   ],
   "source": [
    "a = 'Hello World'\n",
    "print(id(a))\n",
    "a[1] = 'b'\n",
    "print()"
   ]
  },
  {
   "cell_type": "code",
   "execution_count": 25,
   "id": "24bce555",
   "metadata": {},
   "outputs": [
    {
     "name": "stdout",
     "output_type": "stream",
     "text": [
      "123290813869040\n"
     ]
    }
   ],
   "source": [
    "a = 'random string 1'\n",
    "print(id(a))"
   ]
  },
  {
   "cell_type": "code",
   "execution_count": 26,
   "id": "465c8f03",
   "metadata": {},
   "outputs": [
    {
     "name": "stdout",
     "output_type": "stream",
     "text": [
      "123290813873776\n"
     ]
    }
   ],
   "source": [
    "a = 'hello world'\n",
    "print(id(a))"
   ]
  },
  {
   "cell_type": "markdown",
   "id": "5eeeb977",
   "metadata": {},
   "source": [
    "### String Methods\n",
    "\n",
    "### String Method Exercise\n",
    "\n",
    "- Take a name from the user and print it in uppercase and lowercase.\n",
    "\n",
    "- Count how many times the letter \"a\" appears in the string \"banana\".\n",
    "\n",
    "- Check if a user-entered word starts with \"A\" or ends with \"z\".\n",
    "\n",
    "- Write a program that takes a full name and splits it into first and last name.\n",
    "\n",
    "- Take a input string from user and print its reverse"
   ]
  },
  {
   "cell_type": "markdown",
   "id": "bb437fd8",
   "metadata": {},
   "source": [
    "| Method                   | Description                             | Example                             |\n",
    "| ------------------------ | --------------------------------------- | ----------------------------------- |\n",
    "| `str.lower()`            | Converts to lowercase                   | `\"Hello\".lower()` → `'hello'`       |\n",
    "| `str.upper()`            | Converts to uppercase                   | `\"hello\".upper()` → `'HELLO'`       |\n",
    "| `str.title()`            | Capitalizes first letter of each word                   | `\"hello world\".title()` -> Hello World             |\n",
    "| `str.capitalize()`       | Capitalizes the first character         | `\"hello\".capitalize()` → `'Hello'`  |\n",
    "| `str.strip()`            | Removes leading/trailing spaces         | `\"  hello  \".strip()`               |\n",
    "| `str.replace(old, new)`  | Replaces a substring                    | `\"apple\".replace(\"a\", \"A\")`         |\n",
    "| `str.find(sub)`          | Finds the first index of substring      | `\"hello\".find(\"l\")` → `2`           |\n",
    "| `str.count(sub)`         | Counts occurrences of a substring       | `\"banana\".count(\"a\")` → `3`         |\n",
    "| `str.split(sep)`         | Splits string into a list               | `\"a,b,c\".split(\",\")`                |\n",
    "| `str.join(list)`         | Joins list into a string                | `\" \".join([\"I\", \"love\", \"Python\"])` |\n",
    "| `str.isalpha()`          | Checks if all characters are alphabetic | `\"abc\".isalpha()` → `True`          |\n",
    "| `str.isdigit()`          | Checks if all characters are digits     | `\"123\".isdigit()` → `True`          |\n",
    "| `str.isalnum()`          | Checks if alphanumeric                  | `\"abc123\".isalnum()` → `True`       |\n",
    "| `str.startswith(prefix)` | Checks if string starts with `prefix`   | `\"hello\".startswith(\"he\")`          |\n",
    "| `str.endswith(suffix)`   | Checks if string ends with `suffix`     | `\"hello\".endswith(\"o\")`             |\n"
   ]
  },
  {
   "cell_type": "code",
   "execution_count": 15,
   "id": "7101410f",
   "metadata": {},
   "outputs": [
    {
     "name": "stdout",
     "output_type": "stream",
     "text": [
      "Kroos Toni Abc Sk\n"
     ]
    }
   ],
   "source": [
    "name = 'kroos toni abc sk'\n",
    "title_name = name.title()\n",
    "print(title_name)"
   ]
  },
  {
   "cell_type": "code",
   "execution_count": 14,
   "id": "05d54db6",
   "metadata": {},
   "outputs": [
    {
     "name": "stdout",
     "output_type": "stream",
     "text": [
      "kroos toni abc sk\n"
     ]
    }
   ],
   "source": [
    "print(name)"
   ]
  },
  {
   "cell_type": "code",
   "execution_count": 32,
   "id": "0196a626",
   "metadata": {},
   "outputs": [
    {
     "data": {
      "text/plain": [
       "'Rajesh Hamal'"
      ]
     },
     "execution_count": 32,
     "metadata": {},
     "output_type": "execute_result"
    }
   ],
   "source": [
    "name = 'Rejesh Hamal'\n",
    "# replace e with a\n",
    "name.replace('e', 'a', 1)\n"
   ]
  },
  {
   "cell_type": "code",
   "execution_count": 36,
   "id": "8d617c41",
   "metadata": {},
   "outputs": [
    {
     "name": "stdout",
     "output_type": "stream",
     "text": [
      "rejesh hamal\n",
      "Rejesh Hamal\n"
     ]
    }
   ],
   "source": [
    "a = name.lower()\n",
    "print(a)\n",
    "print(name)"
   ]
  },
  {
   "cell_type": "code",
   "execution_count": 37,
   "id": "dccaf96b",
   "metadata": {},
   "outputs": [
    {
     "data": {
      "text/plain": [
       "'Rejesh Hamal'"
      ]
     },
     "execution_count": 37,
     "metadata": {},
     "output_type": "execute_result"
    }
   ],
   "source": [
    "name.title()"
   ]
  },
  {
   "cell_type": "code",
   "execution_count": 38,
   "id": "8940132b",
   "metadata": {},
   "outputs": [
    {
     "data": {
      "text/plain": [
       "'Nirajan Bekoju'"
      ]
     },
     "execution_count": 38,
     "metadata": {},
     "output_type": "execute_result"
    }
   ],
   "source": [
    "'nirajan BEKOJU'.title()"
   ]
  },
  {
   "cell_type": "code",
   "execution_count": 39,
   "id": "28bb998d",
   "metadata": {},
   "outputs": [
    {
     "data": {
      "text/plain": [
       "True"
      ]
     },
     "execution_count": 39,
     "metadata": {},
     "output_type": "execute_result"
    }
   ],
   "source": [
    "\"asdf\".isalnum()"
   ]
  },
  {
   "cell_type": "markdown",
   "id": "d50becd9",
   "metadata": {},
   "source": []
  },
  {
   "cell_type": "markdown",
   "id": "00b9cbcf",
   "metadata": {},
   "source": [
    "### Escape Characters\n",
    "\n",
    "| Character | Description  |\n",
    "| --------- | ------------ |\n",
    "| `\\n`      | New Line     |\n",
    "| `\\t`      | Tab          |\n",
    "| `\\\\`      | Backslash    |\n",
    "| `\\'`      | Single Quote |\n",
    "| `\\\"`      | Double Quote |\n"
   ]
  },
  {
   "cell_type": "code",
   "execution_count": 40,
   "id": "f2279a2b",
   "metadata": {},
   "outputs": [
    {
     "name": "stdout",
     "output_type": "stream",
     "text": [
      "Hello I am learning \n",
      " Python\n"
     ]
    }
   ],
   "source": [
    "print(\"Hello I am learning \\n Python\")"
   ]
  },
  {
   "cell_type": "code",
   "execution_count": 44,
   "id": "db286567",
   "metadata": {},
   "outputs": [
    {
     "name": "stdout",
     "output_type": "stream",
     "text": [
      "Hello I am learning \"python\"\n"
     ]
    }
   ],
   "source": [
    "print(\"Hello I am learning \\\"python\\\"\")"
   ]
  },
  {
   "cell_type": "markdown",
   "id": "a52014be",
   "metadata": {},
   "source": [
    "### F-String and Format "
   ]
  },
  {
   "cell_type": "code",
   "execution_count": 51,
   "id": "b173b5fe",
   "metadata": {},
   "outputs": [
    {
     "name": "stdout",
     "output_type": "stream",
     "text": [
      "my name is Rajesh Hamal and I am 50 year old.  temporary\n"
     ]
    }
   ],
   "source": [
    "name = 'Rajesh Hamal'\n",
    "age = 50\n",
    "temp = \"temporary\"\n",
    "\n",
    "new_sentence = f\"my name is {name} and I am {age} year old.  {temp}\"\n",
    "print(new_sentence)"
   ]
  },
  {
   "cell_type": "code",
   "execution_count": 53,
   "id": "23a5a323",
   "metadata": {},
   "outputs": [
    {
     "name": "stdout",
     "output_type": "stream",
     "text": [
      "My name is Rajesh Hamal and I am 50 year old\n"
     ]
    }
   ],
   "source": [
    "name = 'Rajesh Hamal'\n",
    "age = 50\n",
    "temp = \"temporary\"\n",
    "\n",
    "\n",
    "new_sentence = \"My name is {n} and I am {a} year old\".format(n = name, a = age)\n",
    "print(new_sentence)"
   ]
  },
  {
   "cell_type": "markdown",
   "id": "4b0f6443",
   "metadata": {},
   "source": [
    "**Note : f-string is faster than .format() and hence use it.**"
   ]
  },
  {
   "cell_type": "code",
   "execution_count": null,
   "id": "b62cfa2d",
   "metadata": {},
   "outputs": [],
   "source": []
  }
 ],
 "metadata": {
  "kernelspec": {
   "display_name": "python_tutorial",
   "language": "python",
   "name": "python3"
  },
  "language_info": {
   "codemirror_mode": {
    "name": "ipython",
    "version": 3
   },
   "file_extension": ".py",
   "mimetype": "text/x-python",
   "name": "python",
   "nbconvert_exporter": "python",
   "pygments_lexer": "ipython3",
   "version": "3.13.4"
  }
 },
 "nbformat": 4,
 "nbformat_minor": 5
}
