{
 "cells": [
  {
   "cell_type": "markdown",
   "id": "9ee856ea",
   "metadata": {},
   "source": [
    "### Arithmetic Operator\n",
    "\n",
    "| Operator | Name           | Description                             | Example  | Output |\n",
    "| -------- | -------------- | --------------------------------------- | -------- | ------ |\n",
    "| `+`      | Addition       | Adds two numbers                        | `5 + 3`  | `8`    |\n",
    "| `-`      | Subtraction    | Subtracts the second from the first     | `10 - 4` | `6`    |\n",
    "| `*`      | Multiplication | Multiplies two numbers                  | `2 * 6`  | `12`   |\n",
    "| `/`      | Division       | Divides the first by the second (float) | `8 / 2`  | `4.0`  |\n",
    "| `//`     | Floor Division | Division with result rounded down       | `7 // 2` | `3`    |\n",
    "| `%`      | Modulus        | Remainder of the division               | `7 % 2`  | `1`    |\n",
    "| `**`     | Exponentiation | Raises to the power                     | `2 ** 3` | `8`    |\n"
   ]
  },
  {
   "cell_type": "code",
   "execution_count": 4,
   "id": "d6c651db",
   "metadata": {},
   "outputs": [
    {
     "name": "stdout",
     "output_type": "stream",
     "text": [
      "2\n"
     ]
    }
   ],
   "source": [
    "a = 72\n",
    "b = 5\n",
    "print(a % b)"
   ]
  },
  {
   "cell_type": "markdown",
   "id": "115091c2",
   "metadata": {},
   "source": [
    "### Comparison Operator \n",
    "| Operator | Meaning               | Example         |\n",
    "| -------- | --------------------- | --------------- |\n",
    "| `==`     | Equal to              | `5 == 5 → True` |\n",
    "| `!=`     | Not equal to          | `5 != 3 → True` |\n",
    "| `>`      | Greater than          | `5 > 3 → True`  |\n",
    "| `<`      | Less than             | `5 < 3 → False` |\n",
    "| `>=`     | Greater than or equal | `5 >= 5 → True` |\n",
    "| `<=`     | Less than or equal    | `3 <= 5 → True` |\n"
   ]
  },
  {
   "cell_type": "code",
   "execution_count": 1,
   "id": "824125d4",
   "metadata": {},
   "outputs": [
    {
     "name": "stdout",
     "output_type": "stream",
     "text": [
      "False\n",
      "True\n"
     ]
    }
   ],
   "source": [
    "a = 11.5\n",
    "b = 10\n",
    "\n",
    "print(a == b)\n",
    "print(a != b)"
   ]
  },
  {
   "cell_type": "markdown",
   "id": "d1f99e5b",
   "metadata": {},
   "source": [
    "### Logical Operator\n",
    "| Operator | Description           | Example                |\n",
    "| -------- | --------------------- | ---------------------- |\n",
    "| `and`    | True if both are True | `True and True → True` |\n",
    "| `or`     | True if any is True   | `True or False → True` |\n",
    "| `not`    | Inverts True/False    | `not True → False`     |\n"
   ]
  },
  {
   "cell_type": "code",
   "execution_count": 2,
   "id": "2fc7d8a2",
   "metadata": {},
   "outputs": [
    {
     "name": "stdout",
     "output_type": "stream",
     "text": [
      "False\n",
      "True\n",
      "False\n"
     ]
    }
   ],
   "source": [
    "a = True \n",
    "b = False \n",
    "\n",
    "print(a and b)\n",
    "print(a or b)\n",
    "print(not a)"
   ]
  },
  {
   "cell_type": "code",
   "execution_count": 3,
   "id": "9ca672c9",
   "metadata": {},
   "outputs": [
    {
     "data": {
      "text/plain": [
       "True"
      ]
     },
     "execution_count": 3,
     "metadata": {},
     "output_type": "execute_result"
    }
   ],
   "source": [
    "num_1 = 10\n",
    "num_2 = 20\n",
    "\n",
    "(num_1 < 15) and (num_2 >15)"
   ]
  },
  {
   "cell_type": "markdown",
   "id": "fe78b98a",
   "metadata": {},
   "source": [
    "### Operator Precedence\n",
    "| Precedence | Operator Type   | Operators                        | Description                    |\n",
    "| ---------- | --------------- | -------------------------------- | ------------------------------ |\n",
    "| 1          | Parentheses     | `()`                             | Overrides default precedence   |\n",
    "| 2          | Exponent        | `**`                             | Power                          |\n",
    "| 3          | Unary           | `+x`, `-x`, `~x`                 | Unary plus, minus, bitwise NOT |\n",
    "| 4          | Multiply/Divide | `*`, `/`, `//`, `%`              | Multiplication, division, etc. |\n",
    "| 5          | Add/Subtract    | `+`, `-`                         | Addition and subtraction       |\n",
    "| 6          | Comparison      | `==`, `!=`, `>`, `<`, `>=`, `<=` | Compare values                 |\n",
    "| 7          | Logical NOT     | `not`                            | Logical negation               |\n",
    "| 8          | Logical AND     | `and`                            | Logical AND                    |\n",
    "| 9          | Logical OR      | `or`                             | Logical OR                     |\n"
   ]
  },
  {
   "cell_type": "code",
   "execution_count": 1,
   "id": "f16ee45d",
   "metadata": {},
   "outputs": [
    {
     "data": {
      "text/plain": [
       "-5"
      ]
     },
     "execution_count": 1,
     "metadata": {},
     "output_type": "execute_result"
    }
   ],
   "source": [
    "a = 5\n",
    "-a"
   ]
  },
  {
   "cell_type": "code",
   "execution_count": null,
   "id": "9608cb40",
   "metadata": {},
   "outputs": [
    {
     "name": "stdout",
     "output_type": "stream",
     "text": [
      "False\n",
      "False\n"
     ]
    }
   ],
   "source": [
    "x = 5\n",
    "y = 10\n",
    "z = 15\n",
    "\n",
    "# Precedence: > then and then not\n",
    "print(not x > 2 and y < 20) \n",
    "\n",
    "# Use parentheses to control order\n",
    "print(not (x > 2 and y < 20))  # not(True and True) → False"
   ]
  },
  {
   "cell_type": "code",
   "execution_count": null,
   "id": "821e3232",
   "metadata": {},
   "outputs": [],
   "source": []
  }
 ],
 "metadata": {
  "kernelspec": {
   "display_name": "python_tutorial",
   "language": "python",
   "name": "python3"
  },
  "language_info": {
   "codemirror_mode": {
    "name": "ipython",
    "version": 3
   },
   "file_extension": ".py",
   "mimetype": "text/x-python",
   "name": "python",
   "nbconvert_exporter": "python",
   "pygments_lexer": "ipython3",
   "version": "3.13.4"
  }
 },
 "nbformat": 4,
 "nbformat_minor": 5
}
