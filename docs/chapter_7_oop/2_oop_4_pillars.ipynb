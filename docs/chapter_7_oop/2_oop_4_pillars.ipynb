{
 "cells": [
  {
   "cell_type": "markdown",
   "id": "af42d398",
   "metadata": {},
   "source": [
    "# 4 Pillars of OOP\n",
    "\n",
    "The 4 pillars of Object-Oriented Programming (OOP) are the foundational principles that guide how objects interact in software. These are:\n",
    "\n",
    "- Encapsulation\n",
    "\n",
    "- Inheritance\n",
    "\n",
    "- Abstraction\n",
    "\n",
    "- Polymorphism"
   ]
  },
  {
   "cell_type": "markdown",
   "id": "89d177db",
   "metadata": {},
   "source": [
    "## Encapsulation: Binding data and methods together and hiding internal state.\n",
    "- Encapsulation allows an object to hide its internal state and only allow access through public methods.\n",
    "\n",
    "![Alt Text](Encapsulation-in-Python.webp)\n"
   ]
  },
  {
   "cell_type": "code",
   "execution_count": 8,
   "id": "7eb40430",
   "metadata": {},
   "outputs": [],
   "source": [
    "class BankAccount:\n",
    "    def __init__(self, name, balance):\n",
    "        self.name = name\n",
    "        self.__balance = balance  # private attribute\n",
    "\n",
    "    def get_balance(self):\n",
    "        return self.__balance"
   ]
  },
  {
   "cell_type": "code",
   "execution_count": 9,
   "id": "cb406e9f",
   "metadata": {},
   "outputs": [
    {
     "name": "stdout",
     "output_type": "stream",
     "text": [
      "Nirajan\n"
     ]
    }
   ],
   "source": [
    "acc = BankAccount(\"Nirajan\", 1000)\n",
    "print(acc.name)\n",
    "\n",
    "# This will give error as we are trying to access private attribute\n",
    "# print(acc.__balance) "
   ]
  },
  {
   "cell_type": "markdown",
   "id": "99e5e8cd",
   "metadata": {},
   "source": [
    "## Inheritence\n",
    "\n",
    "- Inheritance allows us to define a class that inherits all the methods and properties from another class.\n",
    "\n",
    "- Parent class is the class being inherited from, also called base class.\n",
    "\n",
    "- Child class is the class that inherits from another class, also called derived class."
   ]
  },
  {
   "cell_type": "markdown",
   "id": "5ab2ca0f",
   "metadata": {},
   "source": [
    "#### Create a Parent Class\n",
    "\n",
    "- Any class can be a parent class, so the syntax is the same as creating any other class:\n",
    "\n"
   ]
  },
  {
   "cell_type": "code",
   "execution_count": 11,
   "id": "ec597d6e",
   "metadata": {},
   "outputs": [],
   "source": [
    "class Person:\n",
    "  def __init__(self, fname, lname):\n",
    "    self.firstname = fname\n",
    "    self.lastname = lname\n",
    "\n",
    "  def printname(self):\n",
    "    print(self.firstname, self.lastname)\n"
   ]
  },
  {
   "cell_type": "code",
   "execution_count": 12,
   "id": "0193d78a",
   "metadata": {},
   "outputs": [
    {
     "name": "stdout",
     "output_type": "stream",
     "text": [
      "John Doe\n"
     ]
    }
   ],
   "source": [
    "x = Person(\"John\", \"Doe\")\n",
    "x.printname()"
   ]
  },
  {
   "cell_type": "markdown",
   "id": "2530b407",
   "metadata": {},
   "source": [
    "#### Create a Child Class\n",
    "- To create a class that inherits the functionality from another class, send the parent class as a parameter when creating the child class:\n",
    "\n"
   ]
  },
  {
   "cell_type": "code",
   "execution_count": 13,
   "id": "b0198039",
   "metadata": {},
   "outputs": [],
   "source": [
    "class Student(Person):\n",
    "  pass"
   ]
  },
  {
   "cell_type": "code",
   "execution_count": 14,
   "id": "e32d7d54",
   "metadata": {},
   "outputs": [
    {
     "name": "stdout",
     "output_type": "stream",
     "text": [
      "Mike Olsen\n"
     ]
    }
   ],
   "source": [
    "x = Student(\"Mike\", \"Olsen\")\n",
    "x.printname()"
   ]
  },
  {
   "cell_type": "markdown",
   "id": "cae1f039",
   "metadata": {},
   "source": [
    "#### Add the __init__() Function in Child Class\n",
    "- When you add the __init__() function, the child class will no longer inherit the parent's __init__() function.\n",
    "\n",
    "Note: The child's __init__() function overrides the inheritance of the parent's __init__() function.\n",
    "\n",
    "\n",
    "- To keep the inheritance of the parent's __init__() function, add a call to the parent's __init__() function:\n",
    "\n",
    "\n"
   ]
  },
  {
   "cell_type": "code",
   "execution_count": 23,
   "id": "230273c2",
   "metadata": {},
   "outputs": [],
   "source": [
    "class Student(Person):\n",
    "    def __init__(self, fname, lname):\n",
    "        Person.__init__(self, fname, lname)"
   ]
  },
  {
   "cell_type": "code",
   "execution_count": 24,
   "id": "d4a9030f",
   "metadata": {},
   "outputs": [
    {
     "name": "stdout",
     "output_type": "stream",
     "text": [
      "Mike Olsen\n"
     ]
    }
   ],
   "source": [
    "x = Student(\"Mike\", \"Olsen\")\n",
    "x.printname()"
   ]
  },
  {
   "cell_type": "markdown",
   "id": "62e5c38e",
   "metadata": {},
   "source": [
    "#### Using the super() Function\n",
    "\n",
    "- Python also has a super() function that will make the child class inherit all the methods and properties from its parent:\n",
    "\n",
    "- By using the super() function, you do not have to use the name of the parent element, it will automatically inherit the methods and properties from its parent.\n",
    "\n",
    "\n"
   ]
  },
  {
   "cell_type": "code",
   "execution_count": 25,
   "id": "de052447",
   "metadata": {},
   "outputs": [],
   "source": [
    "class Student(Person):\n",
    "  def __init__(self, fname, lname):\n",
    "    super().__init__(fname, lname)"
   ]
  },
  {
   "cell_type": "code",
   "execution_count": 26,
   "id": "03cf8d1a",
   "metadata": {},
   "outputs": [
    {
     "name": "stdout",
     "output_type": "stream",
     "text": [
      "Mike Olsen\n"
     ]
    }
   ],
   "source": [
    "x = Student(\"Mike\", \"Olsen\")\n",
    "x.printname()"
   ]
  },
  {
   "cell_type": "markdown",
   "id": "9c7d1626",
   "metadata": {},
   "source": [
    "#### Add Properties "
   ]
  },
  {
   "cell_type": "code",
   "execution_count": 28,
   "id": "5c73fb92",
   "metadata": {},
   "outputs": [],
   "source": [
    "class Student(Person):\n",
    "  def __init__(self, fname, lname, graduationyear):\n",
    "    super().__init__(fname, lname)\n",
    "    self.graduationyear = graduationyear\n",
    "\n",
    "  def welcome(self):\n",
    "    print(\"Welcome\", self.firstname, self.lastname, \"to the class of\", self.graduationyear)\n"
   ]
  },
  {
   "cell_type": "code",
   "execution_count": 30,
   "id": "55b0087c",
   "metadata": {},
   "outputs": [
    {
     "name": "stdout",
     "output_type": "stream",
     "text": [
      "Welcome nirajan bekoju to the class of 2024\n"
     ]
    }
   ],
   "source": [
    "x = Student(fname='nirajan', lname = 'bekoju', graduationyear = 2024)\n",
    "x.welcome()"
   ]
  },
  {
   "cell_type": "markdown",
   "id": "a0b6828e",
   "metadata": {},
   "source": [
    "## Exercise\n",
    "\n",
    "**Create a class Vehicle with brand and year.\n",
    "Create a subclass Car that inherits from Vehicle and adds a new property model.**\n",
    "\n",
    "Also create a display_info() method in the subclass Car which display brand, year and model."
   ]
  },
  {
   "cell_type": "markdown",
   "id": "eedaec36",
   "metadata": {},
   "source": [
    "## Multiple Inheritence"
   ]
  },
  {
   "cell_type": "code",
   "execution_count": 35,
   "id": "329240b2",
   "metadata": {},
   "outputs": [],
   "source": [
    "class Father:\n",
    "    def father_info(self):\n",
    "        print(\"Father's name is John\")\n",
    "\n",
    "class Mother:\n",
    "    def mother_info(self):\n",
    "        print(\"Mother's name is Jane\")\n",
    "\n",
    "class Child(Father, Mother):\n",
    "    def child_info(self):\n",
    "        print(\"Child's name is Alex\")"
   ]
  },
  {
   "cell_type": "code",
   "execution_count": 36,
   "id": "e375f6ba",
   "metadata": {},
   "outputs": [
    {
     "name": "stdout",
     "output_type": "stream",
     "text": [
      "Father's name is John\n",
      "Mother's name is Jane\n",
      "Child's name is Alex\n"
     ]
    }
   ],
   "source": [
    "# Test\n",
    "c = Child()\n",
    "c.father_info()\n",
    "c.mother_info()\n",
    "c.child_info()"
   ]
  },
  {
   "cell_type": "code",
   "execution_count": null,
   "id": "52c52468",
   "metadata": {},
   "outputs": [],
   "source": []
  }
 ],
 "metadata": {
  "kernelspec": {
   "display_name": "python_tutorial",
   "language": "python",
   "name": "python3"
  },
  "language_info": {
   "codemirror_mode": {
    "name": "ipython",
    "version": 3
   },
   "file_extension": ".py",
   "mimetype": "text/x-python",
   "name": "python",
   "nbconvert_exporter": "python",
   "pygments_lexer": "ipython3",
   "version": "3.13.4"
  }
 },
 "nbformat": 4,
 "nbformat_minor": 5
}
