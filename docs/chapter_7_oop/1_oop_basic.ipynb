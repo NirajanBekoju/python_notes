{
 "cells": [
  {
   "cell_type": "markdown",
   "id": "cf925e2d",
   "metadata": {},
   "source": [
    "# OOP\n",
    "\n",
    "\n",
    "\n",
    "| Feature           | OOP (Object-Oriented Programming)                                        | Functional Programming (Functions)                              |\n",
    "| ----------------- | ------------------------------------------------------------------------ | --------------------------------------------------------------- |\n",
    "| **Core Idea**     | Models real-world entities as **objects** with **data** and **behavior** | Organizes code as **functions** that transform data             |\n",
    "| **Basic Unit**    | **Class** and **Object**                                                 | **Function**                                                    |\n",
    "| **State**         | Maintains **state** using instance variables                             | Generally **stateless** (no side effects)                       |\n",
    "\n",
    "**Class: Blueprint for creating objects**\n",
    "\n",
    "**Object: Instance of a class**"
   ]
  },
  {
   "cell_type": "markdown",
   "id": "40f3810c",
   "metadata": {},
   "source": [
    "## OOP in Python\n",
    "- Python is an object oriented programming language.\n",
    "\n",
    "- Almost everything in Python is an object, with its properties and methods."
   ]
  },
  {
   "cell_type": "code",
   "execution_count": 36,
   "id": "a8ff3e00",
   "metadata": {},
   "outputs": [],
   "source": [
    "class BankAccount:\n",
    "    def __init__(self, n, l, b, branch):\n",
    "        self.name = n \n",
    "        self.location = l \n",
    "        self.balance = b \n",
    "        self.branch = branch\n",
    "    \n",
    "    def __str__(self):\n",
    "        return f'Account : {self.name} and location : {self.location}'\n",
    "    \n",
    "    def viewBalance(self):\n",
    "        print(f'Your balance is {self.balance}')\n",
    "    \n",
    "    def depositAmount(self, amount):\n",
    "        self.balance = self.balance + amount \n",
    "        print(f'You account has been deposited by Rs. {amount}')"
   ]
  },
  {
   "cell_type": "code",
   "execution_count": 37,
   "id": "f3b92cfd",
   "metadata": {},
   "outputs": [
    {
     "name": "stdout",
     "output_type": "stream",
     "text": [
      "Your balance is 100\n",
      "You account has been deposited by Rs. 200\n",
      "Your balance is 300\n"
     ]
    }
   ],
   "source": [
    "nirajan_account = BankAccount(n = 'Nirajan', l = 'Kathmandu', b = 100, branch = 'Sanepa')\n",
    "nirajan_account.viewBalance()\n",
    "nirajan_account.depositAmount(200)\n",
    "nirajan_account.viewBalance()"
   ]
  },
  {
   "cell_type": "code",
   "execution_count": 23,
   "id": "71566901",
   "metadata": {},
   "outputs": [
    {
     "name": "stdout",
     "output_type": "stream",
     "text": [
      "Nirajan\n",
      "100\n"
     ]
    }
   ],
   "source": [
    "print(nirajan_account.name)\n",
    "print(nirajan_account.balance)"
   ]
  },
  {
   "cell_type": "markdown",
   "id": "b9ccf548",
   "metadata": {},
   "source": [
    "## __init__\n",
    "\n",
    "- All classes have a function called __init__(), which is always executed when the class is being initiated.\n",
    "\n"
   ]
  },
  {
   "cell_type": "code",
   "execution_count": 10,
   "id": "f1f5b408",
   "metadata": {},
   "outputs": [
    {
     "name": "stdout",
     "output_type": "stream",
     "text": [
      "<class '__main__.Person'>\n",
      "John\n",
      "36\n"
     ]
    }
   ],
   "source": [
    "class Person:\n",
    "  def __init__(self, name, age):\n",
    "    self.name = name\n",
    "    self.age = age\n",
    "\n",
    "  def __str__(self):\n",
    "    return f'I am {self.name} and I am {self.age} years old'\n",
    "\n",
    "p1 = Person(\"John\", 36)\n",
    "\n",
    "print(type(p1))\n",
    "print(p1.name)\n",
    "print(p1.age)"
   ]
  },
  {
   "cell_type": "code",
   "execution_count": 11,
   "id": "7a68237d",
   "metadata": {},
   "outputs": [
    {
     "name": "stdout",
     "output_type": "stream",
     "text": [
      "Nirajan\n",
      "25\n"
     ]
    }
   ],
   "source": [
    "p2 = Person('Nirajan', 25)\n",
    "\n",
    "\n",
    "print(p2.name)\n",
    "print(p2.age)"
   ]
  },
  {
   "cell_type": "code",
   "execution_count": 12,
   "id": "e96aec41",
   "metadata": {},
   "outputs": [
    {
     "name": "stdout",
     "output_type": "stream",
     "text": [
      "I am Nirajan and I am 25 years old\n"
     ]
    }
   ],
   "source": [
    "print(p2)"
   ]
  },
  {
   "cell_type": "code",
   "execution_count": null,
   "id": "b2b85bc0",
   "metadata": {},
   "outputs": [],
   "source": []
  },
  {
   "cell_type": "code",
   "execution_count": 2,
   "id": "29a3db18",
   "metadata": {},
   "outputs": [
    {
     "data": {
      "text/plain": [
       "<__main__.Person at 0x78308c259550>"
      ]
     },
     "execution_count": 2,
     "metadata": {},
     "output_type": "execute_result"
    }
   ],
   "source": [
    "p1"
   ]
  },
  {
   "cell_type": "markdown",
   "id": "88b8877c",
   "metadata": {},
   "source": [
    "## __str__\n",
    "\n",
    "- The __str__() function controls what should be returned when the class object is represented as a string.\n",
    "\n"
   ]
  },
  {
   "cell_type": "code",
   "execution_count": 4,
   "id": "cf811755",
   "metadata": {},
   "outputs": [
    {
     "name": "stdout",
     "output_type": "stream",
     "text": [
      "John(36)\n"
     ]
    }
   ],
   "source": [
    "class Person:\n",
    "  def __init__(self, name, age):\n",
    "    self.name = name\n",
    "    self.age = age\n",
    "\n",
    "  def __str__(self):\n",
    "    return f\"{self.name}({self.age})\"\n",
    "\n",
    "p1 = Person(\"John\", 36)\n",
    "\n",
    "print(p1)"
   ]
  },
  {
   "cell_type": "markdown",
   "id": "ef4026b9",
   "metadata": {},
   "source": [
    "## Object Methods\n",
    "- Objects can also contain methods. Methods in objects are functions that belong to the object.\n",
    "\n",
    "- The self parameter is a reference to the current instance of the class, and is used to access variables that belong to the class.\n",
    "\n",
    "\n",
    "\n"
   ]
  },
  {
   "cell_type": "code",
   "execution_count": 2,
   "id": "08e9c5b4",
   "metadata": {},
   "outputs": [],
   "source": [
    "class Person:\n",
    "  def __init__(self, name, age):\n",
    "    self.name = name\n",
    "    self.age = age\n",
    "\n",
    "  def __str__(self):\n",
    "    return f\"Name : {self.name} \\nAge: {self.age}\"\n",
    "  \n",
    "  def printName(self):\n",
    "    print(f\"Hello my name is {self.name}\")\n",
    "\n",
    "  def __del__(self):\n",
    "    print(f'Object {self.name} is deleted.')"
   ]
  },
  {
   "cell_type": "code",
   "execution_count": 3,
   "id": "68e73522",
   "metadata": {},
   "outputs": [
    {
     "name": "stdout",
     "output_type": "stream",
     "text": [
      "Hello my name is John\n"
     ]
    }
   ],
   "source": [
    "p1 = Person(\"John\", 36)\n",
    "p1.printName()"
   ]
  },
  {
   "cell_type": "code",
   "execution_count": 4,
   "id": "1747257c",
   "metadata": {},
   "outputs": [
    {
     "name": "stdout",
     "output_type": "stream",
     "text": [
      "Name : John \n",
      "Age: 50\n"
     ]
    }
   ],
   "source": [
    "## modify the object properties\n",
    "p1.age = 50\n",
    "print(p1)"
   ]
  },
  {
   "cell_type": "code",
   "execution_count": 5,
   "id": "609dd8a9",
   "metadata": {},
   "outputs": [
    {
     "name": "stdout",
     "output_type": "stream",
     "text": [
      "Object John is deleted.\n"
     ]
    }
   ],
   "source": [
    "## delete an object --> this will the destructor defined above\n",
    "del p1"
   ]
  },
  {
   "cell_type": "markdown",
   "id": "c5666e5c",
   "metadata": {},
   "source": [
    "## Example of Object Method with Parameter"
   ]
  },
  {
   "cell_type": "code",
   "execution_count": 28,
   "id": "3a9bfaab",
   "metadata": {},
   "outputs": [],
   "source": [
    "class Employee:\n",
    "    def __init__(self, name, salary):\n",
    "        self.name = name \n",
    "        self.salary = salary\n",
    "\n",
    "    def increaseSalary(self, increment_percent):\n",
    "        self.salary = self.salary + increment_percent / 100 * self.salary\n",
    "        print(f'Salary of {self.name} has been increase by {increment_percent} % and total salary = {self.salary}')\n",
    "    \n",
    "    def __str__(self):\n",
    "        return f'Employee : {self.name} \\nSalary : {self.salary}'"
   ]
  },
  {
   "cell_type": "code",
   "execution_count": 29,
   "id": "9a174011",
   "metadata": {},
   "outputs": [
    {
     "name": "stdout",
     "output_type": "stream",
     "text": [
      "Employee : John Doe \n",
      "Salary : 50000\n"
     ]
    }
   ],
   "source": [
    "employee_1 = Employee(name = 'John Doe', salary = 50_000)\n",
    "print(employee_1)"
   ]
  },
  {
   "cell_type": "code",
   "execution_count": 30,
   "id": "c73837b7",
   "metadata": {},
   "outputs": [
    {
     "name": "stdout",
     "output_type": "stream",
     "text": [
      "Salary of John Doe has been increase by 10 % and total salary = 55000.0\n",
      "55000.0\n"
     ]
    }
   ],
   "source": [
    "employee_1.increaseSalary(increment_percent=10)\n",
    "print(employee_1.salary)"
   ]
  },
  {
   "cell_type": "code",
   "execution_count": 31,
   "id": "73f0fcbd",
   "metadata": {},
   "outputs": [
    {
     "name": "stdout",
     "output_type": "stream",
     "text": [
      "Employee : John Doe \n",
      "Salary : 55000.0\n"
     ]
    }
   ],
   "source": [
    "print(employee_1)"
   ]
  },
  {
   "cell_type": "markdown",
   "id": "74189eb8",
   "metadata": {},
   "source": [
    "## Exercise\n",
    "#### 1. Create a class called BankAccount with \n",
    "```\n",
    "- properties : account_number, account_name, account_balance\n",
    "- methods : addBalance, subtractBalance, viewBalance\n",
    "```\n",
    "\n",
    "Note : The methods should print statements as shown below:\n",
    "```\n",
    "addBalance -> Dear {account_name}, your {account_number} has been deposited by NPR. {x_amount} and total balance = {account_balance}\n",
    "\n",
    "subtractBalance -> Dear {account_name}, your {account_number} has been withdrawn by NPR. {x_amount} and total balance = {account_balance}\n",
    "\n",
    "viewBalance -> Dear {account_name}, your {account_number} has total balance NPR. {account_balance}\n",
    "```\n",
    "\n",
    "\n",
    "**Constraints**\n",
    "```\n",
    "subtractBalance: Make sure that the account_balance is sufficient before we deduct the amount\n",
    "```\n",
    "\n",
    "\n",
    "##### After completing above tasks:\n",
    "- create a method in the above class to transfer money from one account to another...\n",
    "\n",
    "```\n",
    "john_account = BankAccount(......)\n",
    "alice_account = BankAccount(......)\n",
    "\n",
    "# transfer money from john account to alice account\n",
    "john_account.transfer(alice_account, amount)\n",
    "\n",
    "```"
   ]
  },
  {
   "cell_type": "code",
   "execution_count": null,
   "id": "022185d0",
   "metadata": {},
   "outputs": [],
   "source": []
  },
  {
   "cell_type": "markdown",
   "id": "9699012e",
   "metadata": {},
   "source": [
    "## Dunder Methods in Class\n",
    "| Dunder Method  | Purpose / Description                                                          | Example Usage      |\n",
    "| -------------- | ------------------------------------------------------------------------------ | ------------------ |\n",
    "| `__init__`     | Constructor, called when a new instance is created.                            | `obj = MyClass()`  |\n",
    "| `__del__`      | Destructor, called when an object is deleted.                                  | `del obj`          |\n",
    "| `__str__`      | Returns a human-readable string representation.                                | `print(obj)`       |\n",
    "| `__repr__`     | Returns an unambiguous string representation (used by `repr()`, debugging).    | `repr(obj)`        |\n",
    "| `__len__`      | Returns the length of the object.                                              | `len(obj)`         |\n",
    "| `__getitem__`  | Used for indexing (`obj[key]`).                                                | `obj[0]`           |\n",
    "| `__setitem__`  | Assigns a value to the indexed item.                                           | `obj[0] = \"value\"` |\n",
    "| `__delitem__`  | Deletes an item at the specified index.                                        | `del obj[0]`       |\n",
    "| `__iter__`     | Returns an iterator object (used in loops).                                    | `for x in obj:`    |\n",
    "| `__next__`     | Returns the next item from the iterator.                                       | `next(obj)`        |\n",
    "| `__contains__` | Implements membership test (`in` keyword).                                     | `\"item\" in obj`    |\n",
    "| `__call__`     | Makes an object callable like a function.                                      | `obj()`            |\n",
    "| `__eq__`       | Implements equality comparison (`==`).                                         | `obj1 == obj2`     |\n",
    "| `__ne__`       | Implements inequality comparison (`!=`).                                       | `obj1 != obj2`     |\n",
    "| `__lt__`       | Less than (`<`).                                                               | `obj1 < obj2`      |\n",
    "| `__le__`       | Less than or equal (`<=`).                                                     | `obj1 <= obj2`     |\n",
    "| `__gt__`       | Greater than (`>`).                                                            | `obj1 > obj2`      |\n",
    "| `__ge__`       | Greater than or equal (`>=`).                                                  | `obj1 >= obj2`     |\n",
    "| `__add__`      | Implements addition (`+`).                                                     | `obj1 + obj2`      |\n",
    "| `__sub__`      | Implements subtraction (`-`).                                                  | `obj1 - obj2`      |\n",
    "| `__mul__`      | Implements multiplication (`*`).                                               | `obj1 * obj2`      |\n",
    "| `__truediv__`  | Implements division (`/`).                                                     | `obj1 / obj2`      |\n",
    "| `__mod__`      | Implements modulo (`%`).                                                       | `obj1 % obj2`      |\n",
    "| `__pow__`      | Implements exponentiation (`**`).                                              | `obj1 ** obj2`     |\n",
    "| `__bool__`     | Returns the Boolean value of an object (used by `bool()` and in conditionals). | `bool(obj)`        |\n",
    "| `__enter__`    | Used in context managers (`with` statements).                                  | `with obj:`        |\n",
    "| `__exit__`     | Handles exit logic for context managers.                                       | `with obj:`        |\n"
   ]
  },
  {
   "cell_type": "markdown",
   "id": "25c4f94d",
   "metadata": {},
   "source": []
  },
  {
   "cell_type": "code",
   "execution_count": 1,
   "id": "741e9000",
   "metadata": {},
   "outputs": [
    {
     "name": "stdout",
     "output_type": "stream",
     "text": [
      "10\n"
     ]
    }
   ],
   "source": [
    "x = 10\n",
    "\n",
    "def change_value():\n",
    "    x = 20\n",
    "\n",
    "change_value()\n",
    "print(x)"
   ]
  },
  {
   "cell_type": "code",
   "execution_count": null,
   "id": "92448b8a",
   "metadata": {},
   "outputs": [],
   "source": []
  },
  {
   "cell_type": "code",
   "execution_count": 2,
   "id": "fa14f8c1",
   "metadata": {},
   "outputs": [
    {
     "data": {
      "text/plain": [
       "[1, 2, 3]"
      ]
     },
     "execution_count": 2,
     "metadata": {},
     "output_type": "execute_result"
    }
   ],
   "source": [
    "list([1, 2, 3])"
   ]
  },
  {
   "cell_type": "code",
   "execution_count": 5,
   "id": "baedd9b3",
   "metadata": {},
   "outputs": [
    {
     "data": {
      "text/plain": [
       "str"
      ]
     },
     "execution_count": 5,
     "metadata": {},
     "output_type": "execute_result"
    }
   ],
   "source": [
    "type(('hello'))"
   ]
  },
  {
   "cell_type": "code",
   "execution_count": null,
   "id": "b89d03d0",
   "metadata": {},
   "outputs": [],
   "source": []
  }
 ],
 "metadata": {
  "kernelspec": {
   "display_name": "python_tutorial",
   "language": "python",
   "name": "python3"
  },
  "language_info": {
   "codemirror_mode": {
    "name": "ipython",
    "version": 3
   },
   "file_extension": ".py",
   "mimetype": "text/x-python",
   "name": "python",
   "nbconvert_exporter": "python",
   "pygments_lexer": "ipython3",
   "version": "3.13.4"
  }
 },
 "nbformat": 4,
 "nbformat_minor": 5
}
