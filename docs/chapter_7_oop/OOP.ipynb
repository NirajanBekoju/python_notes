{
 "cells": [
  {
   "cell_type": "markdown",
   "id": "4c273c63",
   "metadata": {},
   "source": [
    "### Object-Oriented Programming (OOP)\n",
    "Programming paradigm that organizes code into objects.\n",
    "* data (attributes)\n",
    "* behavior (methods)\n",
    "\n",
    "**Example:**\n",
    "\n",
    "* It helps structure code using real-world entities.\n",
    "* A car (object) has attributes (color, model) and behaviors (drive, stop).\n",
    "\n",
    "**Classes and Objects**\n",
    "* Classes are blueprints for creating objects, and objects are instances of classes.\n",
    "* Objects store attributes (variables) and methods (functions) that define their behavior.\n"
   ]
  },
  {
   "cell_type": "code",
   "execution_count": null,
   "id": "f739f649",
   "metadata": {},
   "outputs": [],
   "source": [
    "class User:\n",
    "    def hello(self):\n",
    "        print(\"Hello world!\")"
   ]
  },
  {
   "cell_type": "code",
   "execution_count": null,
   "id": "e6af855a",
   "metadata": {},
   "outputs": [
    {
     "name": "stdout",
     "output_type": "stream",
     "text": [
      "Hello world!\n"
     ]
    }
   ],
   "source": [
    "user1 = User()\n",
    "user1.hello()"
   ]
  },
  {
   "cell_type": "code",
   "execution_count": 23,
   "id": "50765573",
   "metadata": {},
   "outputs": [],
   "source": [
    "class User:\n",
    "    def __init__(self, name, age):\n",
    "        self.name = name\n",
    "        self.age = age\n",
    "    \n",
    "    def run(self):\n",
    "        print(f\"Hello, {self.name} is running.\")\n",
    "\n",
    "    def shout(self):\n",
    "        print(f\"{self.name} is shouting.\")"
   ]
  },
  {
   "cell_type": "code",
   "execution_count": 25,
   "id": "3efd8160",
   "metadata": {},
   "outputs": [],
   "source": [
    "obj1 = User(\"Nirajan\", 24)"
   ]
  },
  {
   "cell_type": "code",
   "execution_count": 26,
   "id": "65310813",
   "metadata": {},
   "outputs": [
    {
     "data": {
      "text/plain": [
       "'Nirajan'"
      ]
     },
     "execution_count": 26,
     "metadata": {},
     "output_type": "execute_result"
    }
   ],
   "source": [
    "obj1.name"
   ]
  },
  {
   "cell_type": "code",
   "execution_count": 27,
   "id": "301375a6",
   "metadata": {},
   "outputs": [],
   "source": [
    "obj1.attack = 50"
   ]
  },
  {
   "cell_type": "code",
   "execution_count": 28,
   "id": "297e0f0c",
   "metadata": {},
   "outputs": [
    {
     "name": "stdout",
     "output_type": "stream",
     "text": [
      "Hello, Nirajan is running.\n"
     ]
    }
   ],
   "source": [
    "obj1.run()"
   ]
  },
  {
   "cell_type": "code",
   "execution_count": 29,
   "id": "d0ee5fbe",
   "metadata": {},
   "outputs": [
    {
     "name": "stdout",
     "output_type": "stream",
     "text": [
      "Nirajan is shouting.\n"
     ]
    }
   ],
   "source": [
    "obj1.shout()"
   ]
  },
  {
   "cell_type": "code",
   "execution_count": 30,
   "id": "7355ab03",
   "metadata": {},
   "outputs": [
    {
     "data": {
      "text/plain": [
       "50"
      ]
     },
     "execution_count": 30,
     "metadata": {},
     "output_type": "execute_result"
    }
   ],
   "source": [
    "obj1.attack"
   ]
  },
  {
   "cell_type": "code",
   "execution_count": 31,
   "id": "8f5b409b",
   "metadata": {},
   "outputs": [],
   "source": [
    "class PlayerCharacter: # CamelCase for classes\n",
    "\tdef __init__(self, name, age):\n",
    "\t\tself.name = name\n",
    "\t\tself.age = age\n",
    "\t\n",
    "\tdef run(self):\n",
    "\t\tprint(f\"Player {self.name} of age {self.age} is running.\")"
   ]
  },
  {
   "cell_type": "code",
   "execution_count": 32,
   "id": "daa96fc6",
   "metadata": {},
   "outputs": [
    {
     "name": "stdout",
     "output_type": "stream",
     "text": [
      "24\n",
      "John\n",
      "Player Nirajan of age 24 is running.\n",
      "50\n"
     ]
    }
   ],
   "source": [
    "player1 = PlayerCharacter(\"Nirajan\", 24)\n",
    "player2 = PlayerCharacter(\"John\", 20)\n",
    "\n",
    "player2.attack = 50  # Creating attribute\n",
    "\n",
    "print(player1.age) # 24\n",
    "print(player2.name) # John\n",
    "player1.run() # Player Nirajan of age 24 is running.\n",
    "print(player2.attack) # 50 "
   ]
  },
  {
   "cell_type": "markdown",
   "id": "b2de8d70",
   "metadata": {},
   "source": [
    "#### The __init__ Method (Constructor) :\n",
    "* `__init__` is a special method (dunder method) that initializes object attributes when an instance is created. It is automatically called when a new object is instantiated.\n",
    "* `Self` represents the instance of the class and allows access to its attributes and methods. It must be the first parameter in instance methods but is not a keyword (can be renamed, though not recommended)"
   ]
  },
  {
   "cell_type": "markdown",
   "id": "4cf7de03",
   "metadata": {},
   "source": [
    "#### Class attribute\n",
    "Class attributes are static unlike attributes used in `_init__`. They are same for all objects and are accessed by using class name directly.\n"
   ]
  },
  {
   "cell_type": "code",
   "execution_count": null,
   "id": "d771c45c",
   "metadata": {},
   "outputs": [
    {
     "name": "stdout",
     "output_type": "stream",
     "text": [
      "Nirajan\n"
     ]
    }
   ],
   "source": [
    "class PlayerCharacter:\n",
    "\tmembership = True\n",
    "\tdef __init__(self, name):\n",
    "\t\tself.name = name\n",
    "\t\n",
    "\tdef shout(self):\n",
    "\t\tif PlayerCharacter.membership:\n",
    "\t\t\treturn self.name \n",
    "\t\t\t# return PlayerCharacter.name # This gives error because name is class attribute\n",
    "\t\telse:\n",
    "\t\t\treturn \"no membership\"\n",
    "\n",
    "obj1 = PlayerCharacter(\"Nirajan\")\n",
    "print(obj1.shout()) # Nirajan"
   ]
  },
  {
   "cell_type": "markdown",
   "id": "9b645175",
   "metadata": {},
   "source": [
    "### Four pillars of OOP\n",
    "\n",
    "#### Encapsulation:\n",
    "Binding data (attribute) and functions (methods) that manipulate the data.\n",
    "\n",
    "Also in Python code, when we create a string, because of encapsulation we have different functions and methods available that we can access.<br>\n",
    "For example: upper(), count(), reverse(), etc.\n"
   ]
  },
  {
   "cell_type": "code",
   "execution_count": 37,
   "id": "b78be99a",
   "metadata": {},
   "outputs": [],
   "source": [
    "class PlayerCharacter:\n",
    "\tdef __init__(self, name, age):\n",
    "\t\tself.name = name\n",
    "\t\tself.age = age\n",
    "\t\n",
    "\tdef run(self):\n",
    "\t\tprint(\"Run\")\n",
    "\n",
    "player1 = PlayerCharacter(\"Nirajan\", 24)"
   ]
  },
  {
   "cell_type": "code",
   "execution_count": null,
   "id": "4d47f169",
   "metadata": {},
   "outputs": [
    {
     "name": "stdout",
     "output_type": "stream",
     "text": [
      "Run\n"
     ]
    }
   ],
   "source": [
    "player1.run()"
   ]
  },
  {
   "cell_type": "markdown",
   "id": "db6e99d1",
   "metadata": {},
   "source": [
    "#### Abstraction: \n",
    "Hiding of information or abstracting away information and giving access to only what’s necessary."
   ]
  },
  {
   "cell_type": "code",
   "execution_count": 1,
   "id": "e2f0dc43",
   "metadata": {},
   "outputs": [
    {
     "name": "stdout",
     "output_type": "stream",
     "text": [
      "Run\n",
      "Run\n"
     ]
    }
   ],
   "source": [
    "class PlayerCharacter:\n",
    "\tdef __init__(self, name, age):\n",
    "\t\tself.name = name\n",
    "\t\tself.age = age\n",
    "\t\n",
    "\tdef run(self):\n",
    "\t\tprint(\"Run\")\n",
    "\n",
    "player1 = PlayerCharacter(\"Nirajan\", 24)\n",
    "player1.run()\n",
    "\n",
    "player2 = PlayerCharacter(\"John\", 25)\n",
    "player2.run()"
   ]
  },
  {
   "cell_type": "code",
   "execution_count": 41,
   "id": "71997e36",
   "metadata": {},
   "outputs": [
    {
     "data": {
      "text/plain": [
       "'STRING'"
      ]
     },
     "execution_count": 41,
     "metadata": {},
     "output_type": "execute_result"
    }
   ],
   "source": [
    "\"string\".upper()"
   ]
  },
  {
   "cell_type": "markdown",
   "id": "db195b09",
   "metadata": {},
   "source": [
    "Here, when we call run, we don’t really care how run is implemented. All we know is that player1 has access to run method and we can use it."
   ]
  },
  {
   "cell_type": "markdown",
   "id": "456917ad",
   "metadata": {},
   "source": [
    "There is a concept of protected and private in abstraction.\n",
    "* Using the single underscore makes `protected` members or methods, but it doesn’t actually do anything other than provide suggestion to other programmers not to use them.\n",
    "* A double underscore is a bit tricker. These are refers as `private` members or methods, but they aren’t really private either since we can still access it.\n"
   ]
  },
  {
   "cell_type": "code",
   "execution_count": 4,
   "id": "6e711a20",
   "metadata": {},
   "outputs": [
    {
     "name": "stdout",
     "output_type": "stream",
     "text": [
      "24\n"
     ]
    }
   ],
   "source": [
    "class PlayerCharacter:\n",
    "    def __init__(self, name, age):\n",
    "        self._name = name        # Protected member\n",
    "        self.__age = age         # Private member\n",
    "\n",
    "    def _run(self):              # Protected method\n",
    "        print(\"Run\")\n",
    "        print(self.__age)\n",
    "\n",
    "player1 = PlayerCharacter(\"Nirajan\", 24)\n",
    "\n",
    "# Direct access to __age will raise an AttributeError\n",
    "# print(player1.__age)          # AttributeError\n",
    "\n",
    "# Correct way to access the private variable (not recommended in practice)\n",
    "print(player1._PlayerCharacter__age)  # This will print: 24\n",
    "\n",
    "# player1._run()"
   ]
  },
  {
   "cell_type": "markdown",
   "id": "c14ebde9",
   "metadata": {},
   "source": [
    "#### Inheritance\n",
    "Inheritance allows us to define a class that inherits all the methods and properties from another class.\n",
    "\n",
    "Parent class is the class being inherited from, also called base class.\n",
    "\n",
    "Child class is the class that inherits from another class, also called derived class.\n"
   ]
  },
  {
   "cell_type": "code",
   "execution_count": null,
   "id": "f290b518",
   "metadata": {},
   "outputs": [],
   "source": [
    "class User(): # Parent class\n",
    "\tdef sign_in(self):\n",
    "\t\tprint(\"logged in\")"
   ]
  },
  {
   "cell_type": "code",
   "execution_count": null,
   "id": "15eb05fa",
   "metadata": {},
   "outputs": [],
   "source": [
    "class Wizard(User): # Child class\n",
    "\tdef __init__(self, name, power):\n",
    "\t\tself.name = name\n",
    "\t\tself.power = power\n",
    "\n",
    "\tdef attack(self):\n",
    "\t\tprint(f\"attacking with power of {self.power}\")\n",
    "\t\t\n",
    "class Archer(User): # Child class\n",
    "\tdef __init__(self, name, num_arrows):\n",
    "\t\tself.name = name\n",
    "\t\tself.power = num_arrows\n",
    "\n",
    "\tdef attack(self):\n",
    "\t\tprint(\"attacking with arrows\")"
   ]
  },
  {
   "cell_type": "code",
   "execution_count": 62,
   "id": "fdd529cf",
   "metadata": {},
   "outputs": [
    {
     "name": "stdout",
     "output_type": "stream",
     "text": [
      "attacking with power of 50\n",
      "logged in\n",
      "attacking with arrows\n"
     ]
    }
   ],
   "source": [
    "wizard1 = Wizard(\"Merlin\", 50)\n",
    "wizard1.attack() # attacking with power of 50\n",
    "wizard1.sign_in()\n",
    "\n",
    "archer1 = Archer(\"Robin\", 100)\n",
    "archer1.attack() # attacking with arrows"
   ]
  },
  {
   "cell_type": "markdown",
   "id": "b45afa86",
   "metadata": {},
   "source": [
    "#### Super()\n",
    "In inheritance, when we want to use attribute from main class to sub class, we can do as:\n"
   ]
  },
  {
   "cell_type": "code",
   "execution_count": 5,
   "id": "f4442af1",
   "metadata": {},
   "outputs": [
    {
     "name": "stdout",
     "output_type": "stream",
     "text": [
      "nirajan@gmail.com\n"
     ]
    }
   ],
   "source": [
    "class User(): # Parent class\n",
    "\tdef __init__(self, email, address):\n",
    "\t\tself.email = email\n",
    "\t\tself.address = address\n",
    "\n",
    "\tdef attack(self):\n",
    "\t\tprint(\"do nothing\")\n",
    "\n",
    "class Wizard(User): # Child class\n",
    "\tdef __init__(self, name, power, email, address):\n",
    "\t\tsuper().__init__(email, address) # can also be done by User.__init__(self, email, address)\n",
    "\t\tself.name = name\n",
    "\t\tself.power = power\n",
    "\n",
    "\tdef attack(self):\n",
    "\t\tprint(f\"attacking with power of {self.power}\")\n",
    "\n",
    "wizard1 = Wizard(\"Nirajan\", 50, \"nirajan@gmail.com\", \"Bhaktapur\")\n",
    "print(wizard1.email) # nirajan@gmail.com"
   ]
  },
  {
   "cell_type": "markdown",
   "id": "22327213",
   "metadata": {},
   "source": [
    "#### Multiple Inheritance\n",
    "Allows a class to inherit from more than one parent class."
   ]
  },
  {
   "cell_type": "code",
   "execution_count": 72,
   "id": "a0e256c4",
   "metadata": {},
   "outputs": [
    {
     "name": "stdout",
     "output_type": "stream",
     "text": [
      "Hello from A\n",
      "Run\n",
      "[<class '__main__.C'>, <class '__main__.A'>, <class '__main__.B'>, <class 'object'>]\n"
     ]
    }
   ],
   "source": [
    "class A:\n",
    "    def greet(self):\n",
    "        print(\"Hello from A\")\n",
    "\n",
    "class B:\n",
    "    def greet(self):\n",
    "        print(\"Hello from B\")\n",
    "\n",
    "    def run(self):\n",
    "        print(\"Run\")\n",
    "\n",
    "class C(A, B):\n",
    "    # def greet(self):\n",
    "    #     print(\"greet from C\")\n",
    "    pass\n",
    "\n",
    "obj = C()\n",
    "obj.greet()\n",
    "obj.run() # Hello from A\n",
    "\n",
    "print(C.mro())"
   ]
  },
  {
   "cell_type": "markdown",
   "id": "dc5b95fe",
   "metadata": {},
   "source": [
    "The reason C.greet() calls the method from A is because of Python's Method Resolution Order (MRO), which determines the order in which classes are searched when executing a method. MRO is left-to-right, depth-first (C3 linearization).\n",
    "\n",
    "No need to know this algorithm."
   ]
  },
  {
   "cell_type": "code",
   "execution_count": 66,
   "id": "00efe449",
   "metadata": {},
   "outputs": [
    {
     "name": "stdout",
     "output_type": "stream",
     "text": [
      "(<class '__main__.C'>, <class '__main__.A'>, <class '__main__.B'>, <class 'object'>)\n",
      "[<class '__main__.C'>, <class '__main__.A'>, <class '__main__.B'>, <class 'object'>]\n"
     ]
    }
   ],
   "source": [
    "print(C.__mro__)\n",
    "# OR\n",
    "print(C.mro()) # (<class '__main__.C'>, <class '__main__.A'>, <class '__main__.B'>, <class 'object'>)"
   ]
  },
  {
   "cell_type": "markdown",
   "id": "6d873544",
   "metadata": {},
   "source": [
    "#### Polymorphism\n",
    "* Poly means many and morphism means form so polymorphism means having many form.\n",
    "* In python, polymorphism refers to the way in which object classes can share the same method name. But these method names can act differently based on what object calls them.\n"
   ]
  },
  {
   "cell_type": "code",
   "execution_count": 6,
   "id": "e6c980ce",
   "metadata": {},
   "outputs": [],
   "source": [
    "class User: # Parent class\n",
    "\tdef sign_in(self):\n",
    "\t\tprint(\"logged in\")\n",
    "\n",
    "\tdef attack(self):\n",
    "\t\tprint(\"so nothing\")\n",
    "\t\t\n",
    "class Wizard(User): # Child class\n",
    "\tdef __init__(self, name, power):\n",
    "\t\tself.name = name\n",
    "\t\tself.power = power\n",
    "\n",
    "\tdef attack(self):\n",
    "\t\tprint(f\"attacking with power of {self.power}\")\n",
    "\t\t\n",
    "\tdef greet(self):\n",
    "\t\tprint(\"hello\")\n",
    "\n",
    "class Archer(User): # Child class\n",
    "\tdef __init__(self, name, num_arrows):\n",
    "\t\tself.name = name\n",
    "\t\tself.power = num_arrows\n",
    "\n",
    "\tdef attack(self):\n",
    "\t\tprint(\"attacking with arrows\")"
   ]
  },
  {
   "cell_type": "code",
   "execution_count": 7,
   "id": "4b9742d7",
   "metadata": {},
   "outputs": [
    {
     "name": "stdout",
     "output_type": "stream",
     "text": [
      "attacking with power of 50\n",
      "attacking with arrows\n"
     ]
    }
   ],
   "source": [
    "wizard1 = Wizard(\"Merlin\", 50) \n",
    "archer1 = Archer(\"Robin\", 100)\n",
    "\n",
    "wizard1.attack() # attacking with power of 50\n",
    "archer1.attack() # attacking with arrows"
   ]
  },
  {
   "cell_type": "markdown",
   "id": "1b810a8e",
   "metadata": {},
   "source": [
    "### Dunder Methods (Magic method)\n",
    "* Special methods that starts and end with double underscores.\n",
    "* When we add two numbers using the + operator, internally the `__add__()` method will be called.\n",
    "* We can modify dunder methods for specific class. We usually don’t modify dunder method but there are some cases when we have to.\n"
   ]
  },
  {
   "cell_type": "code",
   "execution_count": null,
   "id": "7c5272e5",
   "metadata": {},
   "outputs": [],
   "source": []
  }
 ],
 "metadata": {
  "kernelspec": {
   "display_name": "python_tutorial",
   "language": "python",
   "name": "python3"
  },
  "language_info": {
   "codemirror_mode": {
    "name": "ipython",
    "version": 3
   },
   "file_extension": ".py",
   "mimetype": "text/x-python",
   "name": "python",
   "nbconvert_exporter": "python",
   "pygments_lexer": "ipython3",
   "version": "3.13.4"
  }
 },
 "nbformat": 4,
 "nbformat_minor": 5
}
