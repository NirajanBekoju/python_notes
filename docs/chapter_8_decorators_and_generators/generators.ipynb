{
 "cells": [
  {
   "cell_type": "markdown",
   "id": "1e4979e3",
   "metadata": {},
   "source": [
    "## Basic Generator"
   ]
  },
  {
   "cell_type": "code",
   "execution_count": null,
   "id": "87fe2238",
   "metadata": {},
   "outputs": [
    {
     "name": "stdout",
     "output_type": "stream",
     "text": [
      "<class 'list'>\n",
      "[1, 4, 25, 49, 4, 9]\n"
     ]
    }
   ],
   "source": [
    "l1 = [1, 2, 5, 7, 2, 3]\n",
    "output_l1 = [x ** 2 for x in l1]\n",
    "\n",
    "print(type(output_l1)) ## <class 'list'>\n",
    "print(output_l1) ## [1, 4, 25, 49, 4, 9]"
   ]
  },
  {
   "cell_type": "code",
   "execution_count": 5,
   "id": "934ed9d6",
   "metadata": {},
   "outputs": [
    {
     "name": "stdout",
     "output_type": "stream",
     "text": [
      "<class 'generator'>\n"
     ]
    }
   ],
   "source": [
    "l1 = [1, 2, 5, 7, 2, 3]\n",
    "generator_example = (x ** 2 for x in l1)\n",
    "\n",
    "print(type(generator_example)) ## <class 'generator'>"
   ]
  },
  {
   "cell_type": "code",
   "execution_count": 6,
   "id": "87123c4d",
   "metadata": {},
   "outputs": [
    {
     "name": "stdout",
     "output_type": "stream",
     "text": [
      "1\n",
      "4\n",
      "25\n",
      "49\n",
      "4\n",
      "9\n"
     ]
    }
   ],
   "source": [
    "for num in generator_example:\n",
    "    print(num)"
   ]
  },
  {
   "cell_type": "markdown",
   "id": "8a142ac7",
   "metadata": {},
   "source": [
    "## Generator Function"
   ]
  },
  {
   "cell_type": "code",
   "execution_count": 11,
   "id": "ac03de1e",
   "metadata": {},
   "outputs": [],
   "source": [
    "def my_generator(n):\n",
    "    value = 0\n",
    "    while value < n:\n",
    "        yield value\n",
    "        value += 1"
   ]
  },
  {
   "cell_type": "code",
   "execution_count": 22,
   "id": "a4db2976",
   "metadata": {},
   "outputs": [
    {
     "name": "stdout",
     "output_type": "stream",
     "text": [
      "0\n",
      "1\n",
      "2\n",
      "3\n",
      "4\n"
     ]
    }
   ],
   "source": [
    "k = 5\n",
    "gen = my_generator(k)\n",
    "\n",
    "for num in gen:\n",
    "    print(num)"
   ]
  },
  {
   "cell_type": "code",
   "execution_count": 23,
   "id": "2966478b",
   "metadata": {},
   "outputs": [],
   "source": [
    "gen_list = list(range(k))"
   ]
  },
  {
   "cell_type": "markdown",
   "id": "df89135f",
   "metadata": {},
   "source": [
    "#### Memory Efficiency"
   ]
  },
  {
   "cell_type": "code",
   "execution_count": 24,
   "id": "7bc9cb32",
   "metadata": {},
   "outputs": [
    {
     "name": "stdout",
     "output_type": "stream",
     "text": [
      "Memory used by generator: 192 bytes\n",
      "Memory used by list     : 104 bytes\n"
     ]
    }
   ],
   "source": [
    "import sys \n",
    "\n",
    "print(\"Memory used by generator:\", sys.getsizeof(gen), \"bytes\")\n",
    "print(\"Memory used by list     :\", sys.getsizeof(gen_list), \"bytes\")"
   ]
  },
  {
   "cell_type": "markdown",
   "id": "a08c26c1",
   "metadata": {},
   "source": [
    "## Stop Iteration Error"
   ]
  },
  {
   "cell_type": "code",
   "execution_count": 5,
   "id": "bca0971e",
   "metadata": {},
   "outputs": [],
   "source": [
    "def fun1():\n",
    "    yield 1\n",
    "    yield 2 "
   ]
  },
  {
   "cell_type": "code",
   "execution_count": null,
   "id": "dcba254d",
   "metadata": {},
   "outputs": [],
   "source": [
    "generator = fun1()\n",
    "\n",
    "print(next(generator)) # 1\n",
    "print(next(generator)) # 2 \n",
    "print(next(generator)) # Stop Iteration Error"
   ]
  },
  {
   "cell_type": "markdown",
   "id": "9a67251c",
   "metadata": {},
   "source": [
    "## Generator Function Using Class"
   ]
  },
  {
   "cell_type": "code",
   "execution_count": 27,
   "id": "2b82a334",
   "metadata": {},
   "outputs": [],
   "source": [
    "class CountUpTo:\n",
    "    def __init__(self, max):\n",
    "        self.max = max\n",
    "        self.current = 0\n",
    "\n",
    "    def __iter__(self): ## This dunder method makes the Class iterable\n",
    "        return self  \n",
    "\n",
    "    def __next__(self): ## This generates the next value of the Generator\n",
    "        if self.current < self.max:\n",
    "            num = self.current\n",
    "            self.current += 1\n",
    "            return num\n",
    "        else:\n",
    "            raise StopIteration  # Signals the end of the iteration"
   ]
  },
  {
   "cell_type": "code",
   "execution_count": 28,
   "id": "bd89f62b",
   "metadata": {},
   "outputs": [
    {
     "name": "stdout",
     "output_type": "stream",
     "text": [
      "0\n",
      "1\n",
      "2\n",
      "3\n",
      "4\n"
     ]
    }
   ],
   "source": [
    "# Using the generator class\n",
    "counter = CountUpTo(5)\n",
    "for num in counter:\n",
    "    print(num)"
   ]
  },
  {
   "cell_type": "markdown",
   "id": "b5d9600f",
   "metadata": {},
   "source": [
    "## Exercise\n",
    "\n",
    "#### 1. Create a generator function char_by_char(text) that yields one character at a time from a given string.\n",
    "\n",
    "#### 2. Create a generator function to yield fibonacci numbers.\n",
    "\n",
    "```\n",
    "Template:\n",
    "def fibonacci_generator(n):\n",
    "    pass\n",
    "\n",
    "\n",
    "for num in fibonacci_generator(7):\n",
    "    print(num)\n",
    "\n",
    "Output:\n",
    "0\n",
    "1\n",
    "1\n",
    "2\n",
    "3\n",
    "5\n",
    "8\n",
    "```"
   ]
  }
 ],
 "metadata": {
  "kernelspec": {
   "display_name": "python_tutorial",
   "language": "python",
   "name": "python3"
  },
  "language_info": {
   "codemirror_mode": {
    "name": "ipython",
    "version": 3
   },
   "file_extension": ".py",
   "mimetype": "text/x-python",
   "name": "python",
   "nbconvert_exporter": "python",
   "pygments_lexer": "ipython3",
   "version": "3.13.4"
  }
 },
 "nbformat": 4,
 "nbformat_minor": 5
}
