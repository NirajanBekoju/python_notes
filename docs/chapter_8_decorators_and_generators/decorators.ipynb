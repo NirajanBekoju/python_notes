{
 "cells": [
  {
   "cell_type": "markdown",
   "id": "9491a6f7",
   "metadata": {},
   "source": [
    "## Function Call vs Function Object"
   ]
  },
  {
   "cell_type": "code",
   "execution_count": null,
   "id": "83a48048",
   "metadata": {},
   "outputs": [],
   "source": [
    "def add(x, y):\n",
    "    return x + y\n",
    "\n",
    "f = add  # f is now a reference to the function 'add'\n",
    "print(f(3, 4))  # prints 7"
   ]
  },
  {
   "cell_type": "markdown",
   "id": "bd38e67b",
   "metadata": {},
   "source": [
    "## Pass Function as an Argument"
   ]
  },
  {
   "cell_type": "code",
   "execution_count": 5,
   "id": "a0ed9881",
   "metadata": {},
   "outputs": [
    {
     "name": "stdout",
     "output_type": "stream",
     "text": [
      "30\n"
     ]
    }
   ],
   "source": [
    "## Argument and Parameter in Normal Function\n",
    "\n",
    "def add(x, y):  ## x, y are the parameters of this function\n",
    "    return x + y\n",
    "\n",
    "addition_result = add(10, 20) ## 10, 20 are the arguments\n",
    "print(addition_result) # pring 30"
   ]
  },
  {
   "cell_type": "code",
   "execution_count": 6,
   "id": "e89fcb74",
   "metadata": {},
   "outputs": [
    {
     "name": "stdout",
     "output_type": "stream",
     "text": [
      "10\n"
     ]
    }
   ],
   "source": [
    "## Example of PASS FUNCTION AS AN ARGUMENT\n",
    "#### We will pass this add(...) function as an argument in calculate() function\n",
    "def add(x, y):\n",
    "    return x + y\n",
    "\n",
    "def calculate(func, x, y):\n",
    "    return func(x, y)\n",
    "\n",
    "result = calculate(add, 4, 6)\n",
    "print(result)  # prints 10"
   ]
  },
  {
   "cell_type": "markdown",
   "id": "1a90a681",
   "metadata": {},
   "source": [
    "## Nested Function"
   ]
  },
  {
   "cell_type": "code",
   "execution_count": 7,
   "id": "ed30a7ab",
   "metadata": {},
   "outputs": [
    {
     "name": "stdout",
     "output_type": "stream",
     "text": [
      "i=1, j=1\n",
      "i=1, j=2\n",
      "i=1, j=3\n",
      "i=2, j=1\n",
      "i=2, j=2\n",
      "i=2, j=3\n",
      "i=3, j=1\n",
      "i=3, j=2\n",
      "i=3, j=3\n"
     ]
    }
   ],
   "source": [
    "# Nested for loop example\n",
    "for i in range(1, 4):  # Outer loop\n",
    "   for j in range(1, 4):  # Inner loop\n",
    "       print(f\"i={i}, j={j}\")"
   ]
  },
  {
   "cell_type": "code",
   "execution_count": 8,
   "id": "5142d8c6",
   "metadata": {},
   "outputs": [
    {
     "name": "stdout",
     "output_type": "stream",
     "text": [
      "11\n"
     ]
    }
   ],
   "source": [
    "### Nested Function Example\n",
    "def outer(x):   ## Outer Function\n",
    "    def inner(y):  ## Inner Function\n",
    "        return x + y\n",
    "    return inner\n",
    "\n",
    "add_five = outer(5)\n",
    "result = add_five(6)\n",
    "print(result)  # prints 11"
   ]
  },
  {
   "cell_type": "markdown",
   "id": "f42d83f5",
   "metadata": {},
   "source": [
    "## Return a Function as a Value"
   ]
  },
  {
   "cell_type": "code",
   "execution_count": null,
   "id": "026274e1",
   "metadata": {},
   "outputs": [
    {
     "name": "stdout",
     "output_type": "stream",
     "text": [
      "Hello, Atlantis!\n"
     ]
    }
   ],
   "source": [
    "## An Example of Nested Function\n",
    "def greeting(name):  ## Outer Function\n",
    "    def hello(): ## Inner Function\n",
    "        return \"Hello, \" + name + \"!\"\n",
    "    return hello\n",
    "\n",
    "greet = greeting(\"Atlantis\")\n",
    "print(greet())  # prints \"Hello, Atlantis!\""
   ]
  },
  {
   "cell_type": "markdown",
   "id": "395a873e",
   "metadata": {},
   "source": [
    "## Python Decorators"
   ]
  },
  {
   "cell_type": "code",
   "execution_count": null,
   "id": "eb41f3a8",
   "metadata": {},
   "outputs": [],
   "source": [
    "## Because This function takes a function as an argument and return a function object after decorating the original function\n",
    "## This is the Decorator Function\n",
    "def make_pretty(func): \n",
    "    def inner():\n",
    "        print(\"I got decorated\")\n",
    "        func()\n",
    "    return inner\n",
    "\n",
    "\n",
    "## we will decorate this function use make_pretty decorator\n",
    "def ordinary():\n",
    "    print(\"I am ordinary\")"
   ]
  },
  {
   "cell_type": "code",
   "execution_count": 15,
   "id": "5660e6f2",
   "metadata": {},
   "outputs": [
    {
     "name": "stdout",
     "output_type": "stream",
     "text": [
      "I got decorated\n",
      "I am ordinary\n"
     ]
    }
   ],
   "source": [
    "decorated_func = make_pretty(ordinary)\n",
    "decorated_func()"
   ]
  },
  {
   "cell_type": "markdown",
   "id": "471d2d23",
   "metadata": {},
   "source": [
    "## @Symbol with a Decorator"
   ]
  },
  {
   "cell_type": "code",
   "execution_count": 16,
   "id": "aff71d3a",
   "metadata": {},
   "outputs": [
    {
     "name": "stdout",
     "output_type": "stream",
     "text": [
      "I got decorated\n",
      "I am ordinary\n"
     ]
    }
   ],
   "source": [
    "def make_pretty(func):\n",
    "\n",
    "    def inner():\n",
    "        print(\"I got decorated\")\n",
    "        func()\n",
    "    return inner\n",
    "\n",
    "@make_pretty\n",
    "def ordinary():\n",
    "    print(\"I am ordinary\")\n",
    "\n",
    "ordinary()  "
   ]
  },
  {
   "cell_type": "markdown",
   "id": "9f69b27a",
   "metadata": {},
   "source": [
    "## Exercise\n",
    "\n",
    "#### 1. Create a Decorator to Print Before and After a Function Call\n",
    "\n",
    "**Goal:**  \n",
    "Write a decorator named `announce` that prints a message **before** and **after** the decorated function is called.\n",
    "\n",
    "---\n",
    "\n",
    "### Instructions:\n",
    "\n",
    "1. Define a decorator function `announce` that:\n",
    "   - Takes a function as an argument.\n",
    "   - Defines an inner wrapper function that:\n",
    "     - Prints `\"Starting the function...\"`.\n",
    "     - Calls the original function.\n",
    "     - Prints `\"Function finished!\"`.\n",
    "   - Returns the wrapper function.\n",
    "\n",
    "2. Apply the `announce` decorator to a simple function `greet()` that prints `\"Hello, world!\"`.\n",
    "\n",
    "3. Call the decorated `greet()` function and observe the output.\n",
    "\n",
    "---\n",
    "\n",
    "### Starter code:\n",
    "\n",
    "```python\n",
    "def announce(func):\n",
    "    # Define your wrapper function here\n",
    "    pass\n",
    "\n",
    "@announce\n",
    "def greet():\n",
    "    print(\"Hello, world!\")\n",
    "\n",
    "greet()\n"
   ]
  },
  {
   "cell_type": "code",
   "execution_count": null,
   "id": "ad0c6fd8",
   "metadata": {},
   "outputs": [],
   "source": []
  }
 ],
 "metadata": {
  "kernelspec": {
   "display_name": "python_tutorial",
   "language": "python",
   "name": "python3"
  },
  "language_info": {
   "codemirror_mode": {
    "name": "ipython",
    "version": 3
   },
   "file_extension": ".py",
   "mimetype": "text/x-python",
   "name": "python",
   "nbconvert_exporter": "python",
   "pygments_lexer": "ipython3",
   "version": "3.13.4"
  }
 },
 "nbformat": 4,
 "nbformat_minor": 5
}
